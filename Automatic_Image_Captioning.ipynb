{
  "nbformat": 4,
  "nbformat_minor": 0,
  "metadata": {
    "kernelspec": {
      "display_name": "Python 3",
      "language": "python",
      "name": "python3"
    },
    "language_info": {
      "codemirror_mode": {
        "name": "ipython",
        "version": 3
      },
      "file_extension": ".py",
      "mimetype": "text/x-python",
      "name": "python",
      "nbconvert_exporter": "python",
      "pygments_lexer": "ipython3",
      "version": "3.6.5"
    },
    "colab": {
      "name": "Automatic_Image_Captioning.ipynb",
      "version": "0.3.2",
      "provenance": [],
      "collapsed_sections": [],
      "include_colab_link": true
    }
  },
  "cells": [
    {
      "cell_type": "markdown",
      "metadata": {
        "id": "view-in-github",
        "colab_type": "text"
      },
      "source": [
        "<a href=\"https://colab.research.google.com/github/SaurabhPPatel/AIML-Saurabh/blob/master/Automatic_Image_Captioning.ipynb\" target=\"_parent\"><img src=\"https://colab.research.google.com/assets/colab-badge.svg\" alt=\"Open In Colab\"/></a>"
      ]
    },
    {
      "cell_type": "code",
      "metadata": {
        "id": "iyvVnZpEPhUV",
        "colab_type": "code",
        "outputId": "4de97ac6-652f-4938-df79-f14c02907974",
        "colab": {
          "base_uri": "https://localhost:8080/",
          "height": 34
        }
      },
      "source": [
        "import numpy as np\n",
        "from numpy import array\n",
        "import pandas as pd\n",
        "import matplotlib.pyplot as plt\n",
        "%matplotlib inline\n",
        "import string\n",
        "import os\n",
        "from PIL import Image\n",
        "import glob\n",
        "from pickle import dump, load\n",
        "from time import time\n",
        "from keras.preprocessing import sequence\n",
        "from keras.models import Sequential\n",
        "from keras.layers import LSTM, Embedding, TimeDistributed, Dense, RepeatVector,\\\n",
        "                         Activation, Flatten, Reshape, concatenate, Dropout, BatchNormalization\n",
        "from keras.optimizers import Adam, RMSprop\n",
        "from keras.layers.wrappers import Bidirectional\n",
        "from keras.layers.merge import add\n",
        "from keras.applications.inception_v3 import InceptionV3\n",
        "from keras.preprocessing import image\n",
        "from keras.models import Model\n",
        "from keras import Input, layers\n",
        "from keras import optimizers\n",
        "from keras.applications.inception_v3 import preprocess_input\n",
        "from keras.preprocessing.text import Tokenizer\n",
        "from keras.preprocessing.sequence import pad_sequences\n",
        "from keras.utils import to_categorical\n",
        "from pickle import dump"
      ],
      "execution_count": 0,
      "outputs": [
        {
          "output_type": "stream",
          "text": [
            "Using TensorFlow backend.\n"
          ],
          "name": "stderr"
        }
      ]
    },
    {
      "cell_type": "code",
      "metadata": {
        "id": "hXqbYAkuPlC_",
        "colab_type": "code",
        "outputId": "1ca51adb-4207-466e-fc10-b58913755375",
        "colab": {
          "base_uri": "https://localhost:8080/",
          "height": 121
        }
      },
      "source": [
        "from google.colab import drive\n",
        "drive.mount('/content/drive')"
      ],
      "execution_count": 0,
      "outputs": [
        {
          "output_type": "stream",
          "text": [
            "Go to this URL in a browser: https://accounts.google.com/o/oauth2/auth?client_id=947318989803-6bn6qk8qdgf4n4g3pfee6491hc0brc4i.apps.googleusercontent.com&redirect_uri=urn%3Aietf%3Awg%3Aoauth%3A2.0%3Aoob&scope=email%20https%3A%2F%2Fwww.googleapis.com%2Fauth%2Fdocs.test%20https%3A%2F%2Fwww.googleapis.com%2Fauth%2Fdrive%20https%3A%2F%2Fwww.googleapis.com%2Fauth%2Fdrive.photos.readonly%20https%3A%2F%2Fwww.googleapis.com%2Fauth%2Fpeopleapi.readonly&response_type=code\n",
            "\n",
            "Enter your authorization code:\n",
            "··········\n",
            "Mounted at /content/drive\n"
          ],
          "name": "stdout"
        }
      ]
    },
    {
      "cell_type": "code",
      "metadata": {
        "id": "9oODYMFoP3lT",
        "colab_type": "code",
        "colab": {}
      },
      "source": [
        "project_path = \"/content/drive/My Drive/Capstone/\""
      ],
      "execution_count": 0,
      "outputs": []
    },
    {
      "cell_type": "code",
      "metadata": {
        "id": "sWyI2Y8oPhUf",
        "colab_type": "code",
        "outputId": "4e9ff5d2-d0d7-4394-af25-fcfa674a63c3",
        "colab": {
          "base_uri": "https://localhost:8080/",
          "height": 84
        }
      },
      "source": [
        "# load doc into memory\n",
        "def load_doc(filename):\n",
        "\t# open the file as read only\n",
        "\tfile = open(filename, 'r')\n",
        "\t# read all text\n",
        "\ttext = file.read()\n",
        "\t# close the file\n",
        "\tfile.close()\n",
        "\treturn text\n",
        "\n",
        "filename = \"TextFiles/Flickr8k.token.txt\"\n",
        "# load descriptions\n",
        "doc = load_doc(project_path+filename)\n",
        "print(doc[:300])"
      ],
      "execution_count": 0,
      "outputs": [
        {
          "output_type": "stream",
          "text": [
            "1000268201_693b08cb0e.jpg#0\tA child in a pink dress is climbing up a set of stairs in an entry way .\n",
            "1000268201_693b08cb0e.jpg#1\tA girl going into a wooden building .\n",
            "1000268201_693b08cb0e.jpg#2\tA little girl climbing into a wooden playhouse .\n",
            "1000268201_693b08cb0e.jpg#3\tA little girl climbing the s\n"
          ],
          "name": "stdout"
        }
      ]
    },
    {
      "cell_type": "code",
      "metadata": {
        "id": "uXkeVuePPhUi",
        "colab_type": "code",
        "outputId": "5a0d7dc2-1c16-4130-b231-d94f059b6a08",
        "colab": {
          "base_uri": "https://localhost:8080/",
          "height": 34
        }
      },
      "source": [
        "def load_descriptions(doc):\n",
        "\tmapping = dict()\n",
        "\t# process lines\n",
        "\tfor line in doc.split('\\n'):\n",
        "\t\t# split line by white space\n",
        "\t\ttokens = line.split()\n",
        "\t\tif len(line) < 2:\n",
        "\t\t\tcontinue\n",
        "\t\t# take the first token as the image id, the rest as the description\n",
        "\t\timage_id, image_desc = tokens[0], tokens[1:]\n",
        "\t\t# extract filename from image id\n",
        "\t\timage_id = image_id.split('.')[0]\n",
        "\t\t# convert description tokens back to string\n",
        "\t\timage_desc = ' '.join(image_desc)\n",
        "\t\t# create the list if needed\n",
        "\t\tif image_id not in mapping:\n",
        "\t\t\tmapping[image_id] = list()\n",
        "\t\t# store description\n",
        "\t\tmapping[image_id].append(image_desc)\n",
        "\treturn mapping\n",
        "\n",
        "# parse descriptions\n",
        "descriptions = load_descriptions(doc)\n",
        "print('Loaded: %d ' % len(descriptions))"
      ],
      "execution_count": 0,
      "outputs": [
        {
          "output_type": "stream",
          "text": [
            "Loaded: 8092 \n"
          ],
          "name": "stdout"
        }
      ]
    },
    {
      "cell_type": "code",
      "metadata": {
        "id": "uX_sSw8XPhUn",
        "colab_type": "code",
        "outputId": "86b1fa69-02bf-4fcd-f789-a59212f59f90",
        "colab": {
          "base_uri": "https://localhost:8080/",
          "height": 101
        }
      },
      "source": [
        "list(descriptions.keys())[:5]"
      ],
      "execution_count": 0,
      "outputs": [
        {
          "output_type": "execute_result",
          "data": {
            "text/plain": [
              "['1000268201_693b08cb0e',\n",
              " '1001773457_577c3a7d70',\n",
              " '1002674143_1b742ab4b8',\n",
              " '1003163366_44323f5815',\n",
              " '1007129816_e794419615']"
            ]
          },
          "metadata": {
            "tags": []
          },
          "execution_count": 7
        }
      ]
    },
    {
      "cell_type": "code",
      "metadata": {
        "id": "qGwjJknzPhUq",
        "colab_type": "code",
        "outputId": "8275c7f1-c12b-4e92-cc3c-f0f8a443cbff",
        "colab": {
          "base_uri": "https://localhost:8080/",
          "height": 101
        }
      },
      "source": [
        "descriptions['1000268201_693b08cb0e']"
      ],
      "execution_count": 0,
      "outputs": [
        {
          "output_type": "execute_result",
          "data": {
            "text/plain": [
              "['A child in a pink dress is climbing up a set of stairs in an entry way .',\n",
              " 'A girl going into a wooden building .',\n",
              " 'A little girl climbing into a wooden playhouse .',\n",
              " 'A little girl climbing the stairs to her playhouse .',\n",
              " 'A little girl in a pink dress going into a wooden cabin .']"
            ]
          },
          "metadata": {
            "tags": []
          },
          "execution_count": 8
        }
      ]
    },
    {
      "cell_type": "code",
      "metadata": {
        "id": "35R6Jw1jPhUs",
        "colab_type": "code",
        "outputId": "6b2c60cc-2edc-4ef7-a9a6-dc85022ba0b1",
        "colab": {
          "base_uri": "https://localhost:8080/",
          "height": 101
        }
      },
      "source": [
        "descriptions['1001773457_577c3a7d70']"
      ],
      "execution_count": 0,
      "outputs": [
        {
          "output_type": "execute_result",
          "data": {
            "text/plain": [
              "['A black dog and a spotted dog are fighting',\n",
              " 'A black dog and a tri-colored dog playing with each other on the road .',\n",
              " 'A black dog and a white dog with brown spots are staring at each other in the street .',\n",
              " 'Two dogs of different breeds looking at each other on the road .',\n",
              " 'Two dogs on pavement moving toward each other .']"
            ]
          },
          "metadata": {
            "tags": []
          },
          "execution_count": 9
        }
      ]
    },
    {
      "cell_type": "code",
      "metadata": {
        "id": "2BduqInYPhUv",
        "colab_type": "code",
        "colab": {}
      },
      "source": [
        "def clean_descriptions(descriptions):\n",
        "\t# prepare translation table for removing punctuation\n",
        "\ttable = str.maketrans('', '', string.punctuation)\n",
        "\tfor key, desc_list in descriptions.items():\n",
        "\t\tfor i in range(len(desc_list)):\n",
        "\t\t\tdesc = desc_list[i]\n",
        "\t\t\t# tokenize\n",
        "\t\t\tdesc = desc.split()\n",
        "\t\t\t# convert to lower case\n",
        "\t\t\tdesc = [word.lower() for word in desc]\n",
        "\t\t\t# remove punctuation from each token\n",
        "\t\t\tdesc = [w.translate(table) for w in desc]\n",
        "\t\t\t# remove hanging 's' and 'a'\n",
        "\t\t\tdesc = [word for word in desc if len(word)>1]\n",
        "\t\t\t# remove tokens with numbers in them\n",
        "\t\t\tdesc = [word for word in desc if word.isalpha()]\n",
        "\t\t\t# store as string\n",
        "\t\t\tdesc_list[i] =  ' '.join(desc)\n",
        "\n",
        "# clean descriptions\n",
        "clean_descriptions(descriptions)"
      ],
      "execution_count": 0,
      "outputs": []
    },
    {
      "cell_type": "code",
      "metadata": {
        "id": "M9JBbRbFPhUx",
        "colab_type": "code",
        "outputId": "ed489516-5460-41fd-8035-e95204b57c94",
        "colab": {
          "base_uri": "https://localhost:8080/",
          "height": 101
        }
      },
      "source": [
        "descriptions['1000268201_693b08cb0e']"
      ],
      "execution_count": 0,
      "outputs": [
        {
          "output_type": "execute_result",
          "data": {
            "text/plain": [
              "['child in pink dress is climbing up set of stairs in an entry way',\n",
              " 'girl going into wooden building',\n",
              " 'little girl climbing into wooden playhouse',\n",
              " 'little girl climbing the stairs to her playhouse',\n",
              " 'little girl in pink dress going into wooden cabin']"
            ]
          },
          "metadata": {
            "tags": []
          },
          "execution_count": 11
        }
      ]
    },
    {
      "cell_type": "code",
      "metadata": {
        "id": "ZcRZwaU4PhU0",
        "colab_type": "code",
        "outputId": "4a702f51-8860-4f0c-8f2e-5df774236bbb",
        "colab": {
          "base_uri": "https://localhost:8080/",
          "height": 101
        }
      },
      "source": [
        "descriptions['1001773457_577c3a7d70']"
      ],
      "execution_count": 0,
      "outputs": [
        {
          "output_type": "execute_result",
          "data": {
            "text/plain": [
              "['black dog and spotted dog are fighting',\n",
              " 'black dog and tricolored dog playing with each other on the road',\n",
              " 'black dog and white dog with brown spots are staring at each other in the street',\n",
              " 'two dogs of different breeds looking at each other on the road',\n",
              " 'two dogs on pavement moving toward each other']"
            ]
          },
          "metadata": {
            "tags": []
          },
          "execution_count": 12
        }
      ]
    },
    {
      "cell_type": "code",
      "metadata": {
        "id": "UHFcZZyhPhU2",
        "colab_type": "code",
        "outputId": "785a0c07-3c7c-4b59-cffb-2e335614f7fd",
        "colab": {
          "base_uri": "https://localhost:8080/",
          "height": 34
        }
      },
      "source": [
        "# convert the loaded descriptions into a vocabulary of words\n",
        "def to_vocabulary(descriptions):\n",
        "\t# build a list of all description strings\n",
        "\tall_desc = set()\n",
        "\tfor key in descriptions.keys():\n",
        "\t\t[all_desc.update(d.split()) for d in descriptions[key]]\n",
        "\treturn all_desc\n",
        "\n",
        "# summarize vocabulary\n",
        "vocabulary = to_vocabulary(descriptions)\n",
        "print('Original Vocabulary Size: %d' % len(vocabulary))"
      ],
      "execution_count": 0,
      "outputs": [
        {
          "output_type": "stream",
          "text": [
            "Original Vocabulary Size: 8763\n"
          ],
          "name": "stdout"
        }
      ]
    },
    {
      "cell_type": "code",
      "metadata": {
        "id": "OuAtUmXGPhU6",
        "colab_type": "code",
        "colab": {}
      },
      "source": [
        "# save descriptions to file, one per line\n",
        "def save_descriptions(descriptions, filename):\n",
        "\tlines = list()\n",
        "\tfor key, desc_list in descriptions.items():\n",
        "\t\tfor desc in desc_list:\n",
        "\t\t\tlines.append(key + ' ' + desc)\n",
        "\tdata = '\\n'.join(lines)\n",
        "\tfile = open(filename, 'w')\n",
        "\tfile.write(data)\n",
        "\tfile.close()\n",
        "\n",
        "save_descriptions(descriptions, project_path+'descriptions.txt')"
      ],
      "execution_count": 0,
      "outputs": []
    },
    {
      "cell_type": "code",
      "metadata": {
        "id": "W7q6HOupPhU8",
        "colab_type": "code",
        "outputId": "d8a8d38f-9087-4d6e-f349-a739291114c7",
        "colab": {
          "base_uri": "https://localhost:8080/",
          "height": 34
        }
      },
      "source": [
        "# load a pre-defined list of photo identifiers\n",
        "def load_set(filename):\n",
        "\tdoc = load_doc(filename)\n",
        "\tdataset = list()\n",
        "\t# process line by line\n",
        "\tfor line in doc.split('\\n'):\n",
        "\t\t# skip empty lines\n",
        "\t\tif len(line) < 1:\n",
        "\t\t\tcontinue\n",
        "\t\t# get the image identifier\n",
        "\t\tidentifier = line.split('.')[0]\n",
        "\t\tdataset.append(identifier)\n",
        "\treturn set(dataset)\n",
        "\n",
        "# load training dataset (6K)\n",
        "filename = project_path+'TextFiles/Flickr_8k.trainImages.txt'\n",
        "train = load_set(filename)\n",
        "print('Dataset: %d' % len(train))"
      ],
      "execution_count": 0,
      "outputs": [
        {
          "output_type": "stream",
          "text": [
            "Dataset: 6000\n"
          ],
          "name": "stdout"
        }
      ]
    },
    {
      "cell_type": "code",
      "metadata": {
        "id": "5S6zSfWrPhU_",
        "colab_type": "code",
        "colab": {}
      },
      "source": [
        "# Below path contains all the images\n",
        "images = project_path+'Flickr8k_Dataset'+'/Flicker8k_Dataset/'\n",
        "# Create a list of all image names in the directory\n",
        "img = glob.glob(images + '*.jpg')"
      ],
      "execution_count": 0,
      "outputs": []
    },
    {
      "cell_type": "code",
      "metadata": {
        "id": "u87PchJjagpy",
        "colab_type": "code",
        "outputId": "069bf275-afd7-4be8-c12c-d48800574514",
        "colab": {
          "base_uri": "https://localhost:8080/",
          "height": 1000
        }
      },
      "source": [
        "img"
      ],
      "execution_count": 0,
      "outputs": [
        {
          "output_type": "execute_result",
          "data": {
            "text/plain": [
              "['/content/drive/My Drive/Capstone/Flickr8k_Dataset/Flicker8k_Dataset/378453580_21d688748e.jpg',\n",
              " '/content/drive/My Drive/Capstone/Flickr8k_Dataset/Flicker8k_Dataset/379006645_b9a2886b51.jpg',\n",
              " '/content/drive/My Drive/Capstone/Flickr8k_Dataset/Flicker8k_Dataset/380034515_4fbdfa6b26.jpg',\n",
              " '/content/drive/My Drive/Capstone/Flickr8k_Dataset/Flicker8k_Dataset/380041023_0dfd712ef1.jpg',\n",
              " '/content/drive/My Drive/Capstone/Flickr8k_Dataset/Flicker8k_Dataset/380515798_c2abbf46b0.jpg',\n",
              " '/content/drive/My Drive/Capstone/Flickr8k_Dataset/Flicker8k_Dataset/380527679_574749123d.jpg',\n",
              " '/content/drive/My Drive/Capstone/Flickr8k_Dataset/Flicker8k_Dataset/380537190_11d6c0a412.jpg',\n",
              " '/content/drive/My Drive/Capstone/Flickr8k_Dataset/Flicker8k_Dataset/380590140_25b9889772.jpg',\n",
              " '/content/drive/My Drive/Capstone/Flickr8k_Dataset/Flicker8k_Dataset/381052465_722e00807b.jpg',\n",
              " '/content/drive/My Drive/Capstone/Flickr8k_Dataset/Flicker8k_Dataset/381239475_044cbffa2b.jpg',\n",
              " '/content/drive/My Drive/Capstone/Flickr8k_Dataset/Flicker8k_Dataset/381275595_b429fd1639.jpg',\n",
              " '/content/drive/My Drive/Capstone/Flickr8k_Dataset/Flicker8k_Dataset/381514859_b40418d9c3.jpg',\n",
              " '/content/drive/My Drive/Capstone/Flickr8k_Dataset/Flicker8k_Dataset/381976882_0063d16d88.jpg',\n",
              " '/content/drive/My Drive/Capstone/Flickr8k_Dataset/Flicker8k_Dataset/382090166_be2c2c63e1.jpg',\n",
              " '/content/drive/My Drive/Capstone/Flickr8k_Dataset/Flicker8k_Dataset/382151094_c7376cf22b.jpg',\n",
              " '/content/drive/My Drive/Capstone/Flickr8k_Dataset/Flicker8k_Dataset/382701159_f98c1988cd.jpg',\n",
              " '/content/drive/My Drive/Capstone/Flickr8k_Dataset/Flicker8k_Dataset/383223174_7165a54c30.jpg',\n",
              " '/content/drive/My Drive/Capstone/Flickr8k_Dataset/Flicker8k_Dataset/384465370_9918873f9a.jpg',\n",
              " '/content/drive/My Drive/Capstone/Flickr8k_Dataset/Flicker8k_Dataset/384465575_31294122c0.jpg',\n",
              " '/content/drive/My Drive/Capstone/Flickr8k_Dataset/Flicker8k_Dataset/384577800_fc325af410.jpg',\n",
              " '/content/drive/My Drive/Capstone/Flickr8k_Dataset/Flicker8k_Dataset/385186343_464f5fc186.jpg',\n",
              " '/content/drive/My Drive/Capstone/Flickr8k_Dataset/Flicker8k_Dataset/385835044_4aa11f6990.jpg',\n",
              " '/content/drive/My Drive/Capstone/Flickr8k_Dataset/Flicker8k_Dataset/386160015_d4b31df68e.jpg',\n",
              " '/content/drive/My Drive/Capstone/Flickr8k_Dataset/Flicker8k_Dataset/386470686_1ae9242878.jpg',\n",
              " '/content/drive/My Drive/Capstone/Flickr8k_Dataset/Flicker8k_Dataset/386655611_1329495f97.jpg',\n",
              " '/content/drive/My Drive/Capstone/Flickr8k_Dataset/Flicker8k_Dataset/386656845_4e77c3e3da.jpg',\n",
              " '/content/drive/My Drive/Capstone/Flickr8k_Dataset/Flicker8k_Dataset/387078972_514a38dc33.jpg',\n",
              " '/content/drive/My Drive/Capstone/Flickr8k_Dataset/Flicker8k_Dataset/387830531_e89c192b92.jpg',\n",
              " '/content/drive/My Drive/Capstone/Flickr8k_Dataset/Flicker8k_Dataset/387974450_bcd205daac.jpg',\n",
              " '/content/drive/My Drive/Capstone/Flickr8k_Dataset/Flicker8k_Dataset/388386075_9ac3a89ada.jpg',\n",
              " '/content/drive/My Drive/Capstone/Flickr8k_Dataset/Flicker8k_Dataset/389643437_9a9830a3ba.jpg',\n",
              " '/content/drive/My Drive/Capstone/Flickr8k_Dataset/Flicker8k_Dataset/390360326_26f5936189.jpg',\n",
              " '/content/drive/My Drive/Capstone/Flickr8k_Dataset/Flicker8k_Dataset/390671130_09fdccd52f.jpg',\n",
              " '/content/drive/My Drive/Capstone/Flickr8k_Dataset/Flicker8k_Dataset/390986651_c801db91a0.jpg',\n",
              " '/content/drive/My Drive/Capstone/Flickr8k_Dataset/Flicker8k_Dataset/390987167_2d5905b459.jpg',\n",
              " '/content/drive/My Drive/Capstone/Flickr8k_Dataset/Flicker8k_Dataset/390992102_67fa31b22f.jpg',\n",
              " '/content/drive/My Drive/Capstone/Flickr8k_Dataset/Flicker8k_Dataset/390992388_d74daee638.jpg',\n",
              " '/content/drive/My Drive/Capstone/Flickr8k_Dataset/Flicker8k_Dataset/391020801_aaaae1e42b.jpg',\n",
              " '/content/drive/My Drive/Capstone/Flickr8k_Dataset/Flicker8k_Dataset/391106734_d374bc3080.jpg',\n",
              " '/content/drive/My Drive/Capstone/Flickr8k_Dataset/Flicker8k_Dataset/391324644_d23fdf06cb.jpg',\n",
              " '/content/drive/My Drive/Capstone/Flickr8k_Dataset/Flicker8k_Dataset/391579205_c8373b5411.jpg',\n",
              " '/content/drive/My Drive/Capstone/Flickr8k_Dataset/Flicker8k_Dataset/391723162_3bdeb7ea33.jpg',\n",
              " '/content/drive/My Drive/Capstone/Flickr8k_Dataset/Flicker8k_Dataset/392467282_00bb22e201.jpg',\n",
              " '/content/drive/My Drive/Capstone/Flickr8k_Dataset/Flicker8k_Dataset/392976422_c8d0514bc3.jpg',\n",
              " '/content/drive/My Drive/Capstone/Flickr8k_Dataset/Flicker8k_Dataset/393284934_d38e1cd6fe.jpg',\n",
              " '/content/drive/My Drive/Capstone/Flickr8k_Dataset/Flicker8k_Dataset/393810324_1c33760a95.jpg',\n",
              " '/content/drive/My Drive/Capstone/Flickr8k_Dataset/Flicker8k_Dataset/393958545_48c17c66d1.jpg',\n",
              " '/content/drive/My Drive/Capstone/Flickr8k_Dataset/Flicker8k_Dataset/393987665_91d28f0ed0.jpg',\n",
              " '/content/drive/My Drive/Capstone/Flickr8k_Dataset/Flicker8k_Dataset/394136487_4fc531b33a.jpg',\n",
              " '/content/drive/My Drive/Capstone/Flickr8k_Dataset/Flicker8k_Dataset/394161692_2576920777.jpg',\n",
              " '/content/drive/My Drive/Capstone/Flickr8k_Dataset/Flicker8k_Dataset/394463341_5311c53783.jpg',\n",
              " '/content/drive/My Drive/Capstone/Flickr8k_Dataset/Flicker8k_Dataset/394563330_68b566368c.jpg',\n",
              " '/content/drive/My Drive/Capstone/Flickr8k_Dataset/Flicker8k_Dataset/395461421_c586b136de.jpg',\n",
              " '/content/drive/My Drive/Capstone/Flickr8k_Dataset/Flicker8k_Dataset/396179143_e1511336e1.jpg',\n",
              " '/content/drive/My Drive/Capstone/Flickr8k_Dataset/Flicker8k_Dataset/396360611_941e5849a3.jpg',\n",
              " '/content/drive/My Drive/Capstone/Flickr8k_Dataset/Flicker8k_Dataset/396763804_3b7f1e12a8.jpg',\n",
              " '/content/drive/My Drive/Capstone/Flickr8k_Dataset/Flicker8k_Dataset/397286183_745abbf40d.jpg',\n",
              " '/content/drive/My Drive/Capstone/Flickr8k_Dataset/Flicker8k_Dataset/397451339_76a84bd310.jpg',\n",
              " '/content/drive/My Drive/Capstone/Flickr8k_Dataset/Flicker8k_Dataset/397547349_1fd14b95af.jpg',\n",
              " '/content/drive/My Drive/Capstone/Flickr8k_Dataset/Flicker8k_Dataset/397601572_9587a39291.jpg',\n",
              " '/content/drive/My Drive/Capstone/Flickr8k_Dataset/Flicker8k_Dataset/397725001_e51f7c391c.jpg',\n",
              " '/content/drive/My Drive/Capstone/Flickr8k_Dataset/Flicker8k_Dataset/397815951_3b02090324.jpg',\n",
              " '/content/drive/My Drive/Capstone/Flickr8k_Dataset/Flicker8k_Dataset/397982550_cf9f5cdb74.jpg',\n",
              " '/content/drive/My Drive/Capstone/Flickr8k_Dataset/Flicker8k_Dataset/398413603_166896900f.jpg',\n",
              " '/content/drive/My Drive/Capstone/Flickr8k_Dataset/Flicker8k_Dataset/398662202_97e5819b79.jpg',\n",
              " '/content/drive/My Drive/Capstone/Flickr8k_Dataset/Flicker8k_Dataset/399212516_d68046b277.jpg',\n",
              " '/content/drive/My Drive/Capstone/Flickr8k_Dataset/Flicker8k_Dataset/399246804_b4b5dc70e1.jpg',\n",
              " '/content/drive/My Drive/Capstone/Flickr8k_Dataset/Flicker8k_Dataset/399679638_d3036da331.jpg',\n",
              " '/content/drive/My Drive/Capstone/Flickr8k_Dataset/Flicker8k_Dataset/400562847_e15aba0aac.jpg',\n",
              " '/content/drive/My Drive/Capstone/Flickr8k_Dataset/Flicker8k_Dataset/400851260_5911898657.jpg',\n",
              " '/content/drive/My Drive/Capstone/Flickr8k_Dataset/Flicker8k_Dataset/401079494_562454c4d6.jpg',\n",
              " '/content/drive/My Drive/Capstone/Flickr8k_Dataset/Flicker8k_Dataset/401476986_73918145a3.jpg',\n",
              " '/content/drive/My Drive/Capstone/Flickr8k_Dataset/Flicker8k_Dataset/403523132_73b9a1a4b3.jpg',\n",
              " '/content/drive/My Drive/Capstone/Flickr8k_Dataset/Flicker8k_Dataset/403678611_73978faed7.jpg',\n",
              " '/content/drive/My Drive/Capstone/Flickr8k_Dataset/Flicker8k_Dataset/404216567_75b50b5a36.jpg',\n",
              " '/content/drive/My Drive/Capstone/Flickr8k_Dataset/Flicker8k_Dataset/404702274_fa8b3fe378.jpg',\n",
              " '/content/drive/My Drive/Capstone/Flickr8k_Dataset/Flicker8k_Dataset/404850242_3a55a4c874.jpg',\n",
              " '/content/drive/My Drive/Capstone/Flickr8k_Dataset/Flicker8k_Dataset/404890608_33f138aefa.jpg',\n",
              " '/content/drive/My Drive/Capstone/Flickr8k_Dataset/Flicker8k_Dataset/405051459_3b3a3ba5b3.jpg',\n",
              " '/content/drive/My Drive/Capstone/Flickr8k_Dataset/Flicker8k_Dataset/405253184_5f611f3880.jpg',\n",
              " '/content/drive/My Drive/Capstone/Flickr8k_Dataset/Flicker8k_Dataset/405331006_4e94e07698.jpg',\n",
              " '/content/drive/My Drive/Capstone/Flickr8k_Dataset/Flicker8k_Dataset/405534893_2d0f3b0147.jpg',\n",
              " '/content/drive/My Drive/Capstone/Flickr8k_Dataset/Flicker8k_Dataset/405534993_5158644f98.jpg',\n",
              " '/content/drive/My Drive/Capstone/Flickr8k_Dataset/Flicker8k_Dataset/405537503_f66ecc5073.jpg',\n",
              " '/content/drive/My Drive/Capstone/Flickr8k_Dataset/Flicker8k_Dataset/405615014_03be7ef618.jpg',\n",
              " '/content/drive/My Drive/Capstone/Flickr8k_Dataset/Flicker8k_Dataset/405961988_fcfe97f31e.jpg',\n",
              " '/content/drive/My Drive/Capstone/Flickr8k_Dataset/Flicker8k_Dataset/405970010_8cebaa77d3.jpg',\n",
              " '/content/drive/My Drive/Capstone/Flickr8k_Dataset/Flicker8k_Dataset/406248253_27b5eba25a.jpg',\n",
              " '/content/drive/My Drive/Capstone/Flickr8k_Dataset/Flicker8k_Dataset/406642021_9ec852eccf.jpg',\n",
              " '/content/drive/My Drive/Capstone/Flickr8k_Dataset/Flicker8k_Dataset/406901451_7eafd7568a.jpg',\n",
              " '/content/drive/My Drive/Capstone/Flickr8k_Dataset/Flicker8k_Dataset/407008823_bdd7fc6ed5.jpg',\n",
              " '/content/drive/My Drive/Capstone/Flickr8k_Dataset/Flicker8k_Dataset/407569668_19b3f8eaf6.jpg',\n",
              " '/content/drive/My Drive/Capstone/Flickr8k_Dataset/Flicker8k_Dataset/407678652_1f475acd65.jpg',\n",
              " '/content/drive/My Drive/Capstone/Flickr8k_Dataset/Flicker8k_Dataset/408233586_f2c1be3ce1.jpg',\n",
              " '/content/drive/My Drive/Capstone/Flickr8k_Dataset/Flicker8k_Dataset/408573233_1fff966798.jpg',\n",
              " '/content/drive/My Drive/Capstone/Flickr8k_Dataset/Flicker8k_Dataset/408627152_1feaa4b94e.jpg',\n",
              " '/content/drive/My Drive/Capstone/Flickr8k_Dataset/Flicker8k_Dataset/408748500_e8dc8c0c4f.jpg',\n",
              " '/content/drive/My Drive/Capstone/Flickr8k_Dataset/Flicker8k_Dataset/409327234_7b29eecb4e.jpg',\n",
              " '/content/drive/My Drive/Capstone/Flickr8k_Dataset/Flicker8k_Dataset/410042380_517ccee020.jpg',\n",
              " '/content/drive/My Drive/Capstone/Flickr8k_Dataset/Flicker8k_Dataset/410413536_11f1127c46.jpg',\n",
              " '/content/drive/My Drive/Capstone/Flickr8k_Dataset/Flicker8k_Dataset/410422753_de506155fa.jpg',\n",
              " '/content/drive/My Drive/Capstone/Flickr8k_Dataset/Flicker8k_Dataset/410453140_5401bf659a.jpg',\n",
              " '/content/drive/My Drive/Capstone/Flickr8k_Dataset/Flicker8k_Dataset/411011549_1298d2b4d2.jpg',\n",
              " '/content/drive/My Drive/Capstone/Flickr8k_Dataset/Flicker8k_Dataset/411175971_0fffd3b8c6.jpg',\n",
              " '/content/drive/My Drive/Capstone/Flickr8k_Dataset/Flicker8k_Dataset/411216802_aead9e67e3.jpg',\n",
              " '/content/drive/My Drive/Capstone/Flickr8k_Dataset/Flicker8k_Dataset/411863595_d77156687e.jpg',\n",
              " '/content/drive/My Drive/Capstone/Flickr8k_Dataset/Flicker8k_Dataset/412056525_191724b058.jpg',\n",
              " '/content/drive/My Drive/Capstone/Flickr8k_Dataset/Flicker8k_Dataset/412082368_371df946b3.jpg',\n",
              " '/content/drive/My Drive/Capstone/Flickr8k_Dataset/Flicker8k_Dataset/412101267_7257e6d8c0.jpg',\n",
              " '/content/drive/My Drive/Capstone/Flickr8k_Dataset/Flicker8k_Dataset/412203580_2c7278909c.jpg',\n",
              " '/content/drive/My Drive/Capstone/Flickr8k_Dataset/Flicker8k_Dataset/413231421_43833a11f5.jpg',\n",
              " '/content/drive/My Drive/Capstone/Flickr8k_Dataset/Flicker8k_Dataset/413737417_b0a8b445e9.jpg',\n",
              " '/content/drive/My Drive/Capstone/Flickr8k_Dataset/Flicker8k_Dataset/414568315_5adcfc23c0.jpg',\n",
              " '/content/drive/My Drive/Capstone/Flickr8k_Dataset/Flicker8k_Dataset/414773731_c3f5bf43d5.jpg',\n",
              " '/content/drive/My Drive/Capstone/Flickr8k_Dataset/Flicker8k_Dataset/415118186_64defc96f3.jpg',\n",
              " '/content/drive/My Drive/Capstone/Flickr8k_Dataset/Flicker8k_Dataset/415657941_454d370721.jpg',\n",
              " '/content/drive/My Drive/Capstone/Flickr8k_Dataset/Flicker8k_Dataset/415793623_6c1225ae27.jpg',\n",
              " '/content/drive/My Drive/Capstone/Flickr8k_Dataset/Flicker8k_Dataset/416106657_cab2a107a5.jpg',\n",
              " '/content/drive/My Drive/Capstone/Flickr8k_Dataset/Flicker8k_Dataset/416650559_cd08d3cd96.jpg',\n",
              " '/content/drive/My Drive/Capstone/Flickr8k_Dataset/Flicker8k_Dataset/416788726_5b4eb1466e.jpg',\n",
              " '/content/drive/My Drive/Capstone/Flickr8k_Dataset/Flicker8k_Dataset/416960865_048fd3f294.jpg',\n",
              " '/content/drive/My Drive/Capstone/Flickr8k_Dataset/Flicker8k_Dataset/416992999_654a99a903.jpg',\n",
              " '/content/drive/My Drive/Capstone/Flickr8k_Dataset/Flicker8k_Dataset/417577408_eb571658c1.jpg',\n",
              " '/content/drive/My Drive/Capstone/Flickr8k_Dataset/Flicker8k_Dataset/417966898_a04f9b5349.jpg',\n",
              " '/content/drive/My Drive/Capstone/Flickr8k_Dataset/Flicker8k_Dataset/418357172_bdddf71d32.jpg',\n",
              " '/content/drive/My Drive/Capstone/Flickr8k_Dataset/Flicker8k_Dataset/418616992_22090c6195.jpg',\n",
              " '/content/drive/My Drive/Capstone/Flickr8k_Dataset/Flicker8k_Dataset/418667611_b9995000f4.jpg',\n",
              " '/content/drive/My Drive/Capstone/Flickr8k_Dataset/Flicker8k_Dataset/418796494_bdb441de42.jpg',\n",
              " '/content/drive/My Drive/Capstone/Flickr8k_Dataset/Flicker8k_Dataset/419116771_642800891d.jpg',\n",
              " '/content/drive/My Drive/Capstone/Flickr8k_Dataset/Flicker8k_Dataset/41999070_838089137e.jpg',\n",
              " '/content/drive/My Drive/Capstone/Flickr8k_Dataset/Flicker8k_Dataset/420355149_f2076770df.jpg',\n",
              " '/content/drive/My Drive/Capstone/Flickr8k_Dataset/Flicker8k_Dataset/421153376_d1d325568f.jpg',\n",
              " '/content/drive/My Drive/Capstone/Flickr8k_Dataset/Flicker8k_Dataset/421316045_ae7a1eb4bc.jpg',\n",
              " '/content/drive/My Drive/Capstone/Flickr8k_Dataset/Flicker8k_Dataset/421322723_3470543368.jpg',\n",
              " '/content/drive/My Drive/Capstone/Flickr8k_Dataset/Flicker8k_Dataset/421706022_1ddb6a7a78.jpg',\n",
              " '/content/drive/My Drive/Capstone/Flickr8k_Dataset/Flicker8k_Dataset/421730441_6b2267fd31.jpg',\n",
              " '/content/drive/My Drive/Capstone/Flickr8k_Dataset/Flicker8k_Dataset/421808539_57abee6d55.jpg',\n",
              " '/content/drive/My Drive/Capstone/Flickr8k_Dataset/Flicker8k_Dataset/421932359_edbf181f44.jpg',\n",
              " '/content/drive/My Drive/Capstone/Flickr8k_Dataset/Flicker8k_Dataset/422756764_e7eaac76bf.jpg',\n",
              " '/content/drive/My Drive/Capstone/Flickr8k_Dataset/Flicker8k_Dataset/422763475_0bc814dac6.jpg',\n",
              " '/content/drive/My Drive/Capstone/Flickr8k_Dataset/Flicker8k_Dataset/423066487_07757b2b49.jpg',\n",
              " '/content/drive/My Drive/Capstone/Flickr8k_Dataset/Flicker8k_Dataset/424307754_1e2f44d265.jpg',\n",
              " '/content/drive/My Drive/Capstone/Flickr8k_Dataset/Flicker8k_Dataset/424379231_23f1ade134.jpg',\n",
              " '/content/drive/My Drive/Capstone/Flickr8k_Dataset/Flicker8k_Dataset/424416723_19c56cb365.jpg',\n",
              " '/content/drive/My Drive/Capstone/Flickr8k_Dataset/Flicker8k_Dataset/424506167_01f365726b.jpg',\n",
              " '/content/drive/My Drive/Capstone/Flickr8k_Dataset/Flicker8k_Dataset/424779662_568f9606d0.jpg',\n",
              " '/content/drive/My Drive/Capstone/Flickr8k_Dataset/Flicker8k_Dataset/424869823_7aec015d87.jpg',\n",
              " '/content/drive/My Drive/Capstone/Flickr8k_Dataset/Flicker8k_Dataset/425088533_a460dc4617.jpg',\n",
              " '/content/drive/My Drive/Capstone/Flickr8k_Dataset/Flicker8k_Dataset/425518464_a18b87c563.jpg',\n",
              " '/content/drive/My Drive/Capstone/Flickr8k_Dataset/Flicker8k_Dataset/425706089_f138118e12.jpg',\n",
              " '/content/drive/My Drive/Capstone/Flickr8k_Dataset/Flicker8k_Dataset/426065353_e9a604a01f.jpg',\n",
              " '/content/drive/My Drive/Capstone/Flickr8k_Dataset/Flicker8k_Dataset/426191845_1e979e9345.jpg',\n",
              " '/content/drive/My Drive/Capstone/Flickr8k_Dataset/Flicker8k_Dataset/42637986_135a9786a6.jpg',\n",
              " '/content/drive/My Drive/Capstone/Flickr8k_Dataset/Flicker8k_Dataset/42637987_866635edf6.jpg',\n",
              " '/content/drive/My Drive/Capstone/Flickr8k_Dataset/Flicker8k_Dataset/426805536_d1d5e68c17.jpg',\n",
              " '/content/drive/My Drive/Capstone/Flickr8k_Dataset/Flicker8k_Dataset/426920445_d07d1fd0f7.jpg',\n",
              " '/content/drive/My Drive/Capstone/Flickr8k_Dataset/Flicker8k_Dataset/427082246_5bf1c3676f.jpg',\n",
              " '/content/drive/My Drive/Capstone/Flickr8k_Dataset/Flicker8k_Dataset/427167162_2c99779444.jpg',\n",
              " '/content/drive/My Drive/Capstone/Flickr8k_Dataset/Flicker8k_Dataset/427557693_1108566fd2.jpg',\n",
              " '/content/drive/My Drive/Capstone/Flickr8k_Dataset/Flicker8k_Dataset/427683329_95d510a087.jpg',\n",
              " '/content/drive/My Drive/Capstone/Flickr8k_Dataset/Flicker8k_Dataset/427936315_0b8f7b8d23.jpg',\n",
              " '/content/drive/My Drive/Capstone/Flickr8k_Dataset/Flicker8k_Dataset/428408242_b32faf2240.jpg',\n",
              " '/content/drive/My Drive/Capstone/Flickr8k_Dataset/Flicker8k_Dataset/428483413_b9370baf72.jpg',\n",
              " '/content/drive/My Drive/Capstone/Flickr8k_Dataset/Flicker8k_Dataset/428485639_a82635d6ee.jpg',\n",
              " '/content/drive/My Drive/Capstone/Flickr8k_Dataset/Flicker8k_Dataset/428796930_476a3d6395.jpg',\n",
              " '/content/drive/My Drive/Capstone/Flickr8k_Dataset/Flicker8k_Dataset/429174232_ddd4ff5e0b.jpg',\n",
              " '/content/drive/My Drive/Capstone/Flickr8k_Dataset/Flicker8k_Dataset/429205889_ff5a006311.jpg',\n",
              " '/content/drive/My Drive/Capstone/Flickr8k_Dataset/Flicker8k_Dataset/429270993_294ba8e64c.jpg',\n",
              " '/content/drive/My Drive/Capstone/Flickr8k_Dataset/Flicker8k_Dataset/429283612_37f6e7fb7f.jpg',\n",
              " '/content/drive/My Drive/Capstone/Flickr8k_Dataset/Flicker8k_Dataset/429851331_b248ca01cd.jpg',\n",
              " '/content/drive/My Drive/Capstone/Flickr8k_Dataset/Flicker8k_Dataset/430173345_86388d8822.jpg',\n",
              " '/content/drive/My Drive/Capstone/Flickr8k_Dataset/Flicker8k_Dataset/430803349_a66c91f64e.jpg',\n",
              " '/content/drive/My Drive/Capstone/Flickr8k_Dataset/Flicker8k_Dataset/430964917_022995afb6.jpg',\n",
              " '/content/drive/My Drive/Capstone/Flickr8k_Dataset/Flicker8k_Dataset/431018958_84b2beebff.jpg',\n",
              " '/content/drive/My Drive/Capstone/Flickr8k_Dataset/Flicker8k_Dataset/431282339_0aa60dd78e.jpg',\n",
              " '/content/drive/My Drive/Capstone/Flickr8k_Dataset/Flicker8k_Dataset/431410325_f4916b5460.jpg',\n",
              " '/content/drive/My Drive/Capstone/Flickr8k_Dataset/Flicker8k_Dataset/432167214_c17fcc1a2d.jpg',\n",
              " '/content/drive/My Drive/Capstone/Flickr8k_Dataset/Flicker8k_Dataset/432248727_e7b623adbf.jpg',\n",
              " '/content/drive/My Drive/Capstone/Flickr8k_Dataset/Flicker8k_Dataset/432490118_54a9c0e500.jpg',\n",
              " '/content/drive/My Drive/Capstone/Flickr8k_Dataset/Flicker8k_Dataset/432496659_f01464d9fb.jpg',\n",
              " '/content/drive/My Drive/Capstone/Flickr8k_Dataset/Flicker8k_Dataset/433810429_a4da0eac50.jpg',\n",
              " '/content/drive/My Drive/Capstone/Flickr8k_Dataset/Flicker8k_Dataset/433855742_c2a6fda763.jpg',\n",
              " '/content/drive/My Drive/Capstone/Flickr8k_Dataset/Flicker8k_Dataset/434433505_966e50e17d.jpg',\n",
              " '/content/drive/My Drive/Capstone/Flickr8k_Dataset/Flicker8k_Dataset/434792818_56375e203f.jpg',\n",
              " '/content/drive/My Drive/Capstone/Flickr8k_Dataset/Flicker8k_Dataset/434938585_fbf913dfb4.jpg',\n",
              " '/content/drive/My Drive/Capstone/Flickr8k_Dataset/Flicker8k_Dataset/435054077_3506dbfcf4.jpg',\n",
              " '/content/drive/My Drive/Capstone/Flickr8k_Dataset/Flicker8k_Dataset/435739506_2daf7f4887.jpg',\n",
              " '/content/drive/My Drive/Capstone/Flickr8k_Dataset/Flicker8k_Dataset/435827376_4384c3005a.jpg',\n",
              " '/content/drive/My Drive/Capstone/Flickr8k_Dataset/Flicker8k_Dataset/436009777_440c7679a1.jpg',\n",
              " '/content/drive/My Drive/Capstone/Flickr8k_Dataset/Flicker8k_Dataset/436013859_793d870b6f.jpg',\n",
              " '/content/drive/My Drive/Capstone/Flickr8k_Dataset/Flicker8k_Dataset/436015762_8d0bae90c3.jpg',\n",
              " '/content/drive/My Drive/Capstone/Flickr8k_Dataset/Flicker8k_Dataset/436393371_822ee70952.jpg',\n",
              " '/content/drive/My Drive/Capstone/Flickr8k_Dataset/Flicker8k_Dataset/436608339_f1d1298770.jpg',\n",
              " '/content/drive/My Drive/Capstone/Flickr8k_Dataset/Flicker8k_Dataset/437054333_5c2761b8cd.jpg',\n",
              " '/content/drive/My Drive/Capstone/Flickr8k_Dataset/Flicker8k_Dataset/437404867_209625774d.jpg',\n",
              " '/content/drive/My Drive/Capstone/Flickr8k_Dataset/Flicker8k_Dataset/437527058_189f2a7eef.jpg',\n",
              " '/content/drive/My Drive/Capstone/Flickr8k_Dataset/Flicker8k_Dataset/437917001_ae1106f34e.jpg',\n",
              " '/content/drive/My Drive/Capstone/Flickr8k_Dataset/Flicker8k_Dataset/438639005_208bc59b0b.jpg',\n",
              " '/content/drive/My Drive/Capstone/Flickr8k_Dataset/Flicker8k_Dataset/439037721_cdf1fc7358.jpg',\n",
              " '/content/drive/My Drive/Capstone/Flickr8k_Dataset/Flicker8k_Dataset/439049388_3dcee2d30b.jpg',\n",
              " '/content/drive/My Drive/Capstone/Flickr8k_Dataset/Flicker8k_Dataset/439492931_a96d590e40.jpg',\n",
              " '/content/drive/My Drive/Capstone/Flickr8k_Dataset/Flicker8k_Dataset/439569646_c917f1bc78.jpg',\n",
              " '/content/drive/My Drive/Capstone/Flickr8k_Dataset/Flicker8k_Dataset/439916996_1ddb9dc8e7.jpg',\n",
              " '/content/drive/My Drive/Capstone/Flickr8k_Dataset/Flicker8k_Dataset/440184957_267f3f3a2b.jpg',\n",
              " '/content/drive/My Drive/Capstone/Flickr8k_Dataset/Flicker8k_Dataset/440190907_bf8b7ba8ef.jpg',\n",
              " '/content/drive/My Drive/Capstone/Flickr8k_Dataset/Flicker8k_Dataset/440737340_5af34ca9cf.jpg',\n",
              " '/content/drive/My Drive/Capstone/Flickr8k_Dataset/Flicker8k_Dataset/441212506_fcc321ac28.jpg',\n",
              " '/content/drive/My Drive/Capstone/Flickr8k_Dataset/Flicker8k_Dataset/44129946_9eeb385d77.jpg',\n",
              " '/content/drive/My Drive/Capstone/Flickr8k_Dataset/Flicker8k_Dataset/441398149_297146e38d.jpg',\n",
              " '/content/drive/My Drive/Capstone/Flickr8k_Dataset/Flicker8k_Dataset/441817653_fbdf83060b.jpg',\n",
              " '/content/drive/My Drive/Capstone/Flickr8k_Dataset/Flicker8k_Dataset/441921713_1cafc7d7d2.jpg',\n",
              " '/content/drive/My Drive/Capstone/Flickr8k_Dataset/Flicker8k_Dataset/442220883_ff3d6e507f.jpg',\n",
              " '/content/drive/My Drive/Capstone/Flickr8k_Dataset/Flicker8k_Dataset/442594271_2c3dd38483.jpg',\n",
              " '/content/drive/My Drive/Capstone/Flickr8k_Dataset/Flicker8k_Dataset/442918418_0f29c97fa9.jpg',\n",
              " '/content/drive/My Drive/Capstone/Flickr8k_Dataset/Flicker8k_Dataset/443430496_3fea95a07d.jpg',\n",
              " '/content/drive/My Drive/Capstone/Flickr8k_Dataset/Flicker8k_Dataset/443885436_6e927e6c58.jpg',\n",
              " '/content/drive/My Drive/Capstone/Flickr8k_Dataset/Flicker8k_Dataset/444047125_66b249287c.jpg',\n",
              " '/content/drive/My Drive/Capstone/Flickr8k_Dataset/Flicker8k_Dataset/444057017_f1e0fcaef7.jpg',\n",
              " '/content/drive/My Drive/Capstone/Flickr8k_Dataset/Flicker8k_Dataset/444481722_690d0cadcf.jpg',\n",
              " '/content/drive/My Drive/Capstone/Flickr8k_Dataset/Flicker8k_Dataset/444803340_fdcaab86f9.jpg',\n",
              " '/content/drive/My Drive/Capstone/Flickr8k_Dataset/Flicker8k_Dataset/444845904_a4531c811a.jpg',\n",
              " '/content/drive/My Drive/Capstone/Flickr8k_Dataset/Flicker8k_Dataset/444872454_9f51e07f88.jpg',\n",
              " '/content/drive/My Drive/Capstone/Flickr8k_Dataset/Flicker8k_Dataset/444881000_bba92e585c.jpg',\n",
              " '/content/drive/My Drive/Capstone/Flickr8k_Dataset/Flicker8k_Dataset/445148321_9f2f3ac711.jpg',\n",
              " '/content/drive/My Drive/Capstone/Flickr8k_Dataset/Flicker8k_Dataset/445655284_c29e6d7323.jpg',\n",
              " '/content/drive/My Drive/Capstone/Flickr8k_Dataset/Flicker8k_Dataset/445861800_75fc6a8c16.jpg',\n",
              " '/content/drive/My Drive/Capstone/Flickr8k_Dataset/Flicker8k_Dataset/446138054_d40c66d5f0.jpg',\n",
              " '/content/drive/My Drive/Capstone/Flickr8k_Dataset/Flicker8k_Dataset/446286714_dcec7f339e.jpg',\n",
              " '/content/drive/My Drive/Capstone/Flickr8k_Dataset/Flicker8k_Dataset/446291803_2fd4641b99.jpg',\n",
              " '/content/drive/My Drive/Capstone/Flickr8k_Dataset/Flicker8k_Dataset/446514680_ff5ca15ece.jpg',\n",
              " '/content/drive/My Drive/Capstone/Flickr8k_Dataset/Flicker8k_Dataset/447111935_5af98563e3.jpg',\n",
              " '/content/drive/My Drive/Capstone/Flickr8k_Dataset/Flicker8k_Dataset/447722389_4b51b7e13d.jpg',\n",
              " '/content/drive/My Drive/Capstone/Flickr8k_Dataset/Flicker8k_Dataset/447733067_09cfac3286.jpg',\n",
              " '/content/drive/My Drive/Capstone/Flickr8k_Dataset/Flicker8k_Dataset/447800028_0242008fa3.jpg',\n",
              " '/content/drive/My Drive/Capstone/Flickr8k_Dataset/Flicker8k_Dataset/448252603_7d928c900e.jpg',\n",
              " '/content/drive/My Drive/Capstone/Flickr8k_Dataset/Flicker8k_Dataset/448257345_ce149c2ea6.jpg',\n",
              " '/content/drive/My Drive/Capstone/Flickr8k_Dataset/Flicker8k_Dataset/44856031_0d82c2c7d1.jpg',\n",
              " '/content/drive/My Drive/Capstone/Flickr8k_Dataset/Flicker8k_Dataset/448590900_db83c42006.jpg',\n",
              " '/content/drive/My Drive/Capstone/Flickr8k_Dataset/Flicker8k_Dataset/448658518_eec0b648a6.jpg',\n",
              " '/content/drive/My Drive/Capstone/Flickr8k_Dataset/Flicker8k_Dataset/448916362_17f3f1d0e1.jpg',\n",
              " '/content/drive/My Drive/Capstone/Flickr8k_Dataset/Flicker8k_Dataset/449287870_f17fb825d7.jpg',\n",
              " '/content/drive/My Drive/Capstone/Flickr8k_Dataset/Flicker8k_Dataset/449352117_63c359c6e7.jpg',\n",
              " '/content/drive/My Drive/Capstone/Flickr8k_Dataset/Flicker8k_Dataset/450596617_ed37ec0fe4.jpg',\n",
              " '/content/drive/My Drive/Capstone/Flickr8k_Dataset/Flicker8k_Dataset/451081733_40218cec31.jpg',\n",
              " '/content/drive/My Drive/Capstone/Flickr8k_Dataset/Flicker8k_Dataset/451326127_2d95a2e1c2.jpg',\n",
              " '/content/drive/My Drive/Capstone/Flickr8k_Dataset/Flicker8k_Dataset/451597318_4f370b1339.jpg',\n",
              " '/content/drive/My Drive/Capstone/Flickr8k_Dataset/Flicker8k_Dataset/452345346_afe1248586.jpg',\n",
              " '/content/drive/My Drive/Capstone/Flickr8k_Dataset/Flicker8k_Dataset/452363869_cad37e609f.jpg',\n",
              " '/content/drive/My Drive/Capstone/Flickr8k_Dataset/Flicker8k_Dataset/452416075_60b2bb5832.jpg',\n",
              " '/content/drive/My Drive/Capstone/Flickr8k_Dataset/Flicker8k_Dataset/452419961_6d42ab7000.jpg',\n",
              " '/content/drive/My Drive/Capstone/Flickr8k_Dataset/Flicker8k_Dataset/453473508_682c0a7189.jpg',\n",
              " '/content/drive/My Drive/Capstone/Flickr8k_Dataset/Flicker8k_Dataset/453756106_711c20471a.jpg',\n",
              " '/content/drive/My Drive/Capstone/Flickr8k_Dataset/Flicker8k_Dataset/454686980_7517fe0c2e.jpg',\n",
              " '/content/drive/My Drive/Capstone/Flickr8k_Dataset/Flicker8k_Dataset/454691853_cc1e0fa6a1.jpg',\n",
              " '/content/drive/My Drive/Capstone/Flickr8k_Dataset/Flicker8k_Dataset/454709143_9c513f095c.jpg',\n",
              " '/content/drive/My Drive/Capstone/Flickr8k_Dataset/Flicker8k_Dataset/455611732_d65bf3e976.jpg',\n",
              " '/content/drive/My Drive/Capstone/Flickr8k_Dataset/Flicker8k_Dataset/455856615_f6361d9253.jpg',\n",
              " '/content/drive/My Drive/Capstone/Flickr8k_Dataset/Flicker8k_Dataset/456299217_b2802efbc2.jpg',\n",
              " '/content/drive/My Drive/Capstone/Flickr8k_Dataset/Flicker8k_Dataset/456512643_0aac2fa9ce.jpg',\n",
              " '/content/drive/My Drive/Capstone/Flickr8k_Dataset/Flicker8k_Dataset/457631171_12b1aee828.jpg',\n",
              " '/content/drive/My Drive/Capstone/Flickr8k_Dataset/Flicker8k_Dataset/457875937_982588d918.jpg',\n",
              " '/content/drive/My Drive/Capstone/Flickr8k_Dataset/Flicker8k_Dataset/457945610_1a23b9ced0.jpg',\n",
              " '/content/drive/My Drive/Capstone/Flickr8k_Dataset/Flicker8k_Dataset/458004873_f084c47a88.jpg',\n",
              " '/content/drive/My Drive/Capstone/Flickr8k_Dataset/Flicker8k_Dataset/458183774_afe65abf67.jpg',\n",
              " '/content/drive/My Drive/Capstone/Flickr8k_Dataset/Flicker8k_Dataset/458213442_12c59e61a0.jpg',\n",
              " '/content/drive/My Drive/Capstone/Flickr8k_Dataset/Flicker8k_Dataset/458735196_176e7df6b3.jpg',\n",
              " '/content/drive/My Drive/Capstone/Flickr8k_Dataset/Flicker8k_Dataset/459284240_5a4167bf92.jpg',\n",
              " '/content/drive/My Drive/Capstone/Flickr8k_Dataset/Flicker8k_Dataset/459778335_857d8ffebf.jpg',\n",
              " '/content/drive/My Drive/Capstone/Flickr8k_Dataset/Flicker8k_Dataset/459814265_d48ba48978.jpg',\n",
              " '/content/drive/My Drive/Capstone/Flickr8k_Dataset/Flicker8k_Dataset/460195978_fc522a4979.jpg',\n",
              " '/content/drive/My Drive/Capstone/Flickr8k_Dataset/Flicker8k_Dataset/460350019_af60511a3b.jpg',\n",
              " '/content/drive/My Drive/Capstone/Flickr8k_Dataset/Flicker8k_Dataset/460478198_83039f2593.jpg',\n",
              " '/content/drive/My Drive/Capstone/Flickr8k_Dataset/Flicker8k_Dataset/460781612_6815c74d37.jpg',\n",
              " '/content/drive/My Drive/Capstone/Flickr8k_Dataset/Flicker8k_Dataset/460935487_75b2da7854.jpg',\n",
              " '/content/drive/My Drive/Capstone/Flickr8k_Dataset/Flicker8k_Dataset/460973814_5eacd1ced4.jpg',\n",
              " '/content/drive/My Drive/Capstone/Flickr8k_Dataset/Flicker8k_Dataset/461019788_bc0993dabd.jpg',\n",
              " '/content/drive/My Drive/Capstone/Flickr8k_Dataset/Flicker8k_Dataset/461505235_590102a5bf.jpg',\n",
              " '/content/drive/My Drive/Capstone/Flickr8k_Dataset/Flicker8k_Dataset/462080147_ca088e6541.jpg',\n",
              " '/content/drive/My Drive/Capstone/Flickr8k_Dataset/Flicker8k_Dataset/462198798_89e2df0358.jpg',\n",
              " '/content/drive/My Drive/Capstone/Flickr8k_Dataset/Flicker8k_Dataset/462288558_b31a8a976f.jpg',\n",
              " '/content/drive/My Drive/Capstone/Flickr8k_Dataset/Flicker8k_Dataset/463786229_b54c9a3436.jpg',\n",
              " '/content/drive/My Drive/Capstone/Flickr8k_Dataset/Flicker8k_Dataset/463875230_f19e83d6df.jpg',\n",
              " '/content/drive/My Drive/Capstone/Flickr8k_Dataset/Flicker8k_Dataset/463978865_c87c6ca84c.jpg',\n",
              " '/content/drive/My Drive/Capstone/Flickr8k_Dataset/Flicker8k_Dataset/464116251_1ac4bc91f8.jpg',\n",
              " '/content/drive/My Drive/Capstone/Flickr8k_Dataset/Flicker8k_Dataset/464251704_b0f0c4c87a.jpg',\n",
              " '/content/drive/My Drive/Capstone/Flickr8k_Dataset/Flicker8k_Dataset/464506846_1734302b58.jpg',\n",
              " '/content/drive/My Drive/Capstone/Flickr8k_Dataset/Flicker8k_Dataset/464527562_a18f095225.jpg',\n",
              " '/content/drive/My Drive/Capstone/Flickr8k_Dataset/Flicker8k_Dataset/465859490_b077219424.jpg',\n",
              " '/content/drive/My Drive/Capstone/Flickr8k_Dataset/Flicker8k_Dataset/465994762_1760e83c5d.jpg',\n",
              " '/content/drive/My Drive/Capstone/Flickr8k_Dataset/Flicker8k_Dataset/466176275_f40d37851e.jpg',\n",
              " '/content/drive/My Drive/Capstone/Flickr8k_Dataset/Flicker8k_Dataset/466956209_2ffcea3941.jpg',\n",
              " '/content/drive/My Drive/Capstone/Flickr8k_Dataset/Flicker8k_Dataset/466956675_a2fb6bf901.jpg',\n",
              " '/content/drive/My Drive/Capstone/Flickr8k_Dataset/Flicker8k_Dataset/467858872_f3431df682.jpg',\n",
              " '/content/drive/My Drive/Capstone/Flickr8k_Dataset/Flicker8k_Dataset/467960888_6943257534.jpg',\n",
              " '/content/drive/My Drive/Capstone/Flickr8k_Dataset/Flicker8k_Dataset/468102269_135938e209.jpg',\n",
              " '/content/drive/My Drive/Capstone/Flickr8k_Dataset/Flicker8k_Dataset/468141298_3154d717e1.jpg',\n",
              " '/content/drive/My Drive/Capstone/Flickr8k_Dataset/Flicker8k_Dataset/468310111_d9396abcbd.jpg',\n",
              " '/content/drive/My Drive/Capstone/Flickr8k_Dataset/Flicker8k_Dataset/468608014_09fd20eb9b.jpg',\n",
              " '/content/drive/My Drive/Capstone/Flickr8k_Dataset/Flicker8k_Dataset/468871328_72990babd4.jpg',\n",
              " '/content/drive/My Drive/Capstone/Flickr8k_Dataset/Flicker8k_Dataset/468911753_cc595f5da0.jpg',\n",
              " '/content/drive/My Drive/Capstone/Flickr8k_Dataset/Flicker8k_Dataset/468918320_9c275b877f.jpg',\n",
              " '/content/drive/My Drive/Capstone/Flickr8k_Dataset/Flicker8k_Dataset/468930779_8008d90e10.jpg',\n",
              " '/content/drive/My Drive/Capstone/Flickr8k_Dataset/Flicker8k_Dataset/469021173_aa31c07108.jpg',\n",
              " '/content/drive/My Drive/Capstone/Flickr8k_Dataset/Flicker8k_Dataset/469029994_349e138606.jpg',\n",
              " '/content/drive/My Drive/Capstone/Flickr8k_Dataset/Flicker8k_Dataset/469259974_bb03c15c42.jpg',\n",
              " '/content/drive/My Drive/Capstone/Flickr8k_Dataset/Flicker8k_Dataset/469617651_278e586e46.jpg',\n",
              " '/content/drive/My Drive/Capstone/Flickr8k_Dataset/Flicker8k_Dataset/469969326_4b84073286.jpg',\n",
              " '/content/drive/My Drive/Capstone/Flickr8k_Dataset/Flicker8k_Dataset/470373679_98dceb19e7.jpg',\n",
              " '/content/drive/My Drive/Capstone/Flickr8k_Dataset/Flicker8k_Dataset/470887781_faae5dae83.jpg',\n",
              " '/content/drive/My Drive/Capstone/Flickr8k_Dataset/Flicker8k_Dataset/470887785_e0b1241d94.jpg',\n",
              " '/content/drive/My Drive/Capstone/Flickr8k_Dataset/Flicker8k_Dataset/470887791_86d5a08a38.jpg',\n",
              " '/content/drive/My Drive/Capstone/Flickr8k_Dataset/Flicker8k_Dataset/470887795_8443ce53d0.jpg',\n",
              " '/content/drive/My Drive/Capstone/Flickr8k_Dataset/Flicker8k_Dataset/470903027_489cc507de.jpg',\n",
              " '/content/drive/My Drive/Capstone/Flickr8k_Dataset/Flicker8k_Dataset/471402959_0b187560df.jpg',\n",
              " '/content/drive/My Drive/Capstone/Flickr8k_Dataset/Flicker8k_Dataset/472396131_6e97068d93.jpg',\n",
              " '/content/drive/My Drive/Capstone/Flickr8k_Dataset/Flicker8k_Dataset/472535997_0dbf42b9f3.jpg',\n",
              " '/content/drive/My Drive/Capstone/Flickr8k_Dataset/Flicker8k_Dataset/472661386_723aae880b.jpg',\n",
              " '/content/drive/My Drive/Capstone/Flickr8k_Dataset/Flicker8k_Dataset/472860064_a96a228796.jpg',\n",
              " '/content/drive/My Drive/Capstone/Flickr8k_Dataset/Flicker8k_Dataset/473220329_819a913bbb.jpg',\n",
              " '/content/drive/My Drive/Capstone/Flickr8k_Dataset/Flicker8k_Dataset/473988700_570422001b.jpg',\n",
              " '/content/drive/My Drive/Capstone/Flickr8k_Dataset/Flicker8k_Dataset/475042270_719ebe6c48.jpg',\n",
              " '/content/drive/My Drive/Capstone/Flickr8k_Dataset/Flicker8k_Dataset/475313618_bdb2f72be5.jpg',\n",
              " '/content/drive/My Drive/Capstone/Flickr8k_Dataset/Flicker8k_Dataset/475317104_1cdc1653b4.jpg',\n",
              " '/content/drive/My Drive/Capstone/Flickr8k_Dataset/Flicker8k_Dataset/475778645_65b7343c47.jpg',\n",
              " '/content/drive/My Drive/Capstone/Flickr8k_Dataset/Flicker8k_Dataset/475816542_f5c2736815.jpg',\n",
              " '/content/drive/My Drive/Capstone/Flickr8k_Dataset/Flicker8k_Dataset/475980315_b8ecd50094.jpg',\n",
              " '/content/drive/My Drive/Capstone/Flickr8k_Dataset/Flicker8k_Dataset/476233374_e1396998ef.jpg',\n",
              " '/content/drive/My Drive/Capstone/Flickr8k_Dataset/Flicker8k_Dataset/476740978_45b65ebe0c.jpg',\n",
              " '/content/drive/My Drive/Capstone/Flickr8k_Dataset/Flicker8k_Dataset/476759700_8911f087f8.jpg',\n",
              " '/content/drive/My Drive/Capstone/Flickr8k_Dataset/Flicker8k_Dataset/476760133_c33d2bd83d.jpg',\n",
              " '/content/drive/My Drive/Capstone/Flickr8k_Dataset/Flicker8k_Dataset/477204750_d04d111cd4.jpg',\n",
              " '/content/drive/My Drive/Capstone/Flickr8k_Dataset/Flicker8k_Dataset/477254932_56b48d775d.jpg',\n",
              " '/content/drive/My Drive/Capstone/Flickr8k_Dataset/Flicker8k_Dataset/477768471_d7cd618fdb.jpg',\n",
              " '/content/drive/My Drive/Capstone/Flickr8k_Dataset/Flicker8k_Dataset/478208896_90e7187b64.jpg',\n",
              " '/content/drive/My Drive/Capstone/Flickr8k_Dataset/Flicker8k_Dataset/478209058_21e2c37c73.jpg',\n",
              " '/content/drive/My Drive/Capstone/Flickr8k_Dataset/Flicker8k_Dataset/478592803_f57cc9c461.jpg',\n",
              " '/content/drive/My Drive/Capstone/Flickr8k_Dataset/Flicker8k_Dataset/47870024_73a4481f7d.jpg',\n",
              " '/content/drive/My Drive/Capstone/Flickr8k_Dataset/Flicker8k_Dataset/47871819_db55ac4699.jpg',\n",
              " '/content/drive/My Drive/Capstone/Flickr8k_Dataset/Flicker8k_Dataset/478750151_e0adb5030a.jpg',\n",
              " '/content/drive/My Drive/Capstone/Flickr8k_Dataset/Flicker8k_Dataset/478754346_addb53893c.jpg',\n",
              " '/content/drive/My Drive/Capstone/Flickr8k_Dataset/Flicker8k_Dataset/479807115_3a484fb18b.jpg',\n",
              " '/content/drive/My Drive/Capstone/Flickr8k_Dataset/Flicker8k_Dataset/479807465_cf42f39d00.jpg',\n",
              " '/content/drive/My Drive/Capstone/Flickr8k_Dataset/Flicker8k_Dataset/479807833_85eed6899c.jpg',\n",
              " '/content/drive/My Drive/Capstone/Flickr8k_Dataset/Flicker8k_Dataset/480200554_6155e9dfeb.jpg',\n",
              " '/content/drive/My Drive/Capstone/Flickr8k_Dataset/Flicker8k_Dataset/480505313_2dc686e5db.jpg',\n",
              " '/content/drive/My Drive/Capstone/Flickr8k_Dataset/Flicker8k_Dataset/480607352_65614ab348.jpg',\n",
              " '/content/drive/My Drive/Capstone/Flickr8k_Dataset/Flicker8k_Dataset/481054596_cad8c02103.jpg',\n",
              " '/content/drive/My Drive/Capstone/Flickr8k_Dataset/Flicker8k_Dataset/481632457_7372f18275.jpg',\n",
              " '/content/drive/My Drive/Capstone/Flickr8k_Dataset/Flicker8k_Dataset/481732592_b50194cb89.jpg',\n",
              " '/content/drive/My Drive/Capstone/Flickr8k_Dataset/Flicker8k_Dataset/481827288_a688be7913.jpg',\n",
              " '/content/drive/My Drive/Capstone/Flickr8k_Dataset/Flicker8k_Dataset/481887827_f8975dabf1.jpg',\n",
              " '/content/drive/My Drive/Capstone/Flickr8k_Dataset/Flicker8k_Dataset/482047956_9a29e9cee6.jpg',\n",
              " '/content/drive/My Drive/Capstone/Flickr8k_Dataset/Flicker8k_Dataset/482088914_e6ea4501e9.jpg',\n",
              " '/content/drive/My Drive/Capstone/Flickr8k_Dataset/Flicker8k_Dataset/482098572_e83153b300.jpg',\n",
              " '/content/drive/My Drive/Capstone/Flickr8k_Dataset/Flicker8k_Dataset/482353373_03a9d5e8bc.jpg',\n",
              " '/content/drive/My Drive/Capstone/Flickr8k_Dataset/Flicker8k_Dataset/482830610_13a0a6c924.jpg',\n",
              " '/content/drive/My Drive/Capstone/Flickr8k_Dataset/Flicker8k_Dataset/482882307_7dcb9eee11.jpg',\n",
              " '/content/drive/My Drive/Capstone/Flickr8k_Dataset/Flicker8k_Dataset/482882719_165722082d.jpg',\n",
              " '/content/drive/My Drive/Capstone/Flickr8k_Dataset/Flicker8k_Dataset/482907079_22085ada04.jpg',\n",
              " '/content/drive/My Drive/Capstone/Flickr8k_Dataset/Flicker8k_Dataset/483039719_75181b2726.jpg',\n",
              " '/content/drive/My Drive/Capstone/Flickr8k_Dataset/Flicker8k_Dataset/483136916_16976f4902.jpg',\n",
              " '/content/drive/My Drive/Capstone/Flickr8k_Dataset/Flicker8k_Dataset/483841513_e660391880.jpg',\n",
              " '/content/drive/My Drive/Capstone/Flickr8k_Dataset/Flicker8k_Dataset/484896012_7787d04f41.jpg',\n",
              " '/content/drive/My Drive/Capstone/Flickr8k_Dataset/Flicker8k_Dataset/485054073_fef8b80b4b.jpg',\n",
              " '/content/drive/My Drive/Capstone/Flickr8k_Dataset/Flicker8k_Dataset/485245061_5a5de43e20.jpg',\n",
              " '/content/drive/My Drive/Capstone/Flickr8k_Dataset/Flicker8k_Dataset/485312202_784508f2a9.jpg',\n",
              " '/content/drive/My Drive/Capstone/Flickr8k_Dataset/Flicker8k_Dataset/485357535_b45ba5b6da.jpg',\n",
              " '/content/drive/My Drive/Capstone/Flickr8k_Dataset/Flicker8k_Dataset/485566887_57eac33bd1.jpg',\n",
              " '/content/drive/My Drive/Capstone/Flickr8k_Dataset/Flicker8k_Dataset/485738889_c2a00876a6.jpg',\n",
              " '/content/drive/My Drive/Capstone/Flickr8k_Dataset/Flicker8k_Dataset/485741580_ab523fa657.jpg',\n",
              " '/content/drive/My Drive/Capstone/Flickr8k_Dataset/Flicker8k_Dataset/485921585_1974b1577a.jpg',\n",
              " '/content/drive/My Drive/Capstone/Flickr8k_Dataset/Flicker8k_Dataset/486300784_2cc7a770ff.jpg',\n",
              " '/content/drive/My Drive/Capstone/Flickr8k_Dataset/Flicker8k_Dataset/486712504_36be449055.jpg',\n",
              " '/content/drive/My Drive/Capstone/Flickr8k_Dataset/Flicker8k_Dataset/486720042_b785e7f88c.jpg',\n",
              " '/content/drive/My Drive/Capstone/Flickr8k_Dataset/Flicker8k_Dataset/486917990_72bd4069af.jpg',\n",
              " '/content/drive/My Drive/Capstone/Flickr8k_Dataset/Flicker8k_Dataset/487071033_27e460a1b9.jpg',\n",
              " '/content/drive/My Drive/Capstone/Flickr8k_Dataset/Flicker8k_Dataset/487074671_66db20bf47.jpg',\n",
              " '/content/drive/My Drive/Capstone/Flickr8k_Dataset/Flicker8k_Dataset/487487795_54705c406e.jpg',\n",
              " '/content/drive/My Drive/Capstone/Flickr8k_Dataset/Flicker8k_Dataset/487894806_352d9b5e66.jpg',\n",
              " '/content/drive/My Drive/Capstone/Flickr8k_Dataset/Flicker8k_Dataset/488089932_c3a5fa4140.jpg',\n",
              " '/content/drive/My Drive/Capstone/Flickr8k_Dataset/Flicker8k_Dataset/488196964_49159f11fd.jpg',\n",
              " '/content/drive/My Drive/Capstone/Flickr8k_Dataset/Flicker8k_Dataset/488352274_9a22064cb3.jpg',\n",
              " '/content/drive/My Drive/Capstone/Flickr8k_Dataset/Flicker8k_Dataset/488356951_b3b77ad832.jpg',\n",
              " '/content/drive/My Drive/Capstone/Flickr8k_Dataset/Flicker8k_Dataset/488408004_a1e26d4886.jpg',\n",
              " '/content/drive/My Drive/Capstone/Flickr8k_Dataset/Flicker8k_Dataset/488416045_1c6d903fe0.jpg',\n",
              " '/content/drive/My Drive/Capstone/Flickr8k_Dataset/Flicker8k_Dataset/488549693_a1f51d8c4a.jpg',\n",
              " '/content/drive/My Drive/Capstone/Flickr8k_Dataset/Flicker8k_Dataset/488590040_35a3e96c89.jpg',\n",
              " '/content/drive/My Drive/Capstone/Flickr8k_Dataset/Flicker8k_Dataset/489065557_0eb08889cd.jpg',\n",
              " '/content/drive/My Drive/Capstone/Flickr8k_Dataset/Flicker8k_Dataset/489134459_1b3f46fc03.jpg',\n",
              " '/content/drive/My Drive/Capstone/Flickr8k_Dataset/Flicker8k_Dataset/489372715_ce52da796a.jpg',\n",
              " '/content/drive/My Drive/Capstone/Flickr8k_Dataset/Flicker8k_Dataset/489551372_b19a6ad0ed.jpg',\n",
              " '/content/drive/My Drive/Capstone/Flickr8k_Dataset/Flicker8k_Dataset/489773343_a8aecf7db3.jpg',\n",
              " '/content/drive/My Drive/Capstone/Flickr8k_Dataset/Flicker8k_Dataset/489865145_65ea6d1c14.jpg',\n",
              " '/content/drive/My Drive/Capstone/Flickr8k_Dataset/Flicker8k_Dataset/490044494_d2d546be8d.jpg',\n",
              " '/content/drive/My Drive/Capstone/Flickr8k_Dataset/Flicker8k_Dataset/490390951_87395fcb1c.jpg',\n",
              " '/content/drive/My Drive/Capstone/Flickr8k_Dataset/Flicker8k_Dataset/491405109_798222cfd0.jpg',\n",
              " '/content/drive/My Drive/Capstone/Flickr8k_Dataset/Flicker8k_Dataset/491564019_1ca68d16c1.jpg',\n",
              " '/content/drive/My Drive/Capstone/Flickr8k_Dataset/Flicker8k_Dataset/491600485_26c52c8816.jpg',\n",
              " '/content/drive/My Drive/Capstone/Flickr8k_Dataset/Flicker8k_Dataset/491964988_414b556228.jpg',\n",
              " '/content/drive/My Drive/Capstone/Flickr8k_Dataset/Flicker8k_Dataset/492341908_1ef53be265.jpg',\n",
              " '/content/drive/My Drive/Capstone/Flickr8k_Dataset/Flicker8k_Dataset/492493570_c27237a396.jpg',\n",
              " '/content/drive/My Drive/Capstone/Flickr8k_Dataset/Flicker8k_Dataset/492802403_ba5246cfea.jpg',\n",
              " '/content/drive/My Drive/Capstone/Flickr8k_Dataset/Flicker8k_Dataset/493109089_468e105233.jpg',\n",
              " '/content/drive/My Drive/Capstone/Flickr8k_Dataset/Flicker8k_Dataset/493507605_48fe8e3739.jpg',\n",
              " '/content/drive/My Drive/Capstone/Flickr8k_Dataset/Flicker8k_Dataset/493542985_c85ad29ebe.jpg',\n",
              " '/content/drive/My Drive/Capstone/Flickr8k_Dataset/Flicker8k_Dataset/493621130_152bdd4e91.jpg',\n",
              " '/content/drive/My Drive/Capstone/Flickr8k_Dataset/Flicker8k_Dataset/494221578_027f51cdf4.jpg',\n",
              " '/content/drive/My Drive/Capstone/Flickr8k_Dataset/Flicker8k_Dataset/494329594_6e751372a0.jpg',\n",
              " '/content/drive/My Drive/Capstone/Flickr8k_Dataset/Flicker8k_Dataset/494792770_2c5f767ac0.jpg',\n",
              " '/content/drive/My Drive/Capstone/Flickr8k_Dataset/Flicker8k_Dataset/494907021_321e82877a.jpg',\n",
              " '/content/drive/My Drive/Capstone/Flickr8k_Dataset/Flicker8k_Dataset/494921598_af73bda568.jpg',\n",
              " '/content/drive/My Drive/Capstone/Flickr8k_Dataset/Flicker8k_Dataset/495014499_8fd065cfd9.jpg',\n",
              " '/content/drive/My Drive/Capstone/Flickr8k_Dataset/Flicker8k_Dataset/495033548_bd320405d8.jpg',\n",
              " '/content/drive/My Drive/Capstone/Flickr8k_Dataset/Flicker8k_Dataset/495054019_3dee8a02f5.jpg',\n",
              " '/content/drive/My Drive/Capstone/Flickr8k_Dataset/Flicker8k_Dataset/495055747_a75872762a.jpg',\n",
              " '/content/drive/My Drive/Capstone/Flickr8k_Dataset/Flicker8k_Dataset/495116214_f1df479fb0.jpg',\n",
              " '/content/drive/My Drive/Capstone/Flickr8k_Dataset/Flicker8k_Dataset/495340319_705f2e63d6.jpg',\n",
              " '/content/drive/My Drive/Capstone/Flickr8k_Dataset/Flicker8k_Dataset/495341977_b27279f962.jpg',\n",
              " '/content/drive/My Drive/Capstone/Flickr8k_Dataset/Flicker8k_Dataset/49553964_cee950f3ba.jpg',\n",
              " '/content/drive/My Drive/Capstone/Flickr8k_Dataset/Flicker8k_Dataset/496110746_a93ca191ae.jpg',\n",
              " '/content/drive/My Drive/Capstone/Flickr8k_Dataset/Flicker8k_Dataset/496129405_b9feeda1ab.jpg',\n",
              " '/content/drive/My Drive/Capstone/Flickr8k_Dataset/Flicker8k_Dataset/496380034_d22aeeedb3.jpg',\n",
              " '/content/drive/My Drive/Capstone/Flickr8k_Dataset/Flicker8k_Dataset/496555371_3e1ee0d97d.jpg',\n",
              " '/content/drive/My Drive/Capstone/Flickr8k_Dataset/Flicker8k_Dataset/496606439_9333831e73.jpg',\n",
              " '/content/drive/My Drive/Capstone/Flickr8k_Dataset/Flicker8k_Dataset/496971341_22782195f0.jpg',\n",
              " '/content/drive/My Drive/Capstone/Flickr8k_Dataset/Flicker8k_Dataset/497122685_a51b29dc46.jpg',\n",
              " '/content/drive/My Drive/Capstone/Flickr8k_Dataset/Flicker8k_Dataset/497579819_f91b26f7d3.jpg',\n",
              " '/content/drive/My Drive/Capstone/Flickr8k_Dataset/Flicker8k_Dataset/497791037_93499238d8.jpg',\n",
              " '/content/drive/My Drive/Capstone/Flickr8k_Dataset/Flicker8k_Dataset/498404951_527adba7b8.jpg',\n",
              " '/content/drive/My Drive/Capstone/Flickr8k_Dataset/Flicker8k_Dataset/498444334_a680d318a1.jpg',\n",
              " '/content/drive/My Drive/Capstone/Flickr8k_Dataset/Flicker8k_Dataset/498492764_fe276e505a.jpg',\n",
              " '/content/drive/My Drive/Capstone/Flickr8k_Dataset/Flicker8k_Dataset/498748832_941faaaf40.jpg',\n",
              " '/content/drive/My Drive/Capstone/Flickr8k_Dataset/Flicker8k_Dataset/498794783_cc2ac62b47.jpg',\n",
              " '/content/drive/My Drive/Capstone/Flickr8k_Dataset/Flicker8k_Dataset/498957941_f0eda42787.jpg',\n",
              " '/content/drive/My Drive/Capstone/Flickr8k_Dataset/Flicker8k_Dataset/50030244_02cd4de372.jpg',\n",
              " '/content/drive/My Drive/Capstone/Flickr8k_Dataset/Flicker8k_Dataset/500308355_f0c19067c0.jpg',\n",
              " '/content/drive/My Drive/Capstone/Flickr8k_Dataset/Flicker8k_Dataset/500446858_125702b296.jpg',\n",
              " '/content/drive/My Drive/Capstone/Flickr8k_Dataset/Flicker8k_Dataset/500678178_26ce0f4417.jpg',\n",
              " '/content/drive/My Drive/Capstone/Flickr8k_Dataset/Flicker8k_Dataset/501320769_31eea7b7ea.jpg',\n",
              " '/content/drive/My Drive/Capstone/Flickr8k_Dataset/Flicker8k_Dataset/501520507_c86f805ab8.jpg',\n",
              " '/content/drive/My Drive/Capstone/Flickr8k_Dataset/Flicker8k_Dataset/501650847_b0beba926c.jpg',\n",
              " '/content/drive/My Drive/Capstone/Flickr8k_Dataset/Flicker8k_Dataset/501684722_0f20c4e704.jpg',\n",
              " '/content/drive/My Drive/Capstone/Flickr8k_Dataset/Flicker8k_Dataset/501699433_f8df386cf9.jpg',\n",
              " '/content/drive/My Drive/Capstone/Flickr8k_Dataset/Flicker8k_Dataset/502115726_927dd684d3.jpg',\n",
              " '/content/drive/My Drive/Capstone/Flickr8k_Dataset/Flicker8k_Dataset/502671104_b2114246c7.jpg',\n",
              " '/content/drive/My Drive/Capstone/Flickr8k_Dataset/Flicker8k_Dataset/502783522_3656f27014.jpg',\n",
              " '/content/drive/My Drive/Capstone/Flickr8k_Dataset/Flicker8k_Dataset/502884177_25939ac000.jpg',\n",
              " '/content/drive/My Drive/Capstone/Flickr8k_Dataset/Flicker8k_Dataset/503090187_8758ab5680.jpg',\n",
              " '/content/drive/My Drive/Capstone/Flickr8k_Dataset/Flicker8k_Dataset/503717911_fc43cb3cf9.jpg',\n",
              " '/content/drive/My Drive/Capstone/Flickr8k_Dataset/Flicker8k_Dataset/503794526_603a7954d3.jpg',\n",
              " '/content/drive/My Drive/Capstone/Flickr8k_Dataset/Flicker8k_Dataset/504385521_6e668691a3.jpg',\n",
              " '/content/drive/My Drive/Capstone/Flickr8k_Dataset/Flicker8k_Dataset/504765160_b4b083b293.jpg',\n",
              " '/content/drive/My Drive/Capstone/Flickr8k_Dataset/Flicker8k_Dataset/504904434_889f426c6e.jpg',\n",
              " '/content/drive/My Drive/Capstone/Flickr8k_Dataset/Flicker8k_Dataset/505062117_a70b4e10ab.jpg',\n",
              " '/content/drive/My Drive/Capstone/Flickr8k_Dataset/Flicker8k_Dataset/505929313_7668f021ab.jpg',\n",
              " '/content/drive/My Drive/Capstone/Flickr8k_Dataset/Flicker8k_Dataset/505944126_f9a6ab8944.jpg',\n",
              " '/content/drive/My Drive/Capstone/Flickr8k_Dataset/Flicker8k_Dataset/505955292_026f1489f2.jpg',\n",
              " '/content/drive/My Drive/Capstone/Flickr8k_Dataset/Flicker8k_Dataset/506343925_b30a235de6.jpg',\n",
              " '/content/drive/My Drive/Capstone/Flickr8k_Dataset/Flicker8k_Dataset/506367606_7cca2bba9b.jpg',\n",
              " '/content/drive/My Drive/Capstone/Flickr8k_Dataset/Flicker8k_Dataset/506412121_67ecc7ec05.jpg',\n",
              " '/content/drive/My Drive/Capstone/Flickr8k_Dataset/Flicker8k_Dataset/506478284_7cf8bdbe36.jpg',\n",
              " '/content/drive/My Drive/Capstone/Flickr8k_Dataset/Flicker8k_Dataset/506738508_327efdf9c3.jpg',\n",
              " '/content/drive/My Drive/Capstone/Flickr8k_Dataset/Flicker8k_Dataset/506808265_fe84ada926.jpg',\n",
              " '/content/drive/My Drive/Capstone/Flickr8k_Dataset/Flicker8k_Dataset/506882688_b37d549593.jpg',\n",
              " '/content/drive/My Drive/Capstone/Flickr8k_Dataset/Flicker8k_Dataset/507758961_e63ca126cc.jpg',\n",
              " '/content/drive/My Drive/Capstone/Flickr8k_Dataset/Flicker8k_Dataset/508261758_78fb8ae067.jpg',\n",
              " '/content/drive/My Drive/Capstone/Flickr8k_Dataset/Flicker8k_Dataset/508432819_3d055f395d.jpg',\n",
              " '/content/drive/My Drive/Capstone/Flickr8k_Dataset/Flicker8k_Dataset/508929192_670910fdd2.jpg',\n",
              " '/content/drive/My Drive/Capstone/Flickr8k_Dataset/Flicker8k_Dataset/508958120_afe274f726.jpg',\n",
              " '/content/drive/My Drive/Capstone/Flickr8k_Dataset/Flicker8k_Dataset/509123893_07b8ea82a9.jpg',\n",
              " '/content/drive/My Drive/Capstone/Flickr8k_Dataset/Flicker8k_Dataset/509200598_171a1ab6c8.jpg',\n",
              " '/content/drive/My Drive/Capstone/Flickr8k_Dataset/Flicker8k_Dataset/509241560_00e5b20562.jpg',\n",
              " '/content/drive/My Drive/Capstone/Flickr8k_Dataset/Flicker8k_Dataset/509778093_21236bb64d.jpg',\n",
              " '/content/drive/My Drive/Capstone/Flickr8k_Dataset/Flicker8k_Dataset/510197538_0a11b94460.jpg',\n",
              " '/content/drive/My Drive/Capstone/Flickr8k_Dataset/Flicker8k_Dataset/510510783_b2cf5d57bb.jpg',\n",
              " '/content/drive/My Drive/Capstone/Flickr8k_Dataset/Flicker8k_Dataset/510531976_90bbee22a2.jpg',\n",
              " '/content/drive/My Drive/Capstone/Flickr8k_Dataset/Flicker8k_Dataset/510791586_3913ade6a7.jpg',\n",
              " '/content/drive/My Drive/Capstone/Flickr8k_Dataset/Flicker8k_Dataset/511282305_dbab4bf4be.jpg',\n",
              " '/content/drive/My Drive/Capstone/Flickr8k_Dataset/Flicker8k_Dataset/511749704_3037806cb1.jpg',\n",
              " '/content/drive/My Drive/Capstone/Flickr8k_Dataset/Flicker8k_Dataset/511844627_0ec78e01e9.jpg',\n",
              " '/content/drive/My Drive/Capstone/Flickr8k_Dataset/Flicker8k_Dataset/512026551_ba63ddbd31.jpg',\n",
              " '/content/drive/My Drive/Capstone/Flickr8k_Dataset/Flicker8k_Dataset/512031915_0dd03dcdf9.jpg',\n",
              " '/content/drive/My Drive/Capstone/Flickr8k_Dataset/Flicker8k_Dataset/512045825_1be2083922.jpg',\n",
              " '/content/drive/My Drive/Capstone/Flickr8k_Dataset/Flicker8k_Dataset/512101751_05a6d93e19.jpg',\n",
              " '/content/drive/My Drive/Capstone/Flickr8k_Dataset/Flicker8k_Dataset/512163695_51a108761d.jpg',\n",
              " '/content/drive/My Drive/Capstone/Flickr8k_Dataset/Flicker8k_Dataset/512306469_1392697d32.jpg',\n",
              " '/content/drive/My Drive/Capstone/Flickr8k_Dataset/Flicker8k_Dataset/512550372_438849ce19.jpg',\n",
              " '/content/drive/My Drive/Capstone/Flickr8k_Dataset/Flicker8k_Dataset/512634877_d7ad8c8329.jpg',\n",
              " '/content/drive/My Drive/Capstone/Flickr8k_Dataset/Flicker8k_Dataset/512991147_dc48e6839c.jpg',\n",
              " '/content/drive/My Drive/Capstone/Flickr8k_Dataset/Flicker8k_Dataset/513116697_ad0f4dc800.jpg',\n",
              " '/content/drive/My Drive/Capstone/Flickr8k_Dataset/Flicker8k_Dataset/513269597_c38308feaf.jpg',\n",
              " '/content/drive/My Drive/Capstone/Flickr8k_Dataset/Flicker8k_Dataset/514036362_5f2b9b7314.jpg',\n",
              " '/content/drive/My Drive/Capstone/Flickr8k_Dataset/Flicker8k_Dataset/514073775_56796be990.jpg',\n",
              " '/content/drive/My Drive/Capstone/Flickr8k_Dataset/Flicker8k_Dataset/514222285_aa0c8d05b7.jpg',\n",
              " '/content/drive/My Drive/Capstone/Flickr8k_Dataset/Flicker8k_Dataset/514222303_cb98584536.jpg',\n",
              " '/content/drive/My Drive/Capstone/Flickr8k_Dataset/Flicker8k_Dataset/514431934_9cf78f05a9.jpg',\n",
              " '/content/drive/My Drive/Capstone/Flickr8k_Dataset/Flicker8k_Dataset/514905846_b54d13946a.jpg',\n",
              " '/content/drive/My Drive/Capstone/Flickr8k_Dataset/Flicker8k_Dataset/514990193_2d2422af2c.jpg',\n",
              " '/content/drive/My Drive/Capstone/Flickr8k_Dataset/Flicker8k_Dataset/515335111_c4afd5b903.jpg',\n",
              " '/content/drive/My Drive/Capstone/Flickr8k_Dataset/Flicker8k_Dataset/515702827_be3c6ce857.jpg',\n",
              " '/content/drive/My Drive/Capstone/Flickr8k_Dataset/Flicker8k_Dataset/515755283_8f890b3207.jpg',\n",
              " '/content/drive/My Drive/Capstone/Flickr8k_Dataset/Flicker8k_Dataset/515797344_4ae75cb9b1.jpg',\n",
              " '/content/drive/My Drive/Capstone/Flickr8k_Dataset/Flicker8k_Dataset/516214924_c2a4364cb3.jpg',\n",
              " '/content/drive/My Drive/Capstone/Flickr8k_Dataset/Flicker8k_Dataset/516394876_8b9b8021bc.jpg',\n",
              " '/content/drive/My Drive/Capstone/Flickr8k_Dataset/Flicker8k_Dataset/516648762_0cff84ea97.jpg',\n",
              " '/content/drive/My Drive/Capstone/Flickr8k_Dataset/Flicker8k_Dataset/516725192_c9cdd63878.jpg',\n",
              " '/content/drive/My Drive/Capstone/Flickr8k_Dataset/Flicker8k_Dataset/516761840_842dabc908.jpg',\n",
              " '/content/drive/My Drive/Capstone/Flickr8k_Dataset/Flicker8k_Dataset/516998046_1175674fcd.jpg',\n",
              " '/content/drive/My Drive/Capstone/Flickr8k_Dataset/Flicker8k_Dataset/517094985_4b9e926936.jpg',\n",
              " '/content/drive/My Drive/Capstone/Flickr8k_Dataset/Flicker8k_Dataset/517102724_a0f3069156.jpg',\n",
              " '/content/drive/My Drive/Capstone/Flickr8k_Dataset/Flicker8k_Dataset/518144037_9a1754b2a6.jpg',\n",
              " '/content/drive/My Drive/Capstone/Flickr8k_Dataset/Flicker8k_Dataset/518251319_40e031e818.jpg',\n",
              " '/content/drive/My Drive/Capstone/Flickr8k_Dataset/Flicker8k_Dataset/518610439_b64ab21c02.jpg',\n",
              " '/content/drive/My Drive/Capstone/Flickr8k_Dataset/Flicker8k_Dataset/518789868_8895ef8792.jpg',\n",
              " '/content/drive/My Drive/Capstone/Flickr8k_Dataset/Flicker8k_Dataset/519059913_4906fe4050.jpg',\n",
              " '/content/drive/My Drive/Capstone/Flickr8k_Dataset/Flicker8k_Dataset/519061891_320061864e.jpg',\n",
              " '/content/drive/My Drive/Capstone/Flickr8k_Dataset/Flicker8k_Dataset/519167484_ee03e2a91e.jpg',\n",
              " '/content/drive/My Drive/Capstone/Flickr8k_Dataset/Flicker8k_Dataset/519228867_2fd25e38d4.jpg',\n",
              " '/content/drive/My Drive/Capstone/Flickr8k_Dataset/Flicker8k_Dataset/519754987_51861fea85.jpg',\n",
              " '/content/drive/My Drive/Capstone/Flickr8k_Dataset/Flicker8k_Dataset/520491467_54cbc0a866.jpg',\n",
              " '/content/drive/My Drive/Capstone/Flickr8k_Dataset/Flicker8k_Dataset/521186251_e97d1f50f8.jpg',\n",
              " '/content/drive/My Drive/Capstone/Flickr8k_Dataset/Flicker8k_Dataset/521658170_a837af87e9.jpg',\n",
              " '/content/drive/My Drive/Capstone/Flickr8k_Dataset/Flicker8k_Dataset/522063319_33827f1627.jpg',\n",
              " '/content/drive/My Drive/Capstone/Flickr8k_Dataset/Flicker8k_Dataset/522486784_978021d537.jpg',\n",
              " '/content/drive/My Drive/Capstone/Flickr8k_Dataset/Flicker8k_Dataset/522652105_a89f1cf260.jpg',\n",
              " '/content/drive/My Drive/Capstone/Flickr8k_Dataset/Flicker8k_Dataset/522700240_d9af45e60d.jpg',\n",
              " '/content/drive/My Drive/Capstone/Flickr8k_Dataset/Flicker8k_Dataset/523249012_a0a25f487e.jpg',\n",
              " '/content/drive/My Drive/Capstone/Flickr8k_Dataset/Flicker8k_Dataset/523327429_af093fc7cf.jpg',\n",
              " '/content/drive/My Drive/Capstone/Flickr8k_Dataset/Flicker8k_Dataset/523692399_d2e261a302.jpg',\n",
              " '/content/drive/My Drive/Capstone/Flickr8k_Dataset/Flicker8k_Dataset/523985664_c866af4850.jpg',\n",
              " '/content/drive/My Drive/Capstone/Flickr8k_Dataset/Flicker8k_Dataset/523991446_65dbc5a4a5.jpg',\n",
              " '/content/drive/My Drive/Capstone/Flickr8k_Dataset/Flicker8k_Dataset/524031846_28b11bc0e5.jpg',\n",
              " '/content/drive/My Drive/Capstone/Flickr8k_Dataset/Flicker8k_Dataset/524036004_6747cf909b.jpg',\n",
              " '/content/drive/My Drive/Capstone/Flickr8k_Dataset/Flicker8k_Dataset/524105255_b346f288be.jpg',\n",
              " '/content/drive/My Drive/Capstone/Flickr8k_Dataset/Flicker8k_Dataset/524282699_71e678a6bd.jpg',\n",
              " '/content/drive/My Drive/Capstone/Flickr8k_Dataset/Flicker8k_Dataset/524310507_51220580de.jpg',\n",
              " '/content/drive/My Drive/Capstone/Flickr8k_Dataset/Flicker8k_Dataset/524360969_472a7152f0.jpg',\n",
              " '/content/drive/My Drive/Capstone/Flickr8k_Dataset/Flicker8k_Dataset/524698457_77ba13840a.jpg',\n",
              " '/content/drive/My Drive/Capstone/Flickr8k_Dataset/Flicker8k_Dataset/525538142_7348f0bce7.jpg',\n",
              " '/content/drive/My Drive/Capstone/Flickr8k_Dataset/Flicker8k_Dataset/525863257_053333e612.jpg',\n",
              " '/content/drive/My Drive/Capstone/Flickr8k_Dataset/Flicker8k_Dataset/525887861_4cc7a1beca.jpg',\n",
              " '/content/drive/My Drive/Capstone/Flickr8k_Dataset/Flicker8k_Dataset/525968880_82623392d1.jpg',\n",
              " '/content/drive/My Drive/Capstone/Flickr8k_Dataset/Flicker8k_Dataset/526661994_21838fc72c.jpg',\n",
              " '/content/drive/My Drive/Capstone/Flickr8k_Dataset/Flicker8k_Dataset/526955751_f519d62b58.jpg',\n",
              " '/content/drive/My Drive/Capstone/Flickr8k_Dataset/Flicker8k_Dataset/527272653_8a5bd818e5.jpg',\n",
              " '/content/drive/My Drive/Capstone/Flickr8k_Dataset/Flicker8k_Dataset/527288854_f26127b770.jpg',\n",
              " '/content/drive/My Drive/Capstone/Flickr8k_Dataset/Flicker8k_Dataset/527946505_a51ade1578.jpg',\n",
              " '/content/drive/My Drive/Capstone/Flickr8k_Dataset/Flicker8k_Dataset/527968666_1fcddf81ab.jpg',\n",
              " '/content/drive/My Drive/Capstone/Flickr8k_Dataset/Flicker8k_Dataset/528498076_43f0ef36b5.jpg',\n",
              " '/content/drive/My Drive/Capstone/Flickr8k_Dataset/Flicker8k_Dataset/528500099_7be78a0ca5.jpg',\n",
              " '/content/drive/My Drive/Capstone/Flickr8k_Dataset/Flicker8k_Dataset/529101401_ab1f6b1206.jpg',\n",
              " '/content/drive/My Drive/Capstone/Flickr8k_Dataset/Flicker8k_Dataset/529198549_5cd9fedf3f.jpg',\n",
              " '/content/drive/My Drive/Capstone/Flickr8k_Dataset/Flicker8k_Dataset/53043785_c468d6f931.jpg',\n",
              " '/content/drive/My Drive/Capstone/Flickr8k_Dataset/Flicker8k_Dataset/530454257_66d58b49ee.jpg',\n",
              " '/content/drive/My Drive/Capstone/Flickr8k_Dataset/Flicker8k_Dataset/530661899_94655d7d0e.jpg',\n",
              " '/content/drive/My Drive/Capstone/Flickr8k_Dataset/Flicker8k_Dataset/530888330_a18343e38d.jpg',\n",
              " '/content/drive/My Drive/Capstone/Flickr8k_Dataset/Flicker8k_Dataset/530950375_eea665583f.jpg',\n",
              " '/content/drive/My Drive/Capstone/Flickr8k_Dataset/Flicker8k_Dataset/531055369_936fd76a63.jpg',\n",
              " '/content/drive/My Drive/Capstone/Flickr8k_Dataset/Flicker8k_Dataset/531152619_6db02a7ed9.jpg',\n",
              " '/content/drive/My Drive/Capstone/Flickr8k_Dataset/Flicker8k_Dataset/531197115_2be4d5034b.jpg',\n",
              " '/content/drive/My Drive/Capstone/Flickr8k_Dataset/Flicker8k_Dataset/531261613_f1a045cd75.jpg',\n",
              " '/content/drive/My Drive/Capstone/Flickr8k_Dataset/Flicker8k_Dataset/532036676_e88b13e0a1.jpg',\n",
              " '/content/drive/My Drive/Capstone/Flickr8k_Dataset/Flicker8k_Dataset/532131603_c82d454c8a.jpg',\n",
              " '/content/drive/My Drive/Capstone/Flickr8k_Dataset/Flicker8k_Dataset/532396029_ce125bda3f.jpg',\n",
              " '/content/drive/My Drive/Capstone/Flickr8k_Dataset/Flicker8k_Dataset/532457586_bddfc5251d.jpg',\n",
              " '/content/drive/My Drive/Capstone/Flickr8k_Dataset/Flicker8k_Dataset/532914728_c5d8d56b0b.jpg',\n",
              " '/content/drive/My Drive/Capstone/Flickr8k_Dataset/Flicker8k_Dataset/532999240_1409d073be.jpg',\n",
              " '/content/drive/My Drive/Capstone/Flickr8k_Dataset/Flicker8k_Dataset/533483374_86c5d4c13e.jpg',\n",
              " '/content/drive/My Drive/Capstone/Flickr8k_Dataset/Flicker8k_Dataset/533602654_9edc74385d.jpg',\n",
              " '/content/drive/My Drive/Capstone/Flickr8k_Dataset/Flicker8k_Dataset/533713001_2d36e93509.jpg',\n",
              " '/content/drive/My Drive/Capstone/Flickr8k_Dataset/Flicker8k_Dataset/533713007_bf9f3e25b4.jpg',\n",
              " '/content/drive/My Drive/Capstone/Flickr8k_Dataset/Flicker8k_Dataset/533979933_a95b03323b.jpg',\n",
              " '/content/drive/My Drive/Capstone/Flickr8k_Dataset/Flicker8k_Dataset/534056823_0752303702.jpg',\n",
              " '/content/drive/My Drive/Capstone/Flickr8k_Dataset/Flicker8k_Dataset/534200447_b0f3ff02be.jpg',\n",
              " '/content/drive/My Drive/Capstone/Flickr8k_Dataset/Flicker8k_Dataset/534313000_4ad39c7ee0.jpg',\n",
              " '/content/drive/My Drive/Capstone/Flickr8k_Dataset/Flicker8k_Dataset/534655560_dc1c335b3f.jpg',\n",
              " '/content/drive/My Drive/Capstone/Flickr8k_Dataset/Flicker8k_Dataset/534669139_1a4f8ab9d5.jpg',\n",
              " '/content/drive/My Drive/Capstone/Flickr8k_Dataset/Flicker8k_Dataset/534875358_6ea30d3091.jpg',\n",
              " '/content/drive/My Drive/Capstone/Flickr8k_Dataset/Flicker8k_Dataset/534886684_a6c9f40fa1.jpg',\n",
              " '/content/drive/My Drive/Capstone/Flickr8k_Dataset/Flicker8k_Dataset/535123126_c06c1ab9bf.jpg',\n",
              " '/content/drive/My Drive/Capstone/Flickr8k_Dataset/Flicker8k_Dataset/535249787_0fcaa613a0.jpg',\n",
              " '/content/drive/My Drive/Capstone/Flickr8k_Dataset/Flicker8k_Dataset/535309053_ec737abde8.jpg',\n",
              " '/content/drive/My Drive/Capstone/Flickr8k_Dataset/Flicker8k_Dataset/535399240_0714a6e950.jpg',\n",
              " '/content/drive/My Drive/Capstone/Flickr8k_Dataset/Flicker8k_Dataset/535529555_583d89b7f2.jpg',\n",
              " '/content/drive/My Drive/Capstone/Flickr8k_Dataset/Flicker8k_Dataset/535830521_aa971319fc.jpg',\n",
              " '/content/drive/My Drive/Capstone/Flickr8k_Dataset/Flicker8k_Dataset/536495604_b22bbc905a.jpg',\n",
              " '/content/drive/My Drive/Capstone/Flickr8k_Dataset/Flicker8k_Dataset/536537638_f5ee42410b.jpg',\n",
              " '/content/drive/My Drive/Capstone/Flickr8k_Dataset/Flicker8k_Dataset/536721406_884ab8fece.jpg',\n",
              " '/content/drive/My Drive/Capstone/Flickr8k_Dataset/Flicker8k_Dataset/536828916_b763b82949.jpg',\n",
              " '/content/drive/My Drive/Capstone/Flickr8k_Dataset/Flicker8k_Dataset/537222436_ab406234ce.jpg',\n",
              " '/content/drive/My Drive/Capstone/Flickr8k_Dataset/Flicker8k_Dataset/537225246_dd0e2158a7.jpg',\n",
              " '/content/drive/My Drive/Capstone/Flickr8k_Dataset/Flicker8k_Dataset/537230454_1f09199476.jpg',\n",
              " '/content/drive/My Drive/Capstone/Flickr8k_Dataset/Flicker8k_Dataset/537359971_6e28f5e66e.jpg',\n",
              " '/content/drive/My Drive/Capstone/Flickr8k_Dataset/Flicker8k_Dataset/537390477_7dd3407f96.jpg',\n",
              " '/content/drive/My Drive/Capstone/Flickr8k_Dataset/Flicker8k_Dataset/537479916_c033897fac.jpg',\n",
              " '/content/drive/My Drive/Capstone/Flickr8k_Dataset/Flicker8k_Dataset/537532165_e4b7c0e61a.jpg',\n",
              " '/content/drive/My Drive/Capstone/Flickr8k_Dataset/Flicker8k_Dataset/537559285_29be110134.jpg',\n",
              " '/content/drive/My Drive/Capstone/Flickr8k_Dataset/Flicker8k_Dataset/537579448_a7f92cef58.jpg',\n",
              " '/content/drive/My Drive/Capstone/Flickr8k_Dataset/Flicker8k_Dataset/537628742_146f2c24f8.jpg',\n",
              " '/content/drive/My Drive/Capstone/Flickr8k_Dataset/Flicker8k_Dataset/537758332_8beb9cf522.jpg',\n",
              " '/content/drive/My Drive/Capstone/Flickr8k_Dataset/Flicker8k_Dataset/538825260_a4a8784b75.jpg',\n",
              " '/content/drive/My Drive/Capstone/Flickr8k_Dataset/Flicker8k_Dataset/539493423_9d7d1b77fa.jpg',\n",
              " '/content/drive/My Drive/Capstone/Flickr8k_Dataset/Flicker8k_Dataset/539493431_744eb1abaa.jpg',\n",
              " '/content/drive/My Drive/Capstone/Flickr8k_Dataset/Flicker8k_Dataset/539667015_fd0a3bea07.jpg',\n",
              " '/content/drive/My Drive/Capstone/Flickr8k_Dataset/Flicker8k_Dataset/539676201_c8f1f04952.jpg',\n",
              " '/content/drive/My Drive/Capstone/Flickr8k_Dataset/Flicker8k_Dataset/539705321_99406e5820.jpg',\n",
              " '/content/drive/My Drive/Capstone/Flickr8k_Dataset/Flicker8k_Dataset/539744890_85e63f5854.jpg',\n",
              " '/content/drive/My Drive/Capstone/Flickr8k_Dataset/Flicker8k_Dataset/539750844_02a07ec524.jpg',\n",
              " '/content/drive/My Drive/Capstone/Flickr8k_Dataset/Flicker8k_Dataset/539751252_2bd88c456b.jpg',\n",
              " '/content/drive/My Drive/Capstone/Flickr8k_Dataset/Flicker8k_Dataset/539761097_5c6c70425b.jpg',\n",
              " '/content/drive/My Drive/Capstone/Flickr8k_Dataset/Flicker8k_Dataset/539801139_7258ee437f.jpg',\n",
              " '/content/drive/My Drive/Capstone/Flickr8k_Dataset/Flicker8k_Dataset/540338917_57069687be.jpg',\n",
              " '/content/drive/My Drive/Capstone/Flickr8k_Dataset/Flicker8k_Dataset/540604040_bec822c144.jpg',\n",
              " '/content/drive/My Drive/Capstone/Flickr8k_Dataset/Flicker8k_Dataset/540721368_12ac732c6c.jpg',\n",
              " '/content/drive/My Drive/Capstone/Flickr8k_Dataset/Flicker8k_Dataset/540873795_ae62ae6f60.jpg',\n",
              " '/content/drive/My Drive/Capstone/Flickr8k_Dataset/Flicker8k_Dataset/541046380_513e295384.jpg',\n",
              " '/content/drive/My Drive/Capstone/Flickr8k_Dataset/Flicker8k_Dataset/541063419_a5f3672d59.jpg',\n",
              " '/content/drive/My Drive/Capstone/Flickr8k_Dataset/Flicker8k_Dataset/541063517_35044c554a.jpg',\n",
              " '/content/drive/My Drive/Capstone/Flickr8k_Dataset/Flicker8k_Dataset/542179694_e170e9e465.jpg',\n",
              " '/content/drive/My Drive/Capstone/Flickr8k_Dataset/Flicker8k_Dataset/542269487_5d77b363eb.jpg',\n",
              " '/content/drive/My Drive/Capstone/Flickr8k_Dataset/Flicker8k_Dataset/542317719_ed4dd95dc2.jpg',\n",
              " '/content/drive/My Drive/Capstone/Flickr8k_Dataset/Flicker8k_Dataset/542405691_0594b1ce72.jpg',\n",
              " '/content/drive/My Drive/Capstone/Flickr8k_Dataset/Flicker8k_Dataset/542648687_adf13c406b.jpg',\n",
              " '/content/drive/My Drive/Capstone/Flickr8k_Dataset/Flicker8k_Dataset/543007912_23fc735b99.jpg',\n",
              " '/content/drive/My Drive/Capstone/Flickr8k_Dataset/Flicker8k_Dataset/543102698_38e7e38bbc.jpg',\n",
              " '/content/drive/My Drive/Capstone/Flickr8k_Dataset/Flicker8k_Dataset/543264612_c53cc163b4.jpg',\n",
              " '/content/drive/My Drive/Capstone/Flickr8k_Dataset/Flicker8k_Dataset/543291644_64539956e9.jpg',\n",
              " '/content/drive/My Drive/Capstone/Flickr8k_Dataset/Flicker8k_Dataset/543326592_70bd4d8602.jpg',\n",
              " '/content/drive/My Drive/Capstone/Flickr8k_Dataset/Flicker8k_Dataset/543363241_74d8246fab.jpg',\n",
              " '/content/drive/My Drive/Capstone/Flickr8k_Dataset/Flicker8k_Dataset/543603259_ef26d9c72d.jpg',\n",
              " '/content/drive/My Drive/Capstone/Flickr8k_Dataset/Flicker8k_Dataset/543940240_a54a3c7989.jpg',\n",
              " '/content/drive/My Drive/Capstone/Flickr8k_Dataset/Flicker8k_Dataset/544122267_e9e0100bc5.jpg',\n",
              " '/content/drive/My Drive/Capstone/Flickr8k_Dataset/Flicker8k_Dataset/544257613_d9a1fea3f7.jpg',\n",
              " '/content/drive/My Drive/Capstone/Flickr8k_Dataset/Flicker8k_Dataset/544301311_5e7d69a517.jpg',\n",
              " '/content/drive/My Drive/Capstone/Flickr8k_Dataset/Flicker8k_Dataset/544576742_283b65fa0d.jpg',\n",
              " '/content/drive/My Drive/Capstone/Flickr8k_Dataset/Flicker8k_Dataset/54501196_a9ac9d66f2.jpg',\n",
              " '/content/drive/My Drive/Capstone/Flickr8k_Dataset/Flicker8k_Dataset/54723805_bcf7af3f16.jpg',\n",
              " '/content/drive/My Drive/Capstone/Flickr8k_Dataset/Flicker8k_Dataset/548751378_c657401312.jpg',\n",
              " '/content/drive/My Drive/Capstone/Flickr8k_Dataset/Flicker8k_Dataset/549520317_af3d5c32eb.jpg',\n",
              " '/content/drive/My Drive/Capstone/Flickr8k_Dataset/Flicker8k_Dataset/549887636_0ea5ae4739.jpg',\n",
              " '/content/drive/My Drive/Capstone/Flickr8k_Dataset/Flicker8k_Dataset/55135290_9bed5c4ca3.jpg',\n",
              " '/content/drive/My Drive/Capstone/Flickr8k_Dataset/Flicker8k_Dataset/551403320_dfdcf9fc3b.jpg',\n",
              " '/content/drive/My Drive/Capstone/Flickr8k_Dataset/Flicker8k_Dataset/551664516_78a5131dc4.jpg',\n",
              " '/content/drive/My Drive/Capstone/Flickr8k_Dataset/Flicker8k_Dataset/554526471_a31f8b74ef.jpg',\n",
              " '/content/drive/My Drive/Capstone/Flickr8k_Dataset/Flicker8k_Dataset/55470226_52ff517151.jpg',\n",
              " '/content/drive/My Drive/Capstone/Flickr8k_Dataset/Flicker8k_Dataset/55473406_1d2271c1f2.jpg',\n",
              " '/content/drive/My Drive/Capstone/Flickr8k_Dataset/Flicker8k_Dataset/554774472_b5d165ff69.jpg',\n",
              " '/content/drive/My Drive/Capstone/Flickr8k_Dataset/Flicker8k_Dataset/556568556_bc5124dc8e.jpg',\n",
              " '/content/drive/My Drive/Capstone/Flickr8k_Dataset/Flicker8k_Dataset/557101732_32bbc47c12.jpg',\n",
              " '/content/drive/My Drive/Capstone/Flickr8k_Dataset/Flicker8k_Dataset/557601144_50b8c40393.jpg',\n",
              " '/content/drive/My Drive/Capstone/Flickr8k_Dataset/Flicker8k_Dataset/557721978_dfde31bc02.jpg',\n",
              " '/content/drive/My Drive/Capstone/Flickr8k_Dataset/Flicker8k_Dataset/559102835_472ff702b5.jpg',\n",
              " '/content/drive/My Drive/Capstone/Flickr8k_Dataset/Flicker8k_Dataset/560278886_df4bd2e212.jpg',\n",
              " '/content/drive/My Drive/Capstone/Flickr8k_Dataset/Flicker8k_Dataset/561179884_8b6b925ef9.jpg',\n",
              " '/content/drive/My Drive/Capstone/Flickr8k_Dataset/Flicker8k_Dataset/561179890_af8e31cb2e.jpg',\n",
              " '/content/drive/My Drive/Capstone/Flickr8k_Dataset/Flicker8k_Dataset/561417861_8e25d0c0e8.jpg',\n",
              " '/content/drive/My Drive/Capstone/Flickr8k_Dataset/Flicker8k_Dataset/561940436_64d6fc125d.jpg',\n",
              " '/content/drive/My Drive/Capstone/Flickr8k_Dataset/Flicker8k_Dataset/562588230_edb2c071c8.jpg',\n",
              " '/content/drive/My Drive/Capstone/Flickr8k_Dataset/Flicker8k_Dataset/562928217_21f967a807.jpg',\n",
              " '/content/drive/My Drive/Capstone/Flickr8k_Dataset/Flicker8k_Dataset/56489627_e1de43de34.jpg',\n",
              " '/content/drive/My Drive/Capstone/Flickr8k_Dataset/Flicker8k_Dataset/56494233_1824005879.jpg',\n",
              " '/content/drive/My Drive/Capstone/Flickr8k_Dataset/Flicker8k_Dataset/565605894_8f0bed0438.jpg',\n",
              " '/content/drive/My Drive/Capstone/Flickr8k_Dataset/Flicker8k_Dataset/566384456_97da3c7bd6.jpg',\n",
              " '/content/drive/My Drive/Capstone/Flickr8k_Dataset/Flicker8k_Dataset/566397227_a469e9e415.jpg',\n",
              " '/content/drive/My Drive/Capstone/Flickr8k_Dataset/Flicker8k_Dataset/566446626_9793890f95.jpg',\n",
              " '/content/drive/My Drive/Capstone/Flickr8k_Dataset/Flicker8k_Dataset/566794036_60f7acdf35.jpg',\n",
              " '/content/drive/My Drive/Capstone/Flickr8k_Dataset/Flicker8k_Dataset/566794440_f9ec673a2f.jpg',\n",
              " '/content/drive/My Drive/Capstone/Flickr8k_Dataset/Flicker8k_Dataset/566921157_07c18a41e2.jpg',\n",
              " '/content/drive/My Drive/Capstone/Flickr8k_Dataset/Flicker8k_Dataset/571130875_30051ac02d.jpg',\n",
              " '/content/drive/My Drive/Capstone/Flickr8k_Dataset/Flicker8k_Dataset/571507143_be346225b7.jpg',\n",
              " '/content/drive/My Drive/Capstone/Flickr8k_Dataset/Flicker8k_Dataset/572618443_647483ca82.jpg',\n",
              " '/content/drive/My Drive/Capstone/Flickr8k_Dataset/Flicker8k_Dataset/57417274_d55d34e93e.jpg',\n",
              " '/content/drive/My Drive/Capstone/Flickr8k_Dataset/Flicker8k_Dataset/57422853_b5f6366081.jpg',\n",
              " '/content/drive/My Drive/Capstone/Flickr8k_Dataset/Flicker8k_Dataset/574274795_57e0834e7d.jpg',\n",
              " '/content/drive/My Drive/Capstone/Flickr8k_Dataset/Flicker8k_Dataset/575636303_b0b8fd4eee.jpg',\n",
              " '/content/drive/My Drive/Capstone/Flickr8k_Dataset/Flicker8k_Dataset/576075451_5e0f6facb3.jpg',\n",
              " '/content/drive/My Drive/Capstone/Flickr8k_Dataset/Flicker8k_Dataset/576093768_e78f91c176.jpg',\n",
              " '/content/drive/My Drive/Capstone/Flickr8k_Dataset/Flicker8k_Dataset/576920249_df1bdc2068.jpg',\n",
              " '/content/drive/My Drive/Capstone/Flickr8k_Dataset/Flicker8k_Dataset/578274277_652cae32ba.jpg',\n",
              " '/content/drive/My Drive/Capstone/Flickr8k_Dataset/Flicker8k_Dataset/578644583_da3ff18dd1.jpg',\n",
              " '/content/drive/My Drive/Capstone/Flickr8k_Dataset/Flicker8k_Dataset/581419370_30485f3580.jpg',\n",
              " '/content/drive/My Drive/Capstone/Flickr8k_Dataset/Flicker8k_Dataset/582788646_dc40748639.jpg',\n",
              " '/content/drive/My Drive/Capstone/Flickr8k_Dataset/Flicker8k_Dataset/582899605_d96f9201f1.jpg',\n",
              " '/content/drive/My Drive/Capstone/Flickr8k_Dataset/Flicker8k_Dataset/583087629_a09334e1fb.jpg',\n",
              " '/content/drive/My Drive/Capstone/Flickr8k_Dataset/Flicker8k_Dataset/583174725_6b522b621f.jpg',\n",
              " '/content/drive/My Drive/Capstone/Flickr8k_Dataset/Flicker8k_Dataset/58357057_dea882479e.jpg',\n",
              " '/content/drive/My Drive/Capstone/Flickr8k_Dataset/Flicker8k_Dataset/58363928_6f7074608c.jpg',\n",
              " '/content/drive/My Drive/Capstone/Flickr8k_Dataset/Flicker8k_Dataset/58363930_0544844edd.jpg',\n",
              " '/content/drive/My Drive/Capstone/Flickr8k_Dataset/Flicker8k_Dataset/58368365_03ed3e5bdf.jpg',\n",
              " '/content/drive/My Drive/Capstone/Flickr8k_Dataset/Flicker8k_Dataset/584484388_0eeb36d03d.jpg',\n",
              " '/content/drive/My Drive/Capstone/Flickr8k_Dataset/Flicker8k_Dataset/587604325_af5d6df679.jpg',\n",
              " '/content/drive/My Drive/Capstone/Flickr8k_Dataset/Flicker8k_Dataset/590445887_4d4fa43923.jpg',\n",
              " '/content/drive/My Drive/Capstone/Flickr8k_Dataset/Flicker8k_Dataset/597543181_6a85ef4c17.jpg',\n",
              " '/content/drive/My Drive/Capstone/Flickr8k_Dataset/Flicker8k_Dataset/599366440_a238e805cf.jpg',\n",
              " '/content/drive/My Drive/Capstone/Flickr8k_Dataset/Flicker8k_Dataset/607339469_af851c4119.jpg',\n",
              " '/content/drive/My Drive/Capstone/Flickr8k_Dataset/Flicker8k_Dataset/608257195_6ec6f48e37.jpg',\n",
              " '/content/drive/My Drive/Capstone/Flickr8k_Dataset/Flicker8k_Dataset/609681901_66809d2dc1.jpg',\n",
              " '/content/drive/My Drive/Capstone/Flickr8k_Dataset/Flicker8k_Dataset/610590753_cd69ce081a.jpg',\n",
              " '/content/drive/My Drive/Capstone/Flickr8k_Dataset/Flicker8k_Dataset/611910909_4f8e43e070.jpg',\n",
              " '/content/drive/My Drive/Capstone/Flickr8k_Dataset/Flicker8k_Dataset/61209225_8512e1dad5.jpg',\n",
              " '/content/drive/My Drive/Capstone/Flickr8k_Dataset/Flicker8k_Dataset/613030608_4355e007c7.jpg',\n",
              " '/content/drive/My Drive/Capstone/Flickr8k_Dataset/Flicker8k_Dataset/613900608_2e49415772.jpg',\n",
              " '/content/drive/My Drive/Capstone/Flickr8k_Dataset/Flicker8k_Dataset/615916000_5044047d71.jpg',\n",
              " '/content/drive/My Drive/Capstone/Flickr8k_Dataset/Flicker8k_Dataset/616045808_0286d0574b.jpg',\n",
              " '/content/drive/My Drive/Capstone/Flickr8k_Dataset/Flicker8k_Dataset/616177206_0e16c33f6b.jpg',\n",
              " '/content/drive/My Drive/Capstone/Flickr8k_Dataset/Flicker8k_Dataset/617038406_4092ee91dd.jpg',\n",
              " '/content/drive/My Drive/Capstone/Flickr8k_Dataset/Flicker8k_Dataset/618292739_0fdc2ccab0.jpg',\n",
              " '/content/drive/My Drive/Capstone/Flickr8k_Dataset/Flicker8k_Dataset/618771382_459bb492e4.jpg',\n",
              " '/content/drive/My Drive/Capstone/Flickr8k_Dataset/Flicker8k_Dataset/619169586_0a13ee7c21.jpg',\n",
              " '/content/drive/My Drive/Capstone/Flickr8k_Dataset/Flicker8k_Dataset/621000329_84f48948eb.jpg',\n",
              " '/content/drive/My Drive/Capstone/Flickr8k_Dataset/Flicker8k_Dataset/624058168_f1c5e87e59.jpg',\n",
              " '/content/drive/My Drive/Capstone/Flickr8k_Dataset/Flicker8k_Dataset/624742559_ff467d8ebc.jpg',\n",
              " '/content/drive/My Drive/Capstone/Flickr8k_Dataset/Flicker8k_Dataset/630476551_2ee7399f77.jpg',\n",
              " '/content/drive/My Drive/Capstone/Flickr8k_Dataset/Flicker8k_Dataset/632251903_b36701a5e9.jpg',\n",
              " '/content/drive/My Drive/Capstone/Flickr8k_Dataset/Flicker8k_Dataset/632608471_a70461f123.jpg',\n",
              " '/content/drive/My Drive/Capstone/Flickr8k_Dataset/Flicker8k_Dataset/633456174_b768c1d6cd.jpg',\n",
              " '/content/drive/My Drive/Capstone/Flickr8k_Dataset/Flicker8k_Dataset/634891010_9fa189effb.jpg',\n",
              " '/content/drive/My Drive/Capstone/Flickr8k_Dataset/Flicker8k_Dataset/635444010_bd81c89ab7.jpg',\n",
              " '/content/drive/My Drive/Capstone/Flickr8k_Dataset/Flicker8k_Dataset/636503038_17ca82b50f.jpg',\n",
              " '/content/drive/My Drive/Capstone/Flickr8k_Dataset/Flicker8k_Dataset/637342973_89f6fac1f7.jpg',\n",
              " '/content/drive/My Drive/Capstone/Flickr8k_Dataset/Flicker8k_Dataset/639120223_7db6bdb61f.jpg',\n",
              " '/content/drive/My Drive/Capstone/Flickr8k_Dataset/Flicker8k_Dataset/639865690_d66d480879.jpg',\n",
              " '/content/drive/My Drive/Capstone/Flickr8k_Dataset/Flicker8k_Dataset/640053014_549d2f23d2.jpg',\n",
              " '/content/drive/My Drive/Capstone/Flickr8k_Dataset/Flicker8k_Dataset/640203018_c0e7175831.jpg',\n",
              " '/content/drive/My Drive/Capstone/Flickr8k_Dataset/Flicker8k_Dataset/640409060_6af18fdd54.jpg',\n",
              " '/content/drive/My Drive/Capstone/Flickr8k_Dataset/Flicker8k_Dataset/640506101_ae1145b6d1.jpg',\n",
              " '/content/drive/My Drive/Capstone/Flickr8k_Dataset/Flicker8k_Dataset/641893280_36fd6e886a.jpg',\n",
              " '/content/drive/My Drive/Capstone/Flickr8k_Dataset/Flicker8k_Dataset/642987597_03b21a1437.jpg',\n",
              " '/content/drive/My Drive/Capstone/Flickr8k_Dataset/Flicker8k_Dataset/649596742_5ba84ce946.jpg',\n",
              " '/content/drive/My Drive/Capstone/Flickr8k_Dataset/Flicker8k_Dataset/652542470_60e858da64.jpg',\n",
              " '/content/drive/My Drive/Capstone/Flickr8k_Dataset/Flicker8k_Dataset/654130822_4aeb1f1273.jpg',\n",
              " '/content/drive/My Drive/Capstone/Flickr8k_Dataset/Flicker8k_Dataset/656260720_a7db4ce48b.jpg',\n",
              " '/content/drive/My Drive/Capstone/Flickr8k_Dataset/Flicker8k_Dataset/661546153_9d30db6984.jpg',\n",
              " '/content/drive/My Drive/Capstone/Flickr8k_Dataset/Flicker8k_Dataset/661749711_6f408dad62.jpg',\n",
              " '/content/drive/My Drive/Capstone/Flickr8k_Dataset/Flicker8k_Dataset/661755629_602ea4cf09.jpg',\n",
              " '/content/drive/My Drive/Capstone/Flickr8k_Dataset/Flicker8k_Dataset/661757041_61e131e913.jpg',\n",
              " '/content/drive/My Drive/Capstone/Flickr8k_Dataset/Flicker8k_Dataset/662606040_8cc8cd9f1b.jpg',\n",
              " '/content/drive/My Drive/Capstone/Flickr8k_Dataset/Flicker8k_Dataset/664341930_bd5c8b60ea.jpg',\n",
              " '/content/drive/My Drive/Capstone/Flickr8k_Dataset/Flicker8k_Dataset/664470170_6a1ad20c45.jpg',\n",
              " '/content/drive/My Drive/Capstone/Flickr8k_Dataset/Flicker8k_Dataset/667626_18933d713e.jpg',\n",
              " '/content/drive/My Drive/Capstone/Flickr8k_Dataset/Flicker8k_Dataset/670609997_5c7fdb3f0b.jpg',\n",
              " '/content/drive/My Drive/Capstone/Flickr8k_Dataset/Flicker8k_Dataset/673806038_0a3682a83f.jpg',\n",
              " '/content/drive/My Drive/Capstone/Flickr8k_Dataset/Flicker8k_Dataset/684255145_db3f8e3e46.jpg',\n",
              " '/content/drive/My Drive/Capstone/Flickr8k_Dataset/Flicker8k_Dataset/684375286_09cc1aa778.jpg',\n",
              " '/content/drive/My Drive/Capstone/Flickr8k_Dataset/Flicker8k_Dataset/687513087_413d4a3a3b.jpg',\n",
              " '/content/drive/My Drive/Capstone/Flickr8k_Dataset/Flicker8k_Dataset/688210930_85c5675d5b.jpg',\n",
              " '/content/drive/My Drive/Capstone/Flickr8k_Dataset/Flicker8k_Dataset/688940111_325a74674a.jpg',\n",
              " '/content/drive/My Drive/Capstone/Flickr8k_Dataset/Flicker8k_Dataset/689359034_4a64c24ca4.jpg',\n",
              " '/content/drive/My Drive/Capstone/Flickr8k_Dataset/Flicker8k_Dataset/689776124_07f560a920.jpg',\n",
              " '/content/drive/My Drive/Capstone/Flickr8k_Dataset/Flicker8k_Dataset/691770760_48ce80a674.jpg',\n",
              " '/content/drive/My Drive/Capstone/Flickr8k_Dataset/Flicker8k_Dataset/69189650_6687da7280.jpg',\n",
              " '/content/drive/My Drive/Capstone/Flickr8k_Dataset/Flicker8k_Dataset/693164706_9624582e69.jpg',\n",
              " '/content/drive/My Drive/Capstone/Flickr8k_Dataset/Flicker8k_Dataset/693450725_8ad72389e6.jpg',\n",
              " '/content/drive/My Drive/Capstone/Flickr8k_Dataset/Flicker8k_Dataset/693785581_68bec8312a.jpg',\n",
              " '/content/drive/My Drive/Capstone/Flickr8k_Dataset/Flicker8k_Dataset/694496803_f2a05869cf.jpg',\n",
              " '/content/drive/My Drive/Capstone/Flickr8k_Dataset/Flicker8k_Dataset/696663662_232edd58af.jpg',\n",
              " '/content/drive/My Drive/Capstone/Flickr8k_Dataset/Flicker8k_Dataset/69710411_2cf537f61f.jpg',\n",
              " '/content/drive/My Drive/Capstone/Flickr8k_Dataset/Flicker8k_Dataset/69710415_5c2bfb1058.jpg',\n",
              " '/content/drive/My Drive/Capstone/Flickr8k_Dataset/Flicker8k_Dataset/697490420_67d8d2a859.jpg',\n",
              " '/content/drive/My Drive/Capstone/Flickr8k_Dataset/Flicker8k_Dataset/697582336_601462e052.jpg',\n",
              " '/content/drive/My Drive/Capstone/Flickr8k_Dataset/Flicker8k_Dataset/697778778_b52090709d.jpg',\n",
              " '/content/drive/My Drive/Capstone/Flickr8k_Dataset/Flicker8k_Dataset/698107542_3aa0ba78b4.jpg',\n",
              " '/content/drive/My Drive/Capstone/Flickr8k_Dataset/Flicker8k_Dataset/700884207_d3ec546494.jpg',\n",
              " '/content/drive/My Drive/Capstone/Flickr8k_Dataset/Flicker8k_Dataset/701816897_221bbe761a.jpg',\n",
              " '/content/drive/My Drive/Capstone/Flickr8k_Dataset/Flicker8k_Dataset/707941195_4386109029.jpg',\n",
              " '/content/drive/My Drive/Capstone/Flickr8k_Dataset/Flicker8k_Dataset/707972553_36816e53a2.jpg',\n",
              " '/content/drive/My Drive/Capstone/Flickr8k_Dataset/Flicker8k_Dataset/708860480_1a956ae0f7.jpg',\n",
              " '/content/drive/My Drive/Capstone/Flickr8k_Dataset/Flicker8k_Dataset/708945669_08e7ffb9a7.jpg',\n",
              " '/content/drive/My Drive/Capstone/Flickr8k_Dataset/Flicker8k_Dataset/709373049_15b8b6457a.jpg',\n",
              " '/content/drive/My Drive/Capstone/Flickr8k_Dataset/Flicker8k_Dataset/70995350_75d0698839.jpg',\n",
              " '/content/drive/My Drive/Capstone/Flickr8k_Dataset/Flicker8k_Dataset/710878348_323082babd.jpg',\n",
              " '/content/drive/My Drive/Capstone/Flickr8k_Dataset/Flicker8k_Dataset/716597900_b72c58362c.jpg',\n",
              " '/content/drive/My Drive/Capstone/Flickr8k_Dataset/Flicker8k_Dataset/717673249_ac998cfbe6.jpg',\n",
              " '/content/drive/My Drive/Capstone/Flickr8k_Dataset/Flicker8k_Dataset/719837187_3e7bf1d472.jpg',\n",
              " '/content/drive/My Drive/Capstone/Flickr8k_Dataset/Flicker8k_Dataset/720208977_f44c2bba5b.jpg',\n",
              " '/content/drive/My Drive/Capstone/Flickr8k_Dataset/Flicker8k_Dataset/72218201_e0e9c7d65b.jpg',\n",
              " '/content/drive/My Drive/Capstone/Flickr8k_Dataset/Flicker8k_Dataset/724702877_f2a938766b.jpg',\n",
              " '/content/drive/My Drive/Capstone/Flickr8k_Dataset/Flicker8k_Dataset/72964268_d532bb8ec7.jpg',\n",
              " '/content/drive/My Drive/Capstone/Flickr8k_Dataset/Flicker8k_Dataset/732468337_a37075225e.jpg',\n",
              " '/content/drive/My Drive/Capstone/Flickr8k_Dataset/Flicker8k_Dataset/733172023_5810350af6.jpg',\n",
              " '/content/drive/My Drive/Capstone/Flickr8k_Dataset/Flicker8k_Dataset/733752482_ee01a419e5.jpg',\n",
              " '/content/drive/My Drive/Capstone/Flickr8k_Dataset/Flicker8k_Dataset/733964952_69f011a6c4.jpg',\n",
              " '/content/drive/My Drive/Capstone/Flickr8k_Dataset/Flicker8k_Dataset/733965014_1a0b2b5ee9.jpg',\n",
              " '/content/drive/My Drive/Capstone/Flickr8k_Dataset/Flicker8k_Dataset/735787579_617b047319.jpg',\n",
              " '/content/drive/My Drive/Capstone/Flickr8k_Dataset/Flicker8k_Dataset/742073622_1206be8f7f.jpg',\n",
              " '/content/drive/My Drive/Capstone/Flickr8k_Dataset/Flicker8k_Dataset/743571049_68080e8751.jpg',\n",
              " '/content/drive/My Drive/Capstone/Flickr8k_Dataset/Flicker8k_Dataset/745563422_f4fa7d9157.jpg',\n",
              " '/content/drive/My Drive/Capstone/Flickr8k_Dataset/Flicker8k_Dataset/745880539_cd3f948837.jpg',\n",
              " '/content/drive/My Drive/Capstone/Flickr8k_Dataset/Flicker8k_Dataset/745966757_6d16dfad8f.jpg',\n",
              " '/content/drive/My Drive/Capstone/Flickr8k_Dataset/Flicker8k_Dataset/746787916_ceb103069f.jpg',\n",
              " '/content/drive/My Drive/Capstone/Flickr8k_Dataset/Flicker8k_Dataset/747242766_afdc9cb2ba.jpg',\n",
              " '/content/drive/My Drive/Capstone/Flickr8k_Dataset/Flicker8k_Dataset/747921928_48eb02aab2.jpg',\n",
              " '/content/drive/My Drive/Capstone/Flickr8k_Dataset/Flicker8k_Dataset/749840385_e004bf3b7c.jpg',\n",
              " '/content/drive/My Drive/Capstone/Flickr8k_Dataset/Flicker8k_Dataset/750196276_c3258c6f1b.jpg',\n",
              " '/content/drive/My Drive/Capstone/Flickr8k_Dataset/Flicker8k_Dataset/751074141_feafc7b16c.jpg',\n",
              " '/content/drive/My Drive/Capstone/Flickr8k_Dataset/Flicker8k_Dataset/751109943_2a7f8e117f.jpg',\n",
              " '/content/drive/My Drive/Capstone/Flickr8k_Dataset/Flicker8k_Dataset/751737218_b89839a311.jpg',\n",
              " '/content/drive/My Drive/Capstone/Flickr8k_Dataset/Flicker8k_Dataset/752052256_243d111bf0.jpg',\n",
              " '/content/drive/My Drive/Capstone/Flickr8k_Dataset/Flicker8k_Dataset/753285176_f21a2b984d.jpg',\n",
              " '/content/drive/My Drive/Capstone/Flickr8k_Dataset/Flicker8k_Dataset/753578547_912d2b4048.jpg',\n",
              " '/content/drive/My Drive/Capstone/Flickr8k_Dataset/Flicker8k_Dataset/754852108_72f80d421f.jpg',\n",
              " '/content/drive/My Drive/Capstone/Flickr8k_Dataset/Flicker8k_Dataset/755326139_ee344ece7b.jpg',\n",
              " '/content/drive/My Drive/Capstone/Flickr8k_Dataset/Flicker8k_Dataset/756004341_1a816df714.jpg',\n",
              " '/content/drive/My Drive/Capstone/Flickr8k_Dataset/Flicker8k_Dataset/756521713_5d3da56a54.jpg',\n",
              " '/content/drive/My Drive/Capstone/Flickr8k_Dataset/Flicker8k_Dataset/756909515_a416161656.jpg',\n",
              " '/content/drive/My Drive/Capstone/Flickr8k_Dataset/Flicker8k_Dataset/757046028_ff5999f91b.jpg',\n",
              " '/content/drive/My Drive/Capstone/Flickr8k_Dataset/Flicker8k_Dataset/757133580_ba974ef649.jpg',\n",
              " '/content/drive/My Drive/Capstone/Flickr8k_Dataset/Flicker8k_Dataset/757332692_6866ae545c.jpg',\n",
              " '/content/drive/My Drive/Capstone/Flickr8k_Dataset/Flicker8k_Dataset/758921886_55a351dd67.jpg',\n",
              " '/content/drive/My Drive/Capstone/Flickr8k_Dataset/Flicker8k_Dataset/759015118_4bd3617e60.jpg',\n",
              " '/content/drive/My Drive/Capstone/Flickr8k_Dataset/Flicker8k_Dataset/760138567_762d9022d4.jpg',\n",
              " '/content/drive/My Drive/Capstone/Flickr8k_Dataset/Flicker8k_Dataset/760180310_3c6bd4fd1f.jpg',\n",
              " '/content/drive/My Drive/Capstone/Flickr8k_Dataset/Flicker8k_Dataset/762947607_2001ee4c72.jpg',\n",
              " '/content/drive/My Drive/Capstone/Flickr8k_Dataset/Flicker8k_Dataset/763577068_4b96ed768b.jpg',\n",
              " '/content/drive/My Drive/Capstone/Flickr8k_Dataset/Flicker8k_Dataset/765091078_a8a11c6f9e.jpg',\n",
              " '/content/drive/My Drive/Capstone/Flickr8k_Dataset/Flicker8k_Dataset/765298136_7805fbb079.jpg',\n",
              " '/content/drive/My Drive/Capstone/Flickr8k_Dataset/Flicker8k_Dataset/765929807_de381cc764.jpg',\n",
              " '/content/drive/My Drive/Capstone/Flickr8k_Dataset/Flicker8k_Dataset/766061382_6c7ff514c4.jpg',\n",
              " '/content/drive/My Drive/Capstone/Flickr8k_Dataset/Flicker8k_Dataset/766099402_cdda6964f0.jpg',\n",
              " '/content/drive/My Drive/Capstone/Flickr8k_Dataset/Flicker8k_Dataset/766346887_a9a9d0637a.jpg',\n",
              " '/content/drive/My Drive/Capstone/Flickr8k_Dataset/Flicker8k_Dataset/769260947_02bc973d76.jpg',\n",
              " '/content/drive/My Drive/Capstone/Flickr8k_Dataset/Flicker8k_Dataset/771048251_602e5e8f45.jpg',\n",
              " '/content/drive/My Drive/Capstone/Flickr8k_Dataset/Flicker8k_Dataset/771366843_a66304161b.jpg',\n",
              " '/content/drive/My Drive/Capstone/Flickr8k_Dataset/Flicker8k_Dataset/772212710_f5fc22ed35.jpg',\n",
              " '/content/drive/My Drive/Capstone/Flickr8k_Dataset/Flicker8k_Dataset/772403830_08b72c7da9.jpg',\n",
              " '/content/drive/My Drive/Capstone/Flickr8k_Dataset/Flicker8k_Dataset/774009278_8e75b7d498.jpg',\n",
              " '/content/drive/My Drive/Capstone/Flickr8k_Dataset/Flicker8k_Dataset/775664534_3f6de7d413.jpg',\n",
              " '/content/drive/My Drive/Capstone/Flickr8k_Dataset/Flicker8k_Dataset/778885185_3f6905370b.jpg',\n",
              " '/content/drive/My Drive/Capstone/Flickr8k_Dataset/Flicker8k_Dataset/781118358_19087c9ec0.jpg',\n",
              " '/content/drive/My Drive/Capstone/Flickr8k_Dataset/Flicker8k_Dataset/781387473_208ba152b3.jpg',\n",
              " '/content/drive/My Drive/Capstone/Flickr8k_Dataset/Flicker8k_Dataset/782017931_75d92bb7a4.jpg',\n",
              " '/content/drive/My Drive/Capstone/Flickr8k_Dataset/Flicker8k_Dataset/782401952_5bc5d3413a.jpg',\n",
              " '/content/drive/My Drive/Capstone/Flickr8k_Dataset/Flicker8k_Dataset/783353797_fdf91bdf4c.jpg',\n",
              " '/content/drive/My Drive/Capstone/Flickr8k_Dataset/Flicker8k_Dataset/783994497_4f6885454d.jpg',\n",
              " '/content/drive/My Drive/Capstone/Flickr8k_Dataset/Flicker8k_Dataset/788126442_086334f0cf.jpg',\n",
              " '/content/drive/My Drive/Capstone/Flickr8k_Dataset/Flicker8k_Dataset/78984436_ad96eaa802.jpg',\n",
              " '/content/drive/My Drive/Capstone/Flickr8k_Dataset/Flicker8k_Dataset/791338571_7f38510bf7.jpg',\n",
              " '/content/drive/My Drive/Capstone/Flickr8k_Dataset/Flicker8k_Dataset/792362827_5ab5281b99.jpg',\n",
              " '/content/drive/My Drive/Capstone/Flickr8k_Dataset/Flicker8k_Dataset/795081510_53fd17d101.jpg',\n",
              " '/content/drive/My Drive/Capstone/Flickr8k_Dataset/Flicker8k_Dataset/798343627_7492fe0c12.jpg',\n",
              " '/content/drive/My Drive/Capstone/Flickr8k_Dataset/Flicker8k_Dataset/799199774_142b1c3bb2.jpg',\n",
              " '/content/drive/My Drive/Capstone/Flickr8k_Dataset/Flicker8k_Dataset/799431781_65dc312afc.jpg',\n",
              " '/content/drive/My Drive/Capstone/Flickr8k_Dataset/Flicker8k_Dataset/799486353_f665d7b0f0.jpg',\n",
              " '/content/drive/My Drive/Capstone/Flickr8k_Dataset/Flicker8k_Dataset/801607443_f15956d1ce.jpg',\n",
              " '/content/drive/My Drive/Capstone/Flickr8k_Dataset/Flicker8k_Dataset/802594049_289e3c8420.jpg',\n",
              " '/content/drive/My Drive/Capstone/Flickr8k_Dataset/Flicker8k_Dataset/804087017_330bcc8c56.jpg',\n",
              " '/content/drive/My Drive/Capstone/Flickr8k_Dataset/Flicker8k_Dataset/805682444_90ed9e1ef3.jpg',\n",
              " '/content/drive/My Drive/Capstone/Flickr8k_Dataset/Flicker8k_Dataset/808245064_8a7971fc5b.jpg',\n",
              " '/content/drive/My Drive/Capstone/Flickr8k_Dataset/Flicker8k_Dataset/811662356_f9a632b63c.jpg',\n",
              " '/content/drive/My Drive/Capstone/Flickr8k_Dataset/Flicker8k_Dataset/811663364_4b350a62ce.jpg',\n",
              " '/content/drive/My Drive/Capstone/Flickr8k_Dataset/Flicker8k_Dataset/812196663_0c969970b5.jpg',\n",
              " '/content/drive/My Drive/Capstone/Flickr8k_Dataset/Flicker8k_Dataset/816084977_21c1811c9a.jpg',\n",
              " '/content/drive/My Drive/Capstone/Flickr8k_Dataset/Flicker8k_Dataset/818340833_7b963c0ee3.jpg',\n",
              " '/content/drive/My Drive/Capstone/Flickr8k_Dataset/Flicker8k_Dataset/820169182_f5e78d7d19.jpg',\n",
              " '/content/drive/My Drive/Capstone/Flickr8k_Dataset/Flicker8k_Dataset/822836318_21544f0f78.jpg',\n",
              " '/content/drive/My Drive/Capstone/Flickr8k_Dataset/Flicker8k_Dataset/823675317_b5fbdb17b3.jpg',\n",
              " '/content/drive/My Drive/Capstone/Flickr8k_Dataset/Flicker8k_Dataset/823697339_aadbeef495.jpg',\n",
              " '/content/drive/My Drive/Capstone/Flickr8k_Dataset/Flicker8k_Dataset/824123145_59243e504e.jpg',\n",
              " '/content/drive/My Drive/Capstone/Flickr8k_Dataset/Flicker8k_Dataset/824782868_a8f532f3a6.jpg',\n",
              " '/content/drive/My Drive/Capstone/Flickr8k_Dataset/Flicker8k_Dataset/824923476_d85edce294.jpg',\n",
              " '/content/drive/My Drive/Capstone/Flickr8k_Dataset/Flicker8k_Dataset/825918657_d92f1761f4.jpg',\n",
              " '/content/drive/My Drive/Capstone/Flickr8k_Dataset/Flicker8k_Dataset/827941668_2e4ac6cb39.jpg',\n",
              " '/content/drive/My Drive/Capstone/Flickr8k_Dataset/Flicker8k_Dataset/832128857_1390386ea6.jpg',\n",
              " '/content/drive/My Drive/Capstone/Flickr8k_Dataset/Flicker8k_Dataset/835415474_7b7f2a9768.jpg',\n",
              " '/content/drive/My Drive/Capstone/Flickr8k_Dataset/Flicker8k_Dataset/836768303_d748df5546.jpg',\n",
              " '/content/drive/My Drive/Capstone/Flickr8k_Dataset/Flicker8k_Dataset/836828001_af98d16256.jpg',\n",
              " '/content/drive/My Drive/Capstone/Flickr8k_Dataset/Flicker8k_Dataset/837893113_81854e94e3.jpg',\n",
              " '/content/drive/My Drive/Capstone/Flickr8k_Dataset/Flicker8k_Dataset/837919879_94e3dacd83.jpg',\n",
              " '/content/drive/My Drive/Capstone/Flickr8k_Dataset/Flicker8k_Dataset/838074897_9d6270b3cd.jpg',\n",
              " '/content/drive/My Drive/Capstone/Flickr8k_Dataset/Flicker8k_Dataset/839295615_bb9baf2f95.jpg',\n",
              " '/content/drive/My Drive/Capstone/Flickr8k_Dataset/Flicker8k_Dataset/842960985_91daf0d6ec.jpg',\n",
              " '/content/drive/My Drive/Capstone/Flickr8k_Dataset/Flicker8k_Dataset/842961005_692737888e.jpg',\n",
              " '/content/drive/My Drive/Capstone/Flickr8k_Dataset/Flicker8k_Dataset/843616798_5ab0ecb525.jpg',\n",
              " '/content/drive/My Drive/Capstone/Flickr8k_Dataset/Flicker8k_Dataset/846085364_fc9d23df46.jpg',\n",
              " '/content/drive/My Drive/Capstone/Flickr8k_Dataset/Flicker8k_Dataset/84713990_d3f3cef78b.jpg',\n",
              " '/content/drive/My Drive/Capstone/Flickr8k_Dataset/Flicker8k_Dataset/847782643_57248bbdab.jpg',\n",
              " '/content/drive/My Drive/Capstone/Flickr8k_Dataset/Flicker8k_Dataset/848180689_d67a1361ce.jpg',\n",
              " '/content/drive/My Drive/Capstone/Flickr8k_Dataset/Flicker8k_Dataset/848293676_98e73c52c1.jpg',\n",
              " '/content/drive/My Drive/Capstone/Flickr8k_Dataset/Flicker8k_Dataset/852469220_bc0fee3623.jpg',\n",
              " '/content/drive/My Drive/Capstone/Flickr8k_Dataset/Flicker8k_Dataset/854333409_38bc1da9dc.jpg',\n",
              " '/content/drive/My Drive/Capstone/Flickr8k_Dataset/Flicker8k_Dataset/856985136_649c0a3881.jpg',\n",
              " '/content/drive/My Drive/Capstone/Flickr8k_Dataset/Flicker8k_Dataset/857914283_270d7d1c87.jpg',\n",
              " '/content/drive/My Drive/Capstone/Flickr8k_Dataset/Flicker8k_Dataset/859620561_de417cac1e.jpg',\n",
              " '/content/drive/My Drive/Capstone/Flickr8k_Dataset/Flicker8k_Dataset/860928274_744d14f198.jpg',\n",
              " '/content/drive/My Drive/Capstone/Flickr8k_Dataset/Flicker8k_Dataset/861608773_bdafd5c996.jpg',\n",
              " '/content/drive/My Drive/Capstone/Flickr8k_Dataset/Flicker8k_Dataset/861661418_8a37024ace.jpg',\n",
              " '/content/drive/My Drive/Capstone/Flickr8k_Dataset/Flicker8k_Dataset/861795382_5145ad433d.jpg',\n",
              " '/content/drive/My Drive/Capstone/Flickr8k_Dataset/Flicker8k_Dataset/862054277_34b5a6f401.jpg',\n",
              " '/content/drive/My Drive/Capstone/Flickr8k_Dataset/Flicker8k_Dataset/862156271_3eacea90a8.jpg',\n",
              " '/content/drive/My Drive/Capstone/Flickr8k_Dataset/Flicker8k_Dataset/862177617_c2c0581075.jpg',\n",
              " '/content/drive/My Drive/Capstone/Flickr8k_Dataset/Flicker8k_Dataset/862187579_9faf4a51e0.jpg',\n",
              " '/content/drive/My Drive/Capstone/Flickr8k_Dataset/Flicker8k_Dataset/86412576_c53392ef80.jpg',\n",
              " '/content/drive/My Drive/Capstone/Flickr8k_Dataset/Flicker8k_Dataset/864290968_eccb46d5ab.jpg',\n",
              " '/content/drive/My Drive/Capstone/Flickr8k_Dataset/Flicker8k_Dataset/86542183_5e312ae4d4.jpg',\n",
              " '/content/drive/My Drive/Capstone/Flickr8k_Dataset/Flicker8k_Dataset/866841633_05d273b96d.jpg',\n",
              " '/content/drive/My Drive/Capstone/Flickr8k_Dataset/Flicker8k_Dataset/870710405_51e507b31a.jpg',\n",
              " '/content/drive/My Drive/Capstone/Flickr8k_Dataset/Flicker8k_Dataset/871290646_307cddd4e7.jpg',\n",
              " '/content/drive/My Drive/Capstone/Flickr8k_Dataset/Flicker8k_Dataset/871290666_4877e128c0.jpg',\n",
              " '/content/drive/My Drive/Capstone/Flickr8k_Dataset/Flicker8k_Dataset/872135364_8c1e47d163.jpg',\n",
              " '/content/drive/My Drive/Capstone/Flickr8k_Dataset/Flicker8k_Dataset/872512911_ca383b40e4.jpg',\n",
              " '/content/drive/My Drive/Capstone/Flickr8k_Dataset/Flicker8k_Dataset/872622575_ba1d3632cc.jpg',\n",
              " '/content/drive/My Drive/Capstone/Flickr8k_Dataset/Flicker8k_Dataset/873633312_a756d8b381.jpg',\n",
              " '/content/drive/My Drive/Capstone/Flickr8k_Dataset/Flicker8k_Dataset/874665322_9ad05c4065.jpg',\n",
              " '/content/drive/My Drive/Capstone/Flickr8k_Dataset/Flicker8k_Dataset/875731481_a5a0a09934.jpg',\n",
              " '/content/drive/My Drive/Capstone/Flickr8k_Dataset/Flicker8k_Dataset/878758390_dd2cdc42f6.jpg',\n",
              " '/content/drive/My Drive/Capstone/Flickr8k_Dataset/Flicker8k_Dataset/880220939_0ef1c37f1f.jpg',\n",
              " '/content/drive/My Drive/Capstone/Flickr8k_Dataset/Flicker8k_Dataset/881725588_efabbcd96a.jpg',\n",
              " '/content/drive/My Drive/Capstone/Flickr8k_Dataset/Flicker8k_Dataset/883040210_3c4a10f030.jpg',\n",
              " '/content/drive/My Drive/Capstone/Flickr8k_Dataset/Flicker8k_Dataset/887108308_2da97f15ef.jpg',\n",
              " '/content/drive/My Drive/Capstone/Flickr8k_Dataset/Flicker8k_Dataset/888425986_e4b6c12324.jpg',\n",
              " '/content/drive/My Drive/Capstone/Flickr8k_Dataset/Flicker8k_Dataset/888517718_3d5b4b7b43.jpg',\n",
              " '/content/drive/My Drive/Capstone/Flickr8k_Dataset/Flicker8k_Dataset/890734502_a5ae67beac.jpg',\n",
              " '/content/drive/My Drive/Capstone/Flickr8k_Dataset/Flicker8k_Dataset/892340814_bdd61e10a4.jpg',\n",
              " '/content/drive/My Drive/Capstone/Flickr8k_Dataset/Flicker8k_Dataset/894928353_002a3d5f06.jpg',\n",
              " '/content/drive/My Drive/Capstone/Flickr8k_Dataset/Flicker8k_Dataset/895502702_5170ada2ee.jpg',\n",
              " '/content/drive/My Drive/Capstone/Flickr8k_Dataset/Flicker8k_Dataset/897406883_f09f673d94.jpg',\n",
              " '/content/drive/My Drive/Capstone/Flickr8k_Dataset/Flicker8k_Dataset/897621891_efb1e00d1d.jpg',\n",
              " '/content/drive/My Drive/Capstone/Flickr8k_Dataset/Flicker8k_Dataset/899810584_61e1578d3f.jpg',\n",
              " '/content/drive/My Drive/Capstone/Flickr8k_Dataset/Flicker8k_Dataset/90011335_cfdf9674c2.jpg',\n",
              " '/content/drive/My Drive/Capstone/Flickr8k_Dataset/Flicker8k_Dataset/900144365_03cd1899e3.jpg',\n",
              " '/content/drive/My Drive/Capstone/Flickr8k_Dataset/Flicker8k_Dataset/905355838_3a43fdfd4e.jpg',\n",
              " '/content/drive/My Drive/Capstone/Flickr8k_Dataset/Flicker8k_Dataset/909191414_1cf5d85821.jpg',\n",
              " '/content/drive/My Drive/Capstone/Flickr8k_Dataset/Flicker8k_Dataset/909808296_23c427022d.jpg',\n",
              " '/content/drive/My Drive/Capstone/Flickr8k_Dataset/Flicker8k_Dataset/911527312_f81ee36b97.jpg',\n",
              " '/content/drive/My Drive/Capstone/Flickr8k_Dataset/Flicker8k_Dataset/911795495_342bb15b97.jpg',\n",
              " '/content/drive/My Drive/Capstone/Flickr8k_Dataset/Flicker8k_Dataset/917574521_74fab68514.jpg',\n",
              " '/content/drive/My Drive/Capstone/Flickr8k_Dataset/Flicker8k_Dataset/918886676_3323fb2a01.jpg',\n",
              " '/content/drive/My Drive/Capstone/Flickr8k_Dataset/Flicker8k_Dataset/923550133_ac9d7a2932.jpg',\n",
              " '/content/drive/My Drive/Capstone/Flickr8k_Dataset/Flicker8k_Dataset/925491651_57df3a5b36.jpg',\n",
              " '/content/drive/My Drive/Capstone/Flickr8k_Dataset/Flicker8k_Dataset/927420680_6cba7c040a.jpg',\n",
              " '/content/drive/My Drive/Capstone/Flickr8k_Dataset/Flicker8k_Dataset/929679367_ff8c7df2ee.jpg',\n",
              " '/content/drive/My Drive/Capstone/Flickr8k_Dataset/Flicker8k_Dataset/930126921_1b94605bdc.jpg',\n",
              " '/content/drive/My Drive/Capstone/Flickr8k_Dataset/Flicker8k_Dataset/930748509_8ca5cf5c24.jpg',\n",
              " '/content/drive/My Drive/Capstone/Flickr8k_Dataset/Flicker8k_Dataset/933118213_b35b0b62a7.jpg',\n",
              " '/content/drive/My Drive/Capstone/Flickr8k_Dataset/Flicker8k_Dataset/934375844_dd149fed18.jpg',\n",
              " '/content/drive/My Drive/Capstone/Flickr8k_Dataset/Flicker8k_Dataset/937559727_ae2613cee5.jpg',\n",
              " '/content/drive/My Drive/Capstone/Flickr8k_Dataset/Flicker8k_Dataset/938162709_21443d352f.jpg',\n",
              " '/content/drive/My Drive/Capstone/Flickr8k_Dataset/Flicker8k_Dataset/93922153_8d831f7f01.jpg',\n",
              " '/content/drive/My Drive/Capstone/Flickr8k_Dataset/Flicker8k_Dataset/940973925_a2e6d7951c.jpg',\n",
              " '/content/drive/My Drive/Capstone/Flickr8k_Dataset/Flicker8k_Dataset/94232465_a135df2711.jpg',\n",
              " '/content/drive/My Drive/Capstone/Flickr8k_Dataset/Flicker8k_Dataset/942399470_6132d3e5d2.jpg',\n",
              " '/content/drive/My Drive/Capstone/Flickr8k_Dataset/Flicker8k_Dataset/944374205_fd3e69bfca.jpg',\n",
              " '/content/drive/My Drive/Capstone/Flickr8k_Dataset/Flicker8k_Dataset/944788251_a0bcd4b960.jpg',\n",
              " '/content/drive/My Drive/Capstone/Flickr8k_Dataset/Flicker8k_Dataset/945509052_740bb19bc3.jpg',\n",
              " '/content/drive/My Drive/Capstone/Flickr8k_Dataset/Flicker8k_Dataset/946051430_8db7e4ce09.jpg',\n",
              " '/content/drive/My Drive/Capstone/Flickr8k_Dataset/Flicker8k_Dataset/947664583_7c63172366.jpg',\n",
              " '/content/drive/My Drive/Capstone/Flickr8k_Dataset/Flicker8k_Dataset/947969010_f1ea572e89.jpg',\n",
              " '/content/drive/My Drive/Capstone/Flickr8k_Dataset/Flicker8k_Dataset/948196883_e190a483b1.jpg',\n",
              " '/content/drive/My Drive/Capstone/Flickr8k_Dataset/Flicker8k_Dataset/950273886_88c324e663.jpg',\n",
              " '/content/drive/My Drive/Capstone/Flickr8k_Dataset/Flicker8k_Dataset/950411653_20d0335946.jpg',\n",
              " '/content/drive/My Drive/Capstone/Flickr8k_Dataset/Flicker8k_Dataset/95151149_5ca6747df6.jpg',\n",
              " '/content/drive/My Drive/Capstone/Flickr8k_Dataset/Flicker8k_Dataset/952171414_2db16f846f.jpg',\n",
              " '/content/drive/My Drive/Capstone/Flickr8k_Dataset/Flicker8k_Dataset/953941506_5082c9160c.jpg',\n",
              " '/content/drive/My Drive/Capstone/Flickr8k_Dataset/Flicker8k_Dataset/954987350_a0c608b467.jpg',\n",
              " '/content/drive/My Drive/Capstone/Flickr8k_Dataset/Flicker8k_Dataset/956164675_9ee084364e.jpg',\n",
              " '/content/drive/My Drive/Capstone/Flickr8k_Dataset/Flicker8k_Dataset/957230475_48f4285ffe.jpg',\n",
              " '/content/drive/My Drive/Capstone/Flickr8k_Dataset/Flicker8k_Dataset/95728660_d47de66544.jpg',\n",
              " '/content/drive/My Drive/Capstone/Flickr8k_Dataset/Flicker8k_Dataset/95728664_06c43b90f1.jpg',\n",
              " '/content/drive/My Drive/Capstone/Flickr8k_Dataset/Flicker8k_Dataset/95734035_84732a92c1.jpg',\n",
              " '/content/drive/My Drive/Capstone/Flickr8k_Dataset/Flicker8k_Dataset/95734036_bef6d1a871.jpg',\n",
              " '/content/drive/My Drive/Capstone/Flickr8k_Dataset/Flicker8k_Dataset/95734038_2ab5783da7.jpg',\n",
              " '/content/drive/My Drive/Capstone/Flickr8k_Dataset/Flicker8k_Dataset/957682378_46c3b07bcd.jpg',\n",
              " '/content/drive/My Drive/Capstone/Flickr8k_Dataset/Flicker8k_Dataset/95783195_e1ba3f57ca.jpg',\n",
              " '/content/drive/My Drive/Capstone/Flickr8k_Dataset/Flicker8k_Dataset/958326692_6210150354.jpg',\n",
              " '/content/drive/My Drive/Capstone/Flickr8k_Dataset/Flicker8k_Dataset/961189263_0990f3bcb5.jpg',\n",
              " '/content/drive/My Drive/Capstone/Flickr8k_Dataset/Flicker8k_Dataset/961611340_251081fcb8.jpg',\n",
              " '/content/drive/My Drive/Capstone/Flickr8k_Dataset/Flicker8k_Dataset/963730324_0638534227.jpg',\n",
              " '/content/drive/My Drive/Capstone/Flickr8k_Dataset/Flicker8k_Dataset/96399948_b86c61bfe6.jpg',\n",
              " '/content/drive/My Drive/Capstone/Flickr8k_Dataset/Flicker8k_Dataset/964197865_0133acaeb4.jpg',\n",
              " '/content/drive/My Drive/Capstone/Flickr8k_Dataset/Flicker8k_Dataset/96420612_feb18fc6c6.jpg',\n",
              " '/content/drive/My Drive/Capstone/Flickr8k_Dataset/Flicker8k_Dataset/965444691_fe7e85bf0e.jpg',\n",
              " '/content/drive/My Drive/Capstone/Flickr8k_Dataset/Flicker8k_Dataset/967719295_3257695095.jpg',\n",
              " '/content/drive/My Drive/Capstone/Flickr8k_Dataset/Flicker8k_Dataset/968081289_cdba83ce2e.jpg',\n",
              " '/content/drive/My Drive/Capstone/Flickr8k_Dataset/Flicker8k_Dataset/96973080_783e375945.jpg',\n",
              " '/content/drive/My Drive/Capstone/Flickr8k_Dataset/Flicker8k_Dataset/96978713_775d66a18d.jpg',\n",
              " '/content/drive/My Drive/Capstone/Flickr8k_Dataset/Flicker8k_Dataset/96985174_31d4c6f06d.jpg',\n",
              " '/content/drive/My Drive/Capstone/Flickr8k_Dataset/Flicker8k_Dataset/970641406_9a20ee636a.jpg',\n",
              " '/content/drive/My Drive/Capstone/Flickr8k_Dataset/Flicker8k_Dataset/97105139_fae46fe8ef.jpg',\n",
              " '/content/drive/My Drive/Capstone/Flickr8k_Dataset/Flicker8k_Dataset/972381743_5677b420ab.jpg',\n",
              " '/content/drive/My Drive/Capstone/Flickr8k_Dataset/Flicker8k_Dataset/973827791_467d83986e.jpg',\n",
              " '/content/drive/My Drive/Capstone/Flickr8k_Dataset/Flicker8k_Dataset/97406261_5eea044056.jpg',\n",
              " '/content/drive/My Drive/Capstone/Flickr8k_Dataset/Flicker8k_Dataset/974924582_10bed89b8d.jpg',\n",
              " '/content/drive/My Drive/Capstone/Flickr8k_Dataset/Flicker8k_Dataset/975131015_9acd25db9c.jpg',\n",
              " '/content/drive/My Drive/Capstone/Flickr8k_Dataset/Flicker8k_Dataset/97577988_65e2eae14a.jpg',\n",
              " '/content/drive/My Drive/Capstone/Flickr8k_Dataset/Flicker8k_Dataset/976392326_082dafc3c5.jpg',\n",
              " '/content/drive/My Drive/Capstone/Flickr8k_Dataset/Flicker8k_Dataset/97731718_eb7ba71fd3.jpg',\n",
              " '/content/drive/My Drive/Capstone/Flickr8k_Dataset/Flicker8k_Dataset/977856234_0d9caee7b2.jpg',\n",
              " '/content/drive/My Drive/Capstone/Flickr8k_Dataset/Flicker8k_Dataset/978580450_e862715aba.jpg',\n",
              " '/content/drive/My Drive/Capstone/Flickr8k_Dataset/Flicker8k_Dataset/979201222_75b6456d34.jpg',\n",
              " '/content/drive/My Drive/Capstone/Flickr8k_Dataset/Flicker8k_Dataset/979383193_0a542a059d.jpg',\n",
              " '/content/drive/My Drive/Capstone/Flickr8k_Dataset/Flicker8k_Dataset/98377566_e4674d1ebd.jpg',\n",
              " '/content/drive/My Drive/Capstone/Flickr8k_Dataset/Flicker8k_Dataset/985067019_705fe4a4cc.jpg',\n",
              " '/content/drive/My Drive/Capstone/Flickr8k_Dataset/Flicker8k_Dataset/987907964_5a06a63609.jpg',\n",
              " '/content/drive/My Drive/Capstone/Flickr8k_Dataset/Flicker8k_Dataset/989754491_7e53fb4586.jpg',\n",
              " '/content/drive/My Drive/Capstone/Flickr8k_Dataset/Flicker8k_Dataset/989851184_9ef368e520.jpg',\n",
              " '/content/drive/My Drive/Capstone/Flickr8k_Dataset/Flicker8k_Dataset/990890291_afc72be141.jpg',\n",
              " '/content/drive/My Drive/Capstone/Flickr8k_Dataset/Flicker8k_Dataset/99171998_7cc800ceef.jpg',\n",
              " '/content/drive/My Drive/Capstone/Flickr8k_Dataset/Flicker8k_Dataset/99679241_adc853a5c0.jpg',\n",
              " '/content/drive/My Drive/Capstone/Flickr8k_Dataset/Flicker8k_Dataset/997338199_7343367d7f.jpg',\n",
              " '/content/drive/My Drive/Capstone/Flickr8k_Dataset/Flicker8k_Dataset/997722733_0cb5439472.jpg',\n",
              " ...]"
            ]
          },
          "metadata": {
            "tags": []
          },
          "execution_count": 17
        }
      ]
    },
    {
      "cell_type": "code",
      "metadata": {
        "id": "1sjeuVqDPhVC",
        "colab_type": "code",
        "outputId": "24e793cc-6b7f-422a-d06d-9ebbd6d774b8",
        "colab": {
          "base_uri": "https://localhost:8080/",
          "height": 50
        }
      },
      "source": [
        "# Below file conatains the names of images to be used in train data\n",
        "train_images_file = project_path+'TextFiles/Flickr_8k.trainImages.txt'\n",
        "# Read the train image names in a set\n",
        "train_images = set(open(train_images_file, 'r').read().strip().split('\\n'))\n",
        "print(len(train_images))\n",
        "\n",
        "# Create a list of all the training images with their full path names\n",
        "train_img = []\n",
        "\n",
        "for i in img: # img is list of full path names of all images\n",
        "    if i[len(images):] in train_images: # Check if the image belongs to training set\n",
        "        train_img.append(i) # Add it to the list of train images\n",
        "        \n",
        "print(len(train_img))"
      ],
      "execution_count": 0,
      "outputs": [
        {
          "output_type": "stream",
          "text": [
            "6000\n",
            "6000\n"
          ],
          "name": "stdout"
        }
      ]
    },
    {
      "cell_type": "code",
      "metadata": {
        "id": "y8F42q4gPhVE",
        "colab_type": "code",
        "colab": {}
      },
      "source": [
        "# Below file conatains the names of images to be used in test data\n",
        "test_images_file = project_path+'TextFiles/Flickr_8k.testImages.txt'\n",
        "# Read the validation image names in a set# Read the test image names in a set\n",
        "test_images = set(open(test_images_file, 'r').read().strip().split('\\n'))\n",
        "\n",
        "# Create a list of all the test images with their full path names\n",
        "test_img = []\n",
        "\n",
        "for i in img: # img is list of full path names of all images\n",
        "    if i[len(images):] in test_images: # Check if the image belongs to test set\n",
        "        test_img.append(i) # Add it to the list of test images"
      ],
      "execution_count": 0,
      "outputs": []
    },
    {
      "cell_type": "code",
      "metadata": {
        "id": "hVDeIuuVPhVG",
        "colab_type": "code",
        "outputId": "55e3a596-bdd2-4fd6-cdd6-d912e95ba49b",
        "colab": {
          "base_uri": "https://localhost:8080/",
          "height": 34
        }
      },
      "source": [
        "# load clean descriptions into memory\n",
        "def load_clean_descriptions(filename, dataset):\n",
        "\t# load document\n",
        "\tdoc = load_doc(filename)\n",
        "\tdescriptions = dict()\n",
        "\tfor line in doc.split('\\n'):\n",
        "\t\t# split line by white space\n",
        "\t\ttokens = line.split()\n",
        "\t\t# split id from description\n",
        "\t\timage_id, image_desc = tokens[0], tokens[1:]\n",
        "\t\t# skip images not in the set\n",
        "\t\tif image_id in dataset:\n",
        "\t\t\t# create list\n",
        "\t\t\tif image_id not in descriptions:\n",
        "\t\t\t\tdescriptions[image_id] = list()\n",
        "\t\t\t# wrap description in tokens\n",
        "\t\t\tdesc = 'startseq ' + ' '.join(image_desc) + ' endseq'\n",
        "\t\t\t# store\n",
        "\t\t\tdescriptions[image_id].append(desc)\n",
        "\treturn descriptions\n",
        "\n",
        "# descriptions\n",
        "train_descriptions = load_clean_descriptions(project_path+'descriptions.txt', train)\n",
        "print('Descriptions: train=%d' % len(train_descriptions))"
      ],
      "execution_count": 0,
      "outputs": [
        {
          "output_type": "stream",
          "text": [
            "Descriptions: train=6000\n"
          ],
          "name": "stdout"
        }
      ]
    },
    {
      "cell_type": "code",
      "metadata": {
        "id": "K2SqTQNIPhVI",
        "colab_type": "code",
        "colab": {}
      },
      "source": [
        "def preprocess(image_path):\n",
        "    # Convert all the images to size 299x299 as expected by the inception v3 model\n",
        "    img = image.load_img(image_path, target_size=(299, 299))\n",
        "    # Convert PIL image to numpy array of 3-dimensions\n",
        "    x = image.img_to_array(img)\n",
        "    # Add one more dimension\n",
        "    x = np.expand_dims(x, axis=0)\n",
        "    # preprocess the images using preprocess_input() from inception module\n",
        "    x = preprocess_input(x)\n",
        "    return x"
      ],
      "execution_count": 0,
      "outputs": []
    },
    {
      "cell_type": "code",
      "metadata": {
        "id": "jU02hE7sPhVK",
        "colab_type": "code",
        "outputId": "6db3950a-57af-4056-a7c5-e0a5ae722a76",
        "colab": {
          "base_uri": "https://localhost:8080/",
          "height": 356
        }
      },
      "source": [
        "# Load the inception v3 model\n",
        "model = InceptionV3(weights='imagenet')"
      ],
      "execution_count": 0,
      "outputs": [
        {
          "output_type": "stream",
          "text": [
            "WARNING: Logging before flag parsing goes to stderr.\n",
            "W0817 08:49:54.342251 140533297518464 deprecation_wrapper.py:119] From /usr/local/lib/python3.6/dist-packages/keras/backend/tensorflow_backend.py:74: The name tf.get_default_graph is deprecated. Please use tf.compat.v1.get_default_graph instead.\n",
            "\n",
            "W0817 08:49:54.392844 140533297518464 deprecation_wrapper.py:119] From /usr/local/lib/python3.6/dist-packages/keras/backend/tensorflow_backend.py:517: The name tf.placeholder is deprecated. Please use tf.compat.v1.placeholder instead.\n",
            "\n",
            "W0817 08:49:54.404202 140533297518464 deprecation_wrapper.py:119] From /usr/local/lib/python3.6/dist-packages/keras/backend/tensorflow_backend.py:4138: The name tf.random_uniform is deprecated. Please use tf.random.uniform instead.\n",
            "\n",
            "W0817 08:49:54.470417 140533297518464 deprecation_wrapper.py:119] From /usr/local/lib/python3.6/dist-packages/keras/backend/tensorflow_backend.py:174: The name tf.get_default_session is deprecated. Please use tf.compat.v1.get_default_session instead.\n",
            "\n",
            "W0817 08:49:54.471846 140533297518464 deprecation_wrapper.py:119] From /usr/local/lib/python3.6/dist-packages/keras/backend/tensorflow_backend.py:181: The name tf.ConfigProto is deprecated. Please use tf.compat.v1.ConfigProto instead.\n",
            "\n",
            "W0817 08:49:54.782504 140533297518464 deprecation_wrapper.py:119] From /usr/local/lib/python3.6/dist-packages/keras/backend/tensorflow_backend.py:1834: The name tf.nn.fused_batch_norm is deprecated. Please use tf.compat.v1.nn.fused_batch_norm instead.\n",
            "\n",
            "W0817 08:49:55.207957 140533297518464 deprecation_wrapper.py:119] From /usr/local/lib/python3.6/dist-packages/keras/backend/tensorflow_backend.py:3976: The name tf.nn.max_pool is deprecated. Please use tf.nn.max_pool2d instead.\n",
            "\n",
            "W0817 08:49:55.944122 140533297518464 deprecation_wrapper.py:119] From /usr/local/lib/python3.6/dist-packages/keras/backend/tensorflow_backend.py:3980: The name tf.nn.avg_pool is deprecated. Please use tf.nn.avg_pool2d instead.\n",
            "\n"
          ],
          "name": "stderr"
        },
        {
          "output_type": "stream",
          "text": [
            "Downloading data from https://github.com/fchollet/deep-learning-models/releases/download/v0.5/inception_v3_weights_tf_dim_ordering_tf_kernels.h5\n",
            "96116736/96112376 [==============================] - 3s 0us/step\n"
          ],
          "name": "stdout"
        }
      ]
    },
    {
      "cell_type": "code",
      "metadata": {
        "id": "T7s0QlK-PhVM",
        "colab_type": "code",
        "colab": {}
      },
      "source": [
        "# Create a new model, by removing the last layer (output layer) from the inception v3\n",
        "model_new = Model(model.input, model.layers[-2].output)"
      ],
      "execution_count": 0,
      "outputs": []
    },
    {
      "cell_type": "code",
      "metadata": {
        "id": "ks6wJopnPhVO",
        "colab_type": "code",
        "colab": {}
      },
      "source": [
        "# Function to encode a given image into a vector of size (2048, )\n",
        "def encode(image):\n",
        "    image = preprocess(image) # preprocess the image\n",
        "    fea_vec = model_new.predict(image) # Get the encoding vector for the image\n",
        "    fea_vec = np.reshape(fea_vec, fea_vec.shape[1]) # reshape from (1, 2048) to (2048, )\n",
        "    return fea_vec"
      ],
      "execution_count": 0,
      "outputs": []
    },
    {
      "cell_type": "code",
      "metadata": {
        "id": "tIWloxBpS4GN",
        "colab_type": "code",
        "outputId": "07fe3c0a-73af-4a61-c79d-528b44c80776",
        "colab": {
          "base_uri": "https://localhost:8080/",
          "height": 34
        }
      },
      "source": [
        "len(train_img)"
      ],
      "execution_count": 0,
      "outputs": [
        {
          "output_type": "execute_result",
          "data": {
            "text/plain": [
              "6000"
            ]
          },
          "metadata": {
            "tags": []
          },
          "execution_count": 26
        }
      ]
    },
    {
      "cell_type": "code",
      "metadata": {
        "id": "PWRKcsWePhVS",
        "colab_type": "code",
        "outputId": "ff1d3dc6-fa58-4a8d-cda4-23dae1047e3c",
        "colab": {
          "base_uri": "https://localhost:8080/",
          "height": 34
        }
      },
      "source": [
        "# Call the funtion to encode all the train images\n",
        "# This will take a while on CPU - Execute this only once\n",
        "start = time()\n",
        "encoding_train = {}\n",
        "for img in train_img:\n",
        "    encoding_train[img[len(images):]] = encode(img)\n",
        "print(\"Time taken in seconds =\", time()-start)"
      ],
      "execution_count": 0,
      "outputs": [
        {
          "output_type": "stream",
          "text": [
            "Time taken in seconds = 3939.0225808620453\n"
          ],
          "name": "stdout"
        }
      ]
    },
    {
      "cell_type": "code",
      "metadata": {
        "id": "tNEfSSN2PhVW",
        "colab_type": "code",
        "colab": {}
      },
      "source": [
        "# Save the bottleneck train features to disk\n",
        "with open(project_path+\"encoded_train_images.pkl\", \"wb\") as encoded_pickle:\n",
        "    dump(encoding_train, encoded_pickle)"
      ],
      "execution_count": 0,
      "outputs": []
    },
    {
      "cell_type": "code",
      "metadata": {
        "id": "Q10SoynCPhVZ",
        "colab_type": "code",
        "outputId": "2501d84c-2710-41b6-961e-9c512e7035c5",
        "colab": {
          "base_uri": "https://localhost:8080/",
          "height": 34
        }
      },
      "source": [
        "# Call the funtion to encode all the test images - Execute this only once\n",
        "start = time()\n",
        "encoding_test = {}\n",
        "for img in test_img:\n",
        "    encoding_test[img[len(images):]] = encode(img)\n",
        "print(\"Time taken in seconds =\", time()-start)"
      ],
      "execution_count": 0,
      "outputs": [
        {
          "output_type": "stream",
          "text": [
            "Time taken in seconds = 665.9337129592896\n"
          ],
          "name": "stdout"
        }
      ]
    },
    {
      "cell_type": "code",
      "metadata": {
        "id": "NzpfEyeSPhVc",
        "colab_type": "code",
        "colab": {}
      },
      "source": [
        "# Save the bottleneck test features to disk\n",
        "with open(project_path+\"encoded_test_images.pkl\", \"wb\") as encoded_pickle:\n",
        "    dump(encoding_test, encoded_pickle)"
      ],
      "execution_count": 0,
      "outputs": []
    },
    {
      "cell_type": "code",
      "metadata": {
        "id": "UQ9DX1q_PhVe",
        "colab_type": "code",
        "outputId": "6c49ba0b-1444-4318-e695-4b839e8a8568",
        "colab": {
          "base_uri": "https://localhost:8080/",
          "height": 34
        }
      },
      "source": [
        "train_features = load(open(project_path+\"encoded_train_images.pkl\", \"rb\"))\n",
        "print('Photos: train=%d' % len(train_features))"
      ],
      "execution_count": 0,
      "outputs": [
        {
          "output_type": "stream",
          "text": [
            "Photos: train=6000\n"
          ],
          "name": "stdout"
        }
      ]
    },
    {
      "cell_type": "code",
      "metadata": {
        "id": "5dWcB-rkPhVg",
        "colab_type": "code",
        "outputId": "7432a5b5-fd6d-4659-ac7b-682485eadc15",
        "colab": {
          "base_uri": "https://localhost:8080/",
          "height": 34
        }
      },
      "source": [
        "# Create a list of all the training captions\n",
        "all_train_captions = []\n",
        "for key, val in train_descriptions.items():\n",
        "    for cap in val:\n",
        "        all_train_captions.append(cap)\n",
        "len(all_train_captions)"
      ],
      "execution_count": 0,
      "outputs": [
        {
          "output_type": "execute_result",
          "data": {
            "text/plain": [
              "30000"
            ]
          },
          "metadata": {
            "tags": []
          },
          "execution_count": 33
        }
      ]
    },
    {
      "cell_type": "code",
      "metadata": {
        "id": "JwYPiVBKPhVi",
        "colab_type": "code",
        "outputId": "b7219de7-184d-43e5-8b44-34e363a677ae",
        "colab": {
          "base_uri": "https://localhost:8080/",
          "height": 34
        }
      },
      "source": [
        "# Consider only words which occur at least 10 times in the corpus\n",
        "word_count_threshold = 10\n",
        "word_counts = {}\n",
        "nsents = 0\n",
        "for sent in all_train_captions:\n",
        "    nsents += 1\n",
        "    for w in sent.split(' '):\n",
        "        word_counts[w] = word_counts.get(w, 0) + 1\n",
        "\n",
        "vocab = [w for w in word_counts if word_counts[w] >= word_count_threshold]\n",
        "print('preprocessed words %d -> %d' % (len(word_counts), len(vocab)))"
      ],
      "execution_count": 0,
      "outputs": [
        {
          "output_type": "stream",
          "text": [
            "preprocessed words 7578 -> 1651\n"
          ],
          "name": "stdout"
        }
      ]
    },
    {
      "cell_type": "code",
      "metadata": {
        "id": "43NpAY2zPhVk",
        "colab_type": "code",
        "colab": {}
      },
      "source": [
        "ixtoword = {}\n",
        "wordtoix = {}\n",
        "\n",
        "ix = 1\n",
        "for w in vocab:\n",
        "    wordtoix[w] = ix\n",
        "    ixtoword[ix] = w\n",
        "    ix += 1"
      ],
      "execution_count": 0,
      "outputs": []
    },
    {
      "cell_type": "code",
      "metadata": {
        "id": "2-9P4196PhVm",
        "colab_type": "code",
        "outputId": "78ab9767-c4eb-475e-e122-34df28694ca7",
        "colab": {
          "base_uri": "https://localhost:8080/",
          "height": 34
        }
      },
      "source": [
        "vocab_size = len(ixtoword) + 1 # one for appended 0's\n",
        "vocab_size"
      ],
      "execution_count": 0,
      "outputs": [
        {
          "output_type": "execute_result",
          "data": {
            "text/plain": [
              "1652"
            ]
          },
          "metadata": {
            "tags": []
          },
          "execution_count": 36
        }
      ]
    },
    {
      "cell_type": "code",
      "metadata": {
        "id": "zd5sD0MgPhVp",
        "colab_type": "code",
        "outputId": "85e96fb0-8733-4813-d4d0-02ea5a4685ee",
        "colab": {
          "base_uri": "https://localhost:8080/",
          "height": 34
        }
      },
      "source": [
        "# convert a dictionary of clean descriptions to a list of descriptions\n",
        "def to_lines(descriptions):\n",
        "\tall_desc = list()\n",
        "\tfor key in descriptions.keys():\n",
        "\t\t[all_desc.append(d) for d in descriptions[key]]\n",
        "\treturn all_desc\n",
        "\n",
        "# calculate the length of the description with the most words\n",
        "def max_length(descriptions):\n",
        "\tlines = to_lines(descriptions)\n",
        "\treturn max(len(d.split()) for d in lines)\n",
        "\n",
        "# determine the maximum sequence length\n",
        "max_length = max_length(train_descriptions)\n",
        "print('Description Length: %d' % max_length)"
      ],
      "execution_count": 0,
      "outputs": [
        {
          "output_type": "stream",
          "text": [
            "Description Length: 34\n"
          ],
          "name": "stdout"
        }
      ]
    },
    {
      "cell_type": "code",
      "metadata": {
        "id": "z-zJxz7PPhVr",
        "colab_type": "code",
        "colab": {}
      },
      "source": [
        "# data generator, intended to be used in a call to model.fit_generator()\n",
        "def data_generator(descriptions, photos, wordtoix, max_length, num_photos_per_batch):\n",
        "    X1, X2, y = list(), list(), list()\n",
        "    n=0\n",
        "    # loop for ever over images\n",
        "    while 1:\n",
        "        for key, desc_list in descriptions.items():\n",
        "            n+=1\n",
        "            # retrieve the photo feature\n",
        "            photo = photos[key+'.jpg']\n",
        "            for desc in desc_list:\n",
        "                # encode the sequence\n",
        "                seq = [wordtoix[word] for word in desc.split(' ') if word in wordtoix]\n",
        "                # split one sequence into multiple X, y pairs\n",
        "                for i in range(1, len(seq)):\n",
        "                    # split into input and output pair\n",
        "                    in_seq, out_seq = seq[:i], seq[i]\n",
        "                    # pad input sequence\n",
        "                    in_seq = pad_sequences([in_seq], maxlen=max_length)[0]\n",
        "                    # encode output sequence\n",
        "                    out_seq = to_categorical([out_seq], num_classes=vocab_size)[0]\n",
        "                    # store\n",
        "                    X1.append(photo)\n",
        "                    X2.append(in_seq)\n",
        "                    y.append(out_seq)\n",
        "            # yield the batch data\n",
        "            if n==num_photos_per_batch:\n",
        "                yield [[array(X1), array(X2)], array(y)]\n",
        "                X1, X2, y = list(), list(), list()\n",
        "                n=0"
      ],
      "execution_count": 0,
      "outputs": []
    },
    {
      "cell_type": "code",
      "metadata": {
        "id": "45D0kbs6PhVt",
        "colab_type": "code",
        "outputId": "06165d5b-3b25-45b4-a8f0-ebdbbdacf92e",
        "colab": {
          "base_uri": "https://localhost:8080/",
          "height": 34
        }
      },
      "source": [
        "# Load Glove vectors\n",
        "embeddings_index = {} # empty dictionary\n",
        "f = open(os.path.join(project_path, 'glove.6B.200d.txt'), encoding=\"utf-8\")\n",
        "\n",
        "for line in f:\n",
        "    values = line.split()\n",
        "    word = values[0]\n",
        "    coefs = np.asarray(values[1:], dtype='float32')\n",
        "    embeddings_index[word] = coefs\n",
        "f.close()\n",
        "print('Found %s word vectors.' % len(embeddings_index))"
      ],
      "execution_count": 0,
      "outputs": [
        {
          "output_type": "stream",
          "text": [
            "Found 400001 word vectors.\n"
          ],
          "name": "stdout"
        }
      ]
    },
    {
      "cell_type": "code",
      "metadata": {
        "id": "Rz7Vd3Y6PhVz",
        "colab_type": "code",
        "colab": {}
      },
      "source": [
        "embedding_dim = 200\n",
        "\n",
        "# Get 200-dim dense vector for each of the 10000 words in out vocabulary\n",
        "embedding_matrix = np.zeros((vocab_size, embedding_dim))\n",
        "\n",
        "for word, i in wordtoix.items():\n",
        "    #if i < max_words:\n",
        "    embedding_vector = embeddings_index.get(word)\n",
        "    if embedding_vector is not None:\n",
        "        # Words not found in the embedding index will be all zeros\n",
        "        embedding_matrix[i] = embedding_vector"
      ],
      "execution_count": 0,
      "outputs": []
    },
    {
      "cell_type": "code",
      "metadata": {
        "id": "0ec5A5B-PhV1",
        "colab_type": "code",
        "outputId": "d26c8233-def6-43cc-cd4f-3fbb744e609d",
        "colab": {
          "base_uri": "https://localhost:8080/",
          "height": 34
        }
      },
      "source": [
        "embedding_matrix.shape"
      ],
      "execution_count": 0,
      "outputs": [
        {
          "output_type": "execute_result",
          "data": {
            "text/plain": [
              "(1652, 200)"
            ]
          },
          "metadata": {
            "tags": []
          },
          "execution_count": 41
        }
      ]
    },
    {
      "cell_type": "code",
      "metadata": {
        "id": "_ODV3-6APhV4",
        "colab_type": "code",
        "colab": {}
      },
      "source": [
        ""
      ],
      "execution_count": 0,
      "outputs": []
    },
    {
      "cell_type": "code",
      "metadata": {
        "id": "XgPcOVxAPhV5",
        "colab_type": "code",
        "outputId": "1d8979c0-cee0-405e-af21-6a92c187d3f9",
        "colab": {
          "base_uri": "https://localhost:8080/",
          "height": 138
        }
      },
      "source": [
        "inputs1 = Input(shape=(2048,))\n",
        "fe1 = Dropout(0.5)(inputs1)\n",
        "fe2 = Dense(256, activation='relu')(fe1)\n",
        "inputs2 = Input(shape=(max_length,))\n",
        "se1 = Embedding(vocab_size, embedding_dim, mask_zero=True)(inputs2)\n",
        "se2 = Dropout(0.5)(se1)\n",
        "se3 = LSTM(256)(se2)\n",
        "decoder1 = add([fe2, se3])\n",
        "decoder2 = Dense(256, activation='relu')(decoder1)\n",
        "outputs = Dense(vocab_size, activation='softmax')(decoder2)\n",
        "model = Model(inputs=[inputs1, inputs2], outputs=outputs)"
      ],
      "execution_count": 0,
      "outputs": [
        {
          "output_type": "stream",
          "text": [
            "W0817 10:13:32.954106 140533297518464 deprecation.py:506] From /usr/local/lib/python3.6/dist-packages/keras/backend/tensorflow_backend.py:3445: calling dropout (from tensorflow.python.ops.nn_ops) with keep_prob is deprecated and will be removed in a future version.\n",
            "Instructions for updating:\n",
            "Please use `rate` instead of `keep_prob`. Rate should be set to `rate = 1 - keep_prob`.\n",
            "W0817 10:13:33.400730 140533297518464 deprecation.py:323] From /usr/local/lib/python3.6/dist-packages/keras/backend/tensorflow_backend.py:2974: add_dispatch_support.<locals>.wrapper (from tensorflow.python.ops.array_ops) is deprecated and will be removed in a future version.\n",
            "Instructions for updating:\n",
            "Use tf.where in 2.0, which has the same broadcast rule as np.where\n"
          ],
          "name": "stderr"
        }
      ]
    },
    {
      "cell_type": "code",
      "metadata": {
        "id": "ZVr5ql1MPhV7",
        "colab_type": "code",
        "outputId": "c309df9c-a2ec-4527-909f-eb6069bf187b",
        "colab": {
          "base_uri": "https://localhost:8080/",
          "height": 487
        }
      },
      "source": [
        "model.summary()"
      ],
      "execution_count": 0,
      "outputs": [
        {
          "output_type": "stream",
          "text": [
            "__________________________________________________________________________________________________\n",
            "Layer (type)                    Output Shape         Param #     Connected to                     \n",
            "==================================================================================================\n",
            "input_3 (InputLayer)            (None, 34)           0                                            \n",
            "__________________________________________________________________________________________________\n",
            "input_2 (InputLayer)            (None, 2048)         0                                            \n",
            "__________________________________________________________________________________________________\n",
            "embedding_1 (Embedding)         (None, 34, 200)      330400      input_3[0][0]                    \n",
            "__________________________________________________________________________________________________\n",
            "dropout_1 (Dropout)             (None, 2048)         0           input_2[0][0]                    \n",
            "__________________________________________________________________________________________________\n",
            "dropout_2 (Dropout)             (None, 34, 200)      0           embedding_1[0][0]                \n",
            "__________________________________________________________________________________________________\n",
            "dense_1 (Dense)                 (None, 256)          524544      dropout_1[0][0]                  \n",
            "__________________________________________________________________________________________________\n",
            "lstm_1 (LSTM)                   (None, 256)          467968      dropout_2[0][0]                  \n",
            "__________________________________________________________________________________________________\n",
            "add_1 (Add)                     (None, 256)          0           dense_1[0][0]                    \n",
            "                                                                 lstm_1[0][0]                     \n",
            "__________________________________________________________________________________________________\n",
            "dense_2 (Dense)                 (None, 256)          65792       add_1[0][0]                      \n",
            "__________________________________________________________________________________________________\n",
            "dense_3 (Dense)                 (None, 1652)         424564      dense_2[0][0]                    \n",
            "==================================================================================================\n",
            "Total params: 1,813,268\n",
            "Trainable params: 1,813,268\n",
            "Non-trainable params: 0\n",
            "__________________________________________________________________________________________________\n"
          ],
          "name": "stdout"
        }
      ]
    },
    {
      "cell_type": "code",
      "metadata": {
        "id": "_5n_KCzkPhV9",
        "colab_type": "code",
        "outputId": "13412edf-fdab-4e38-f73c-af8e07342df9",
        "colab": {
          "base_uri": "https://localhost:8080/",
          "height": 34
        }
      },
      "source": [
        "model.layers[2]"
      ],
      "execution_count": 0,
      "outputs": [
        {
          "output_type": "execute_result",
          "data": {
            "text/plain": [
              "<keras.layers.embeddings.Embedding at 0x7fd02d957748>"
            ]
          },
          "metadata": {
            "tags": []
          },
          "execution_count": 44
        }
      ]
    },
    {
      "cell_type": "code",
      "metadata": {
        "id": "tYaOH_9hPhV_",
        "colab_type": "code",
        "colab": {}
      },
      "source": [
        "model.layers[2].set_weights([embedding_matrix])\n",
        "model.layers[2].trainable = False"
      ],
      "execution_count": 0,
      "outputs": []
    },
    {
      "cell_type": "code",
      "metadata": {
        "id": "YIrLSkiQPhWB",
        "colab_type": "code",
        "outputId": "4c7eaf2a-7685-4236-f9da-85aa80a08b3b",
        "colab": {
          "base_uri": "https://localhost:8080/",
          "height": 70
        }
      },
      "source": [
        "model.compile(loss='categorical_crossentropy', optimizer='adam')"
      ],
      "execution_count": 0,
      "outputs": [
        {
          "output_type": "stream",
          "text": [
            "W0817 10:14:01.681114 140533297518464 deprecation_wrapper.py:119] From /usr/local/lib/python3.6/dist-packages/keras/optimizers.py:790: The name tf.train.Optimizer is deprecated. Please use tf.compat.v1.train.Optimizer instead.\n",
            "\n"
          ],
          "name": "stderr"
        }
      ]
    },
    {
      "cell_type": "code",
      "metadata": {
        "id": "0_OoHt-UPhWE",
        "colab_type": "code",
        "colab": {}
      },
      "source": [
        "epochs = 10\n",
        "number_pics_per_bath = 3\n",
        "steps = len(train_descriptions)//number_pics_per_bath"
      ],
      "execution_count": 0,
      "outputs": []
    },
    {
      "cell_type": "code",
      "metadata": {
        "id": "yCQXbCaCPhWF",
        "colab_type": "code",
        "outputId": "9da418a2-860f-4138-b4cc-1d37e89a0929",
        "colab": {
          "base_uri": "https://localhost:8080/",
          "height": 353
        }
      },
      "source": [
        "for i in range(epochs):\n",
        "    generator = data_generator(train_descriptions, train_features, wordtoix, max_length, number_pics_per_bath)\n",
        "    model.fit_generator(generator, epochs=1, steps_per_epoch=steps, verbose=1)\n",
        "    model.save(project_path+'/model_weights/model_' + str(i) + '.h5')"
      ],
      "execution_count": 0,
      "outputs": [
        {
          "output_type": "stream",
          "text": [
            "Epoch 1/1\n",
            "2000/2000 [==============================] - 981s 491ms/step - loss: 3.4294\n",
            "Epoch 1/1\n",
            "2000/2000 [==============================] - 983s 491ms/step - loss: 3.2085\n",
            "Epoch 1/1\n",
            "2000/2000 [==============================] - 984s 492ms/step - loss: 3.0732\n",
            "Epoch 1/1\n",
            "2000/2000 [==============================] - 984s 492ms/step - loss: 2.9755\n",
            "Epoch 1/1\n",
            "2000/2000 [==============================] - 978s 489ms/step - loss: 2.8987\n",
            "Epoch 1/1\n",
            "2000/2000 [==============================] - 983s 492ms/step - loss: 2.8415\n",
            "Epoch 1/1\n",
            "2000/2000 [==============================] - 981s 490ms/step - loss: 2.7905\n",
            "Epoch 1/1\n",
            "2000/2000 [==============================] - 978s 489ms/step - loss: 2.7526\n",
            "Epoch 1/1\n",
            "2000/2000 [==============================] - 975s 487ms/step - loss: 2.7138\n",
            "Epoch 1/1\n",
            "2000/2000 [==============================] - 978s 489ms/step - loss: 2.6865\n"
          ],
          "name": "stdout"
        }
      ]
    },
    {
      "cell_type": "code",
      "metadata": {
        "id": "Tpkn-sRjPhWH",
        "colab_type": "code",
        "outputId": "e45e2a28-fabc-49aa-bcec-275c2d36b5c3",
        "colab": {}
      },
      "source": [
        "for i in range(epochs):\n",
        "    generator = data_generator(train_descriptions, train_features, wordtoix, max_length, number_pics_per_bath)\n",
        "    model.fit_generator(generator, epochs=1, steps_per_epoch=steps, verbose=1)\n",
        "    model.save('./model_weights/model_' + str(i) + '.h5')"
      ],
      "execution_count": 0,
      "outputs": [
        {
          "output_type": "stream",
          "text": [
            "Epoch 1/1\n",
            "2000/2000 [==============================] - 118s 59ms/step - loss: 2.6823\n",
            "Epoch 1/1\n",
            "2000/2000 [==============================] - 118s 59ms/step - loss: 2.6567\n",
            "Epoch 1/1\n",
            "2000/2000 [==============================] - 118s 59ms/step - loss: 2.6342\n",
            "Epoch 1/1\n",
            "2000/2000 [==============================] - 118s 59ms/step - loss: 2.6129\n",
            "Epoch 1/1\n",
            "2000/2000 [==============================] - 118s 59ms/step - loss: 2.5916\n",
            "Epoch 1/1\n",
            "2000/2000 [==============================] - 118s 59ms/step - loss: 2.5761\n",
            "Epoch 1/1\n",
            "2000/2000 [==============================] - 118s 59ms/step - loss: 2.5610\n",
            "Epoch 1/1\n",
            "2000/2000 [==============================] - 118s 59ms/step - loss: 2.5488\n",
            "Epoch 1/1\n",
            "2000/2000 [==============================] - 118s 59ms/step - loss: 2.5363\n",
            "Epoch 1/1\n",
            "2000/2000 [==============================] - 118s 59ms/step - loss: 2.5255\n"
          ],
          "name": "stdout"
        }
      ]
    },
    {
      "cell_type": "code",
      "metadata": {
        "id": "aYVfdiDDPhWJ",
        "colab_type": "code",
        "colab": {}
      },
      "source": [
        "model.optimizer.lr = 0.0001\n",
        "epochs = 10\n",
        "number_pics_per_bath = 6\n",
        "steps = len(train_descriptions)//number_pics_per_bath"
      ],
      "execution_count": 0,
      "outputs": []
    },
    {
      "cell_type": "code",
      "metadata": {
        "id": "_33WklBaPhWL",
        "colab_type": "code",
        "outputId": "bc910669-7d06-4838-db09-48ad95bc6f9c",
        "colab": {
          "base_uri": "https://localhost:8080/",
          "height": 353
        }
      },
      "source": [
        "for i in range(epochs):\n",
        "    generator = data_generator(train_descriptions, train_features, wordtoix, max_length, number_pics_per_bath)\n",
        "    model.fit_generator(generator, epochs=1, steps_per_epoch=steps, verbose=1)\n",
        "    #model.save('./model_weights/model_' + str(i) + '.h5')"
      ],
      "execution_count": 0,
      "outputs": [
        {
          "output_type": "stream",
          "text": [
            "Epoch 1/1\n",
            "1000/1000 [==============================] - 782s 782ms/step - loss: 2.6168\n",
            "Epoch 1/1\n",
            "1000/1000 [==============================] - 783s 783ms/step - loss: 2.5908\n",
            "Epoch 1/1\n",
            "1000/1000 [==============================] - 787s 787ms/step - loss: 2.5742\n",
            "Epoch 1/1\n",
            "1000/1000 [==============================] - 791s 791ms/step - loss: 2.5553\n",
            "Epoch 1/1\n",
            "1000/1000 [==============================] - 789s 789ms/step - loss: 2.5381\n",
            "Epoch 1/1\n",
            "1000/1000 [==============================] - 786s 786ms/step - loss: 2.5216\n",
            "Epoch 1/1\n",
            "1000/1000 [==============================] - 784s 784ms/step - loss: 2.5053\n",
            "Epoch 1/1\n",
            "1000/1000 [==============================] - 783s 783ms/step - loss: 2.4941\n",
            "Epoch 1/1\n",
            "1000/1000 [==============================] - 779s 779ms/step - loss: 2.4786\n",
            "Epoch 1/1\n",
            "1000/1000 [==============================] - 779s 779ms/step - loss: 2.4639\n"
          ],
          "name": "stdout"
        }
      ]
    },
    {
      "cell_type": "code",
      "metadata": {
        "id": "MwmWpV9bPhWN",
        "colab_type": "code",
        "colab": {}
      },
      "source": [
        "model.save_weights(project_path+'/model_weights/model_30.h5')"
      ],
      "execution_count": 0,
      "outputs": []
    },
    {
      "cell_type": "code",
      "metadata": {
        "id": "yJJ8cuK0PhWP",
        "colab_type": "code",
        "colab": {}
      },
      "source": [
        ""
      ],
      "execution_count": 0,
      "outputs": []
    },
    {
      "cell_type": "code",
      "metadata": {
        "id": "mJAx1YLePhWS",
        "colab_type": "code",
        "colab": {}
      },
      "source": [
        ""
      ],
      "execution_count": 0,
      "outputs": []
    },
    {
      "cell_type": "code",
      "metadata": {
        "id": "m4mIj1AjPhWT",
        "colab_type": "code",
        "colab": {}
      },
      "source": [
        "model.load_weights(project_path+'/model_weights/model_30.h5')"
      ],
      "execution_count": 0,
      "outputs": []
    },
    {
      "cell_type": "code",
      "metadata": {
        "id": "Tr_yh3YsPhWW",
        "colab_type": "code",
        "colab": {}
      },
      "source": [
        "images = project_path+'Flickr8k_Dataset'+'/Flicker8k_Dataset/'"
      ],
      "execution_count": 0,
      "outputs": []
    },
    {
      "cell_type": "code",
      "metadata": {
        "id": "YkkkjyaIPhWY",
        "colab_type": "code",
        "colab": {}
      },
      "source": [
        "with open(project_path+\"encoded_test_images.pkl\", \"rb\") as encoded_pickle:\n",
        "    encoding_test = load(encoded_pickle)"
      ],
      "execution_count": 0,
      "outputs": []
    },
    {
      "cell_type": "code",
      "metadata": {
        "id": "LVGkPIVFPhWa",
        "colab_type": "code",
        "colab": {}
      },
      "source": [
        "def greedySearch(photo):\n",
        "    in_text = 'startseq'\n",
        "    for i in range(max_length):\n",
        "        sequence = [wordtoix[w] for w in in_text.split() if w in wordtoix]\n",
        "        sequence = pad_sequences([sequence], maxlen=max_length)\n",
        "        yhat = model.predict([photo,sequence], verbose=0)\n",
        "        yhat = np.argmax(yhat)\n",
        "        word = ixtoword[yhat]\n",
        "        in_text += ' ' + word\n",
        "        if word == 'endseq':\n",
        "            break\n",
        "    final = in_text.split()\n",
        "    final = final[1:-1]\n",
        "    final = ' '.join(final)\n",
        "    return final"
      ],
      "execution_count": 0,
      "outputs": []
    },
    {
      "cell_type": "code",
      "metadata": {
        "id": "RVq0bQaZPhWb",
        "colab_type": "code",
        "outputId": "d8290d9c-04ca-45fd-83af-fa3b2235d178",
        "colab": {
          "base_uri": "https://localhost:8080/",
          "height": 286
        }
      },
      "source": [
        "z=1\n",
        "pic = list(encoding_test.keys())[z]\n",
        "image = encoding_test[pic].reshape((1,2048))\n",
        "x=plt.imread(images+pic)\n",
        "plt.imshow(x)\n",
        "plt.show()\n",
        "print(\"Greedy:\",greedySearch(image))"
      ],
      "execution_count": 0,
      "outputs": [
        {
          "output_type": "display_data",
          "data": {
            "image/png": "[encoded data removed]",
            "text/plain": [
              "<Figure size 432x288 with 1 Axes>"
            ]
          },
          "metadata": {
            "tags": []
          }
        },
        {
          "output_type": "stream",
          "text": [
            "Greedy: two dogs play together in the grass\n"
          ],
          "name": "stdout"
        }
      ]
    },
    {
      "cell_type": "code",
      "metadata": {
        "id": "tNeOfGtXPhWd",
        "colab_type": "code",
        "colab": {}
      },
      "source": [
        ""
      ],
      "execution_count": 0,
      "outputs": []
    }
  ]
}