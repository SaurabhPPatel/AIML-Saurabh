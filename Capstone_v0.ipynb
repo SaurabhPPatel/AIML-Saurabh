{
  "nbformat": 4,
  "nbformat_minor": 0,
  "metadata": {
    "kernelspec": {
      "display_name": "Python 3",
      "language": "python",
      "name": "python3"
    },
    "language_info": {
      "codemirror_mode": {
        "name": "ipython",
        "version": 3
      },
      "file_extension": ".py",
      "mimetype": "text/x-python",
      "name": "python",
      "nbconvert_exporter": "python",
      "pygments_lexer": "ipython3",
      "version": "3.6.8"
    },
    "colab": {
      "name": "Untitled13.ipynb",
      "provenance": []
    }
  },
  "cells": [
    {
      "cell_type": "code",
      "metadata": {
        "id": "SgZjdLH_IfDC",
        "colab_type": "code",
        "outputId": "4910b66b-7be6-4fc8-a68e-b5eb69118d9b",
        "colab": {
          "base_uri": "https://localhost:8080/",
          "height": 54
        }
      },
      "source": [
        "from google.colab import drive\n",
        "drive.mount('/content/drive')"
      ],
      "execution_count": 38,
      "outputs": [
        {
          "output_type": "stream",
          "text": [
            "Drive already mounted at /content/drive; to attempt to forcibly remount, call drive.mount(\"/content/drive\", force_remount=True).\n"
          ],
          "name": "stdout"
        }
      ]
    },
    {
      "cell_type": "code",
      "metadata": {
        "id": "ydmoBlv-IfDF",
        "colab_type": "code",
        "colab": {}
      },
      "source": [
        "import os\n",
        "os.chdir('/content/drive/My Drive/Capstone/')"
      ],
      "execution_count": 0,
      "outputs": []
    },
    {
      "cell_type": "code",
      "metadata": {
        "id": "gFYfNN1uIfDI",
        "colab_type": "code",
        "colab": {}
      },
      "source": [
        "report_xml = 'NLMCXR_reports.tgz'"
      ],
      "execution_count": 0,
      "outputs": []
    },
    {
      "cell_type": "code",
      "metadata": {
        "id": "udEvb8iIIfDL",
        "colab_type": "code",
        "colab": {}
      },
      "source": [
        "#import tarfile\n",
        "#reports = tarfile.open(report_xml)\n",
        "#reports.extractall()\n",
        "#reports.close()"
      ],
      "execution_count": 0,
      "outputs": []
    },
    {
      "cell_type": "code",
      "metadata": {
        "id": "UXyT34hlIfDO",
        "colab_type": "code",
        "colab": {}
      },
      "source": [
        "path = '/content/drive/My Drive/Capstone/ecgen-radiology'"
      ],
      "execution_count": 0,
      "outputs": []
    },
    {
      "cell_type": "code",
      "metadata": {
        "id": "B8MZ6K3sIfDR",
        "colab_type": "code",
        "colab": {}
      },
      "source": [
        "file = path + '/1.xml'"
      ],
      "execution_count": 0,
      "outputs": []
    },
    {
      "cell_type": "code",
      "metadata": {
        "id": "q2gTQ4npIfDT",
        "colab_type": "code",
        "colab": {}
      },
      "source": [
        "import xml.etree.ElementTree as ET"
      ],
      "execution_count": 0,
      "outputs": []
    },
    {
      "cell_type": "code",
      "metadata": {
        "id": "XXWVrlXE5FII",
        "colab_type": "code",
        "colab": {}
      },
      "source": [
        "tree = ET.parse(file)\n",
        "root = tree.getroot()"
      ],
      "execution_count": 0,
      "outputs": []
    },
    {
      "cell_type": "code",
      "metadata": {
        "id": "AWeNmcC35VjW",
        "colab_type": "code",
        "colab": {}
      },
      "source": [
        "for child in root:\n",
        "  tags = [elem.tag for elem in root.iter()]"
      ],
      "execution_count": 0,
      "outputs": []
    },
    {
      "cell_type": "code",
      "metadata": {
        "id": "u8wForeWZ-7V",
        "colab_type": "code",
        "colab": {
          "base_uri": "https://localhost:8080/",
          "height": 105
        },
        "outputId": "7867c6e7-5ba2-44d3-b2e7-f77cada08f45"
      },
      "source": [
        "for description in root.iter('AbstractText'):\n",
        "    print(description.attrib,description.text)"
      ],
      "execution_count": 68,
      "outputs": [
        {
          "output_type": "stream",
          "text": [
            "{'Label': 'COMPARISON'} None.\n",
            "{'Label': 'INDICATION'} Positive TB test\n",
            "{'Label': 'FINDINGS'} The cardiac silhouette and mediastinum size are within normal limits. There is no pulmonary edema. There is no focal consolidation. There are no XXXX of a pleural effusion. There is no evidence of pneumothorax.\n",
            "{'Label': 'IMPRESSION'} Normal chest x-XXXX.\n"
          ],
          "name": "stdout"
        }
      ]
    },
    {
      "cell_type": "code",
      "metadata": {
        "id": "OOhbW_coe_HP",
        "colab_type": "code",
        "colab": {
          "base_uri": "https://localhost:8080/",
          "height": 51
        },
        "outputId": "78bb0aa0-7bba-4bb4-805c-ee737ca11255"
      },
      "source": [
        "for description in root.iter('parentImage'):\n",
        "    print(description.attrib)"
      ],
      "execution_count": 74,
      "outputs": [
        {
          "output_type": "stream",
          "text": [
            "{'id': 'CXR1_1_IM-0001-3001'}\n",
            "{'id': 'CXR1_1_IM-0001-4001'}\n"
          ],
          "name": "stdout"
        }
      ]
    },
    {
      "cell_type": "code",
      "metadata": {
        "id": "t2r3GtgKaNLb",
        "colab_type": "code",
        "colab": {
          "base_uri": "https://localhost:8080/",
          "height": 1000
        },
        "outputId": "acad9684-b3a1-44a0-f71f-e3b504f24b53"
      },
      "source": [
        "tags"
      ],
      "execution_count": 55,
      "outputs": [
        {
          "output_type": "execute_result",
          "data": {
            "text/plain": [
              "['eCitation',\n",
              " 'meta',\n",
              " 'uId',\n",
              " 'pmcId',\n",
              " 'docSource',\n",
              " 'IUXRId',\n",
              " 'licenseType',\n",
              " 'licenseURL',\n",
              " 'ccLicense',\n",
              " 'articleURL',\n",
              " 'articleDate',\n",
              " 'articleType',\n",
              " 'publisher',\n",
              " 'title',\n",
              " 'note',\n",
              " 'specialty',\n",
              " 'subset',\n",
              " 'MedlineCitation',\n",
              " 'Article',\n",
              " 'Journal',\n",
              " 'JournalIssue',\n",
              " 'PubDate',\n",
              " 'Year',\n",
              " 'Month',\n",
              " 'Day',\n",
              " 'ArticleTitle',\n",
              " 'Abstract',\n",
              " 'AbstractText',\n",
              " 'AbstractText',\n",
              " 'AbstractText',\n",
              " 'AbstractText',\n",
              " 'Affiliation',\n",
              " 'AuthorList',\n",
              " 'Author',\n",
              " 'LastName',\n",
              " 'ForeName',\n",
              " 'Initials',\n",
              " 'Author',\n",
              " 'LastName',\n",
              " 'ForeName',\n",
              " 'Initials',\n",
              " 'Language',\n",
              " 'PublicationTypeList',\n",
              " 'PublicationType',\n",
              " 'ArticleDate',\n",
              " 'Year',\n",
              " 'Month',\n",
              " 'Day',\n",
              " 'EssieArticleTitle',\n",
              " 'IMedAuthor',\n",
              " 'IMedAuthor',\n",
              " 'MeSH',\n",
              " 'major',\n",
              " 'parentImage',\n",
              " 'figureId',\n",
              " 'caption',\n",
              " 'panel',\n",
              " 'url',\n",
              " 'imgModality',\n",
              " 'region',\n",
              " 'globalImageFeatures',\n",
              " 'CEDD',\n",
              " 'ColorLayout',\n",
              " 'EdgeHistogram',\n",
              " 'FCTH',\n",
              " 'SemanticContext60',\n",
              " 'parentImage',\n",
              " 'figureId',\n",
              " 'caption',\n",
              " 'panel',\n",
              " 'url',\n",
              " 'imgModality',\n",
              " 'region',\n",
              " 'globalImageFeatures',\n",
              " 'CEDD',\n",
              " 'ColorLayout',\n",
              " 'EdgeHistogram',\n",
              " 'FCTH',\n",
              " 'SemanticContext60']"
            ]
          },
          "metadata": {
            "tags": []
          },
          "execution_count": 55
        }
      ]
    },
    {
      "cell_type": "code",
      "metadata": {
        "id": "jTfbszDHaPXE",
        "colab_type": "code",
        "colab": {}
      },
      "source": [
        ""
      ],
      "execution_count": 0,
      "outputs": []
    }
  ]
}