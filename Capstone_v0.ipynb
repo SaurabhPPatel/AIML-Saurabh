{
  "nbformat": 4,
  "nbformat_minor": 0,
  "metadata": {
    "kernelspec": {
      "display_name": "Python 3",
      "language": "python",
      "name": "python3"
    },
    "language_info": {
      "codemirror_mode": {
        "name": "ipython",
        "version": 3
      },
      "file_extension": ".py",
      "mimetype": "text/x-python",
      "name": "python",
      "nbconvert_exporter": "python",
      "pygments_lexer": "ipython3",
      "version": "3.6.8"
    },
    "colab": {
      "name": "Untitled13.ipynb",
      "provenance": []
    }
  },
  "cells": [
    {
      "cell_type": "code",
      "metadata": {
        "id": "SgZjdLH_IfDC",
        "colab_type": "code",
        "outputId": "4910b66b-7be6-4fc8-a68e-b5eb69118d9b",
        "colab": {
          "base_uri": "https://localhost:8080/",
          "height": 54
        }
      },
      "source": [
        "from google.colab import drive\n",
        "drive.mount('/content/drive')"
      ],
      "execution_count": 38,
      "outputs": [
        {
          "output_type": "stream",
          "text": [
            "Drive already mounted at /content/drive; to attempt to forcibly remount, call drive.mount(\"/content/drive\", force_remount=True).\n"
          ],
          "name": "stdout"
        }
      ]
    },
    {
      "cell_type": "code",
      "metadata": {
        "id": "ydmoBlv-IfDF",
        "colab_type": "code",
        "colab": {}
      },
      "source": [
        "import os\n",
        "os.chdir('/content/drive/My Drive/Capstone/')"
      ],
      "execution_count": 0,
      "outputs": []
    },
    {
      "cell_type": "code",
      "metadata": {
        "id": "gFYfNN1uIfDI",
        "colab_type": "code",
        "colab": {}
      },
      "source": [
        "report_xml = 'NLMCXR_reports.tgz'"
      ],
      "execution_count": 0,
      "outputs": []
    },
    {
      "cell_type": "code",
      "metadata": {
        "id": "udEvb8iIIfDL",
        "colab_type": "code",
        "colab": {}
      },
      "source": [
        "#import tarfile\n",
        "#reports = tarfile.open(report_xml)\n",
        "#reports.extractall()\n",
        "#reports.close()"
      ],
      "execution_count": 0,
      "outputs": []
    },
    {
      "cell_type": "code",
      "metadata": {
        "id": "UXyT34hlIfDO",
        "colab_type": "code",
        "colab": {}
      },
      "source": [
        "path = '/content/drive/My Drive/Capstone/ecgen-radiology'"
      ],
      "execution_count": 0,
      "outputs": []
    },
    {
      "cell_type": "code",
      "metadata": {
        "id": "B8MZ6K3sIfDR",
        "colab_type": "code",
        "colab": {}
      },
      "source": [
        "file = path + '/1.xml'"
      ],
      "execution_count": 0,
      "outputs": []
    },
    {
      "cell_type": "code",
      "metadata": {
        "id": "q2gTQ4npIfDT",
        "colab_type": "code",
        "colab": {}
      },
      "source": [
        "import xml.etree.ElementTree as ET"
      ],
      "execution_count": 0,
      "outputs": []
    },
    {
      "cell_type": "code",
      "metadata": {
        "id": "XXWVrlXE5FII",
        "colab_type": "code",
        "colab": {}
      },
      "source": [
        "tree = ET.parse(file)\n",
        "root = tree.getroot()"
      ],
      "execution_count": 0,
      "outputs": []
    },
    {
      "cell_type": "code",
      "metadata": {
        "id": "AWeNmcC35VjW",
        "colab_type": "code",
        "colab": {}
      },
      "source": [
        "for child in root:\n",
        "  tags = [elem.tag for elem in root.iter()]"
      ],
      "execution_count": 0,
      "outputs": []
    },
    {
      "cell_type": "code",
      "metadata": {
        "id": "u8wForeWZ-7V",
        "colab_type": "code",
        "colab": {
          "base_uri": "https://localhost:8080/",
          "height": 105
        },
        "outputId": "7867c6e7-5ba2-44d3-b2e7-f77cada08f45"
      },
      "source": [
        "for description in root.iter('AbstractText'):\n",
        "    print(description.attrib,description.text)"
      ],
      "execution_count": 68,
      "outputs": [
        {
          "output_type": "stream",
          "text": [
            "{'Label': 'COMPARISON'} None.\n",
            "{'Label': 'INDICATION'} Positive TB test\n",
            "{'Label': 'FINDINGS'} The cardiac silhouette and mediastinum size are within normal limits. There is no pulmonary edema. There is no focal consolidation. There are no XXXX of a pleural effusion. There is no evidence of pneumothorax.\n",
            "{'Label': 'IMPRESSION'} Normal chest x-XXXX.\n"
          ],
          "name": "stdout"
        }
      ]
    },
    {
      "cell_type": "code",
      "metadata": {
        "id": "OOhbW_coe_HP",
        "colab_type": "code",
        "colab": {
          "base_uri": "https://localhost:8080/",
          "height": 51
        },
        "outputId": "9c9522dd-3470-4f2a-9d6e-371d017f7b45"
      },
      "source": [
        "for description in root.iter('parentImage'):\n",
        "  ids = list(description.attrib.items())\n",
        "  print(description.attrib.items())"
      ],
      "execution_count": 118,
      "outputs": [
        {
          "output_type": "stream",
          "text": [
            "dict_items([('id', 'CXR1_1_IM-0001-3001')])\n",
            "dict_items([('id', 'CXR1_1_IM-0001-4001')])\n"
          ],
          "name": "stdout"
        }
      ]
    },
    {
      "cell_type": "code",
      "metadata": {
        "id": "0bhbOGvdlPch",
        "colab_type": "code",
        "colab": {
          "base_uri": "https://localhost:8080/",
          "height": 34
        },
        "outputId": "1ef10f11-25df-4962-d642-2cfcf1ed7067"
      },
      "source": [
        "ids"
      ],
      "execution_count": 116,
      "outputs": [
        {
          "output_type": "execute_result",
          "data": {
            "text/plain": [
              "[('id', 'CXR1_1_IM-0001-4001')]"
            ]
          },
          "metadata": {
            "tags": []
          },
          "execution_count": 116
        }
      ]
    },
    {
      "cell_type": "code",
      "metadata": {
        "id": "4QFUrIR7j52f",
        "colab_type": "code",
        "colab": {
          "base_uri": "https://localhost:8080/",
          "height": 129
        },
        "outputId": "5b5a90ab-a27b-4bd5-d298-bbe8d94db1cc"
      },
      "source": [
        "for name, value in root.attrib.items():\n",
        "    print '{0}=\"{1}\"'.format(name, value)"
      ],
      "execution_count": 85,
      "outputs": [
        {
          "output_type": "error",
          "ename": "SyntaxError",
          "evalue": "ignored",
          "traceback": [
            "\u001b[0;36m  File \u001b[0;32m\"<ipython-input-85-1efc11fc474d>\"\u001b[0;36m, line \u001b[0;32m2\u001b[0m\n\u001b[0;31m    print '{0}=\"{1}\"'.format(name, value)\u001b[0m\n\u001b[0m                    ^\u001b[0m\n\u001b[0;31mSyntaxError\u001b[0m\u001b[0;31m:\u001b[0m invalid syntax\n"
          ]
        }
      ]
    },
    {
      "cell_type": "code",
      "metadata": {
        "id": "t2r3GtgKaNLb",
        "colab_type": "code",
        "colab": {
          "base_uri": "https://localhost:8080/",
          "height": 1000
        },
        "outputId": "c7fe9d97-f465-4099-cba2-69a0119cc873"
      },
      "source": [
        "print(ET.tostring(root, encoding='utf8').decode('utf8'))"
      ],
      "execution_count": 76,
      "outputs": [
        {
          "output_type": "stream",
          "text": [
            "<?xml version='1.0' encoding='utf8'?>\n",
            "<eCitation>\n",
            "   <meta type=\"rr\" />\n",
            "   <uId id=\"CXR1\" />\n",
            "   <pmcId id=\"1\" />\n",
            "   <docSource>CXR</docSource>\n",
            "   <IUXRId id=\"1\" />\n",
            "   <licenseType>open-access</licenseType>\n",
            "   <licenseURL>http://creativecommons.org/licenses/by-nc-nd/4.0/</licenseURL>\n",
            "   <ccLicense>byncnd</ccLicense>\n",
            "   <articleURL />\n",
            "   <articleDate>2013-08-01</articleDate>\n",
            "   <articleType>XR</articleType>\n",
            "   <publisher>Indiana University</publisher>\n",
            "   <title>Indiana University Chest X-ray Collection</title>\n",
            "   <note>The data are drawn from multiple hospital systems.</note>\n",
            "   <specialty>pulmonary diseases</specialty>\n",
            "   <subset>CXR</subset>\n",
            "   <MedlineCitation Owner=\"Indiana University\" Status=\"supplied by publisher\">\n",
            "   \n",
            "      <Article PubModel=\"Electronic\">\n",
            "      \n",
            "         <Journal>\n",
            "         \n",
            "            <JournalIssue>\n",
            "            \n",
            "               <PubDate>\n",
            "               \n",
            "                  <Year>2013</Year>\n",
            "               \n",
            "                  <Month>08</Month>\n",
            "               \n",
            "                  <Day>01</Day>\n",
            "            \n",
            "               </PubDate>\n",
            "         \n",
            "            </JournalIssue>\n",
            "      \n",
            "         </Journal>\n",
            "      \n",
            "         <ArticleTitle>Indiana University Chest X-ray Collection</ArticleTitle>\n",
            "      \n",
            "         <Abstract>\n",
            "         \n",
            "            <AbstractText Label=\"COMPARISON\">None.</AbstractText>\n",
            "         \n",
            "            <AbstractText Label=\"INDICATION\">Positive TB test</AbstractText>\n",
            "         \n",
            "            <AbstractText Label=\"FINDINGS\">The cardiac silhouette and mediastinum size are within normal limits. There is no pulmonary edema. There is no focal consolidation. There are no XXXX of a pleural effusion. There is no evidence of pneumothorax.</AbstractText>\n",
            "         \n",
            "            <AbstractText Label=\"IMPRESSION\">Normal chest x-XXXX.</AbstractText>\n",
            "      \n",
            "         </Abstract>\n",
            "      \n",
            "         <Affiliation>Indiana University</Affiliation>\n",
            "      \n",
            "         <AuthorList CompleteYN=\"Y\">\n",
            "         \n",
            "            <Author ValidYN=\"Y\">\n",
            "            \n",
            "               <LastName>Kohli</LastName>\n",
            "            \n",
            "               <ForeName>Marc</ForeName>\n",
            "            \n",
            "               <Initials>MD</Initials>\n",
            "         \n",
            "            </Author>\n",
            "         \n",
            "            <Author ValidYN=\"Y\">\n",
            "            \n",
            "               <LastName>Rosenman</LastName>\n",
            "            \n",
            "               <ForeName>Marc</ForeName>\n",
            "            \n",
            "               <Initials>M</Initials>\n",
            "         \n",
            "            </Author>\n",
            "      \n",
            "         </AuthorList>\n",
            "      \n",
            "         <Language>eng</Language>\n",
            "      \n",
            "         <PublicationTypeList>\n",
            "         \n",
            "            <PublicationType>Radiology Report</PublicationType>\n",
            "      \n",
            "         </PublicationTypeList>\n",
            "      \n",
            "         <ArticleDate>\n",
            "         \n",
            "            <Year>2013</Year>\n",
            "         \n",
            "            <Month>08</Month>\n",
            "         \n",
            "            <Day>01</Day>\n",
            "      \n",
            "         </ArticleDate>\n",
            "   \n",
            "      </Article>\n",
            "   \n",
            "      <EssieArticleTitle>Indiana University Chest X-ray Collection</EssieArticleTitle>\n",
            "   \n",
            "      <IMedAuthor>Marc David Kohli MD</IMedAuthor>\n",
            "   \n",
            "      <IMedAuthor>Marc Rosenman M</IMedAuthor>\n",
            "\n",
            "   </MedlineCitation>\n",
            "   <MeSH>\n",
            "   \n",
            "      <major>normal</major>\n",
            "\n",
            "   </MeSH>\n",
            "   <parentImage id=\"CXR1_1_IM-0001-3001\">\n",
            "      \n",
            "      \n",
            "      <figureId>F1</figureId>\n",
            "      \n",
            "      \n",
            "      <caption>Xray Chest PA and Lateral</caption>\n",
            "      \n",
            "      \n",
            "      <panel type=\"single\">\n",
            "         \n",
            "         \n",
            "         <url>/hadoop/storage/radiology/extract/CXR1_1_IM-0001-3001.jpg</url>\n",
            "         \n",
            "         \n",
            "         <imgModality>7</imgModality>\n",
            "         \n",
            "         \n",
            "         <region type=\"panel\">\n",
            "            \n",
            "            \n",
            "            <globalImageFeatures>\n",
            "               \n",
            "               \n",
            "               <CEDD>f2p0k1352</CEDD>\n",
            "               \n",
            "               \n",
            "               <ColorLayout>f1p0k36</ColorLayout>\n",
            "               \n",
            "               \n",
            "               <EdgeHistogram>f0p0k969</EdgeHistogram>\n",
            "               \n",
            "               \n",
            "               <FCTH>f4p0k2423</FCTH>\n",
            "               \n",
            "               \n",
            "               <SemanticContext60>f3p0k305</SemanticContext60>\n",
            "            \n",
            "            \n",
            "            </globalImageFeatures>\n",
            "         \n",
            "         \n",
            "         </region>\n",
            "      \n",
            "      \n",
            "      </panel>\n",
            "   \n",
            "   \n",
            "   </parentImage>\n",
            "   <parentImage id=\"CXR1_1_IM-0001-4001\">\n",
            "      \n",
            "      \n",
            "      <figureId>F2</figureId>\n",
            "      \n",
            "      \n",
            "      <caption>Xray Chest PA and Lateral</caption>\n",
            "      \n",
            "      \n",
            "      <panel type=\"single\">\n",
            "         \n",
            "         \n",
            "         <url>/hadoop/storage/radiology/extract/CXR1_1_IM-0001-4001.jpg</url>\n",
            "         \n",
            "         \n",
            "         <imgModality>7</imgModality>\n",
            "         \n",
            "         \n",
            "         <region type=\"panel\">\n",
            "            \n",
            "            \n",
            "            <globalImageFeatures>\n",
            "               \n",
            "               \n",
            "               <CEDD>f2p0k1013</CEDD>\n",
            "               \n",
            "               \n",
            "               <ColorLayout>f1p0k36</ColorLayout>\n",
            "               \n",
            "               \n",
            "               <EdgeHistogram>f0p0k184</EdgeHistogram>\n",
            "               \n",
            "               \n",
            "               <FCTH>f4p0k1133</FCTH>\n",
            "               \n",
            "               \n",
            "               <SemanticContext60>f3p0k277</SemanticContext60>\n",
            "            \n",
            "            \n",
            "            </globalImageFeatures>\n",
            "         \n",
            "         \n",
            "         </region>\n",
            "      \n",
            "      \n",
            "      </panel>\n",
            "   \n",
            "   \n",
            "   </parentImage>\n",
            "</eCitation>\n"
          ],
          "name": "stdout"
        }
      ]
    },
    {
      "cell_type": "code",
      "metadata": {
        "id": "jTfbszDHaPXE",
        "colab_type": "code",
        "colab": {}
      },
      "source": [
        ""
      ],
      "execution_count": 0,
      "outputs": []
    }
  ]
}