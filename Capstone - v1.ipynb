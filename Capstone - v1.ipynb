{
 "cells": [
  {
   "cell_type": "code",
   "execution_count": 29,
   "metadata": {},
   "outputs": [],
   "source": [
    "import xml.etree.ElementTree as ET\n",
    "import os"
   ]
  },
  {
   "cell_type": "code",
   "execution_count": 86,
   "metadata": {},
   "outputs": [],
   "source": [
    "path = os.chdir('D:\\\\Great Learning\\\\Capstone\\\\Chest Xray\\\\Reports\\\\ecgen-radiology\\\\')\n",
    "img_findings = []\n",
    "img_comparison = []\n",
    "img_indication = []\n",
    "img_impression = []\n",
    "for file in os.listdir(path):\n",
    "    parser = ET.XMLParser(encoding=\"utf-8\")\n",
    "    tree = ET.parse(file,parser=parser)\n",
    "    root = tree.getroot()\n",
    "    all_images = []\n",
    "   \n",
    "    for i in root.iter('parentImage'):\n",
    "        image_id = i.get('id')\n",
    "       \n",
    "        if not image_id is None:\n",
    "            #all_images.append(image_id)\n",
    "            for f in root.iter('AbstractText'):\n",
    "                # image and findings list\n",
    "                if f.get('Label') == 'FINDINGS':\n",
    "                    finding = f.text\n",
    "                    img_findings.append([image_id,f.text])\n",
    "                # image and comparison list    \n",
    "                if f.get('Label') == 'COMPARISON':\n",
    "                    comparison = f.text\n",
    "                    img_comparison.append([image_id,f.text])\n",
    "                # image and indication list    \n",
    "                if f.get('Label') == 'INDICATION':\n",
    "                    indication = f.text\n",
    "                    img_indication.append([image_id,f.text])\n",
    "                # image and impressions list    \n",
    "                if f.get('Label') == 'IMPRESSION':\n",
    "                    impression = f.text\n",
    "                    img_impression.append([image_id,f.text])\n",
    "                    \n",
    "            "
   ]
  },
  {
   "cell_type": "code",
   "execution_count": 96,
   "metadata": {},
   "outputs": [
    {
     "data": {
      "text/plain": [
       "[['CXR1_1_IM-0001-3001', 'Normal chest x-XXXX.']]"
      ]
     },
     "execution_count": 96,
     "metadata": {},
     "output_type": "execute_result"
    }
   ],
   "source": [
    "img_impression[0:1]"
   ]
  },
  {
   "cell_type": "code",
   "execution_count": null,
   "metadata": {},
   "outputs": [],
   "source": []
  },
  {
   "cell_type": "code",
   "execution_count": null,
   "metadata": {},
   "outputs": [],
   "source": []
  },
  {
   "cell_type": "code",
   "execution_count": 57,
   "metadata": {},
   "outputs": [
    {
     "ename": "AttributeError",
     "evalue": "'NoneType' object has no attribute 'get'",
     "output_type": "error",
     "traceback": [
      "\u001b[1;31m---------------------------------------------------------------------------\u001b[0m",
      "\u001b[1;31mAttributeError\u001b[0m                            Traceback (most recent call last)",
      "\u001b[1;32m<ipython-input-57-688f5fc0cb7d>\u001b[0m in \u001b[0;36m<module>\u001b[1;34m()\u001b[0m\n\u001b[0;32m      2\u001b[0m \u001b[0mt\u001b[0m \u001b[1;33m=\u001b[0m \u001b[0mET\u001b[0m\u001b[1;33m.\u001b[0m\u001b[0mparse\u001b[0m\u001b[1;33m(\u001b[0m\u001b[0mtest_file\u001b[0m\u001b[1;33m)\u001b[0m\u001b[1;33m\u001b[0m\u001b[1;33m\u001b[0m\u001b[0m\n\u001b[0;32m      3\u001b[0m \u001b[0mr\u001b[0m \u001b[1;33m=\u001b[0m \u001b[0mtree\u001b[0m\u001b[1;33m.\u001b[0m\u001b[0mgetroot\u001b[0m\u001b[1;33m(\u001b[0m\u001b[1;33m)\u001b[0m\u001b[1;33m\u001b[0m\u001b[1;33m\u001b[0m\u001b[0m\n\u001b[1;32m----> 4\u001b[1;33m \u001b[0mi\u001b[0m \u001b[1;33m=\u001b[0m \u001b[0mr\u001b[0m\u001b[1;33m.\u001b[0m\u001b[0mfind\u001b[0m\u001b[1;33m(\u001b[0m\u001b[1;34m'AbstractText'\u001b[0m\u001b[1;33m)\u001b[0m\u001b[1;33m.\u001b[0m\u001b[0mget\u001b[0m\u001b[1;33m(\u001b[0m\u001b[1;34m'id'\u001b[0m\u001b[1;33m)\u001b[0m\u001b[1;33m\u001b[0m\u001b[1;33m\u001b[0m\u001b[0m\n\u001b[0m\u001b[0;32m      5\u001b[0m \u001b[0mprint\u001b[0m\u001b[1;33m(\u001b[0m\u001b[0mi\u001b[0m\u001b[1;33m)\u001b[0m\u001b[1;33m\u001b[0m\u001b[1;33m\u001b[0m\u001b[0m\n",
      "\u001b[1;31mAttributeError\u001b[0m: 'NoneType' object has no attribute 'get'"
     ]
    }
   ],
   "source": [
    "test_file = 'D:\\\\Great Learning\\\\Capstone\\\\Chest Xray\\\\Reports\\\\ecgen-radiology\\\\1.xml'\n",
    "t = ET.parse(test_file)\n",
    "r = tree.getroot()\n",
    "i = r.find('AbstractText').get('id')\n",
    "print(i)"
   ]
  },
  {
   "cell_type": "code",
   "execution_count": null,
   "metadata": {},
   "outputs": [],
   "source": []
  },
  {
   "cell_type": "code",
   "execution_count": null,
   "metadata": {},
   "outputs": [],
   "source": []
  }
 ],
 "metadata": {
  "kernelspec": {
   "display_name": "Python 3",
   "language": "python",
   "name": "python3"
  },
  "language_info": {
   "codemirror_mode": {
    "name": "ipython",
    "version": 3
   },
   "file_extension": ".py",
   "mimetype": "text/x-python",
   "name": "python",
   "nbconvert_exporter": "python",
   "pygments_lexer": "ipython3",
   "version": "3.7.2"
  }
 },
 "nbformat": 4,
 "nbformat_minor": 2
}
