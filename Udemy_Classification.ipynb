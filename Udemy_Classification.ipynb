{
  "nbformat": 4,
  "nbformat_minor": 0,
  "metadata": {
    "colab": {
      "name": "Udemy - Classification.ipynb",
      "provenance": [],
      "collapsed_sections": [],
      "authorship_tag": "ABX9TyM+ljWbdLoAC9K8bi7WWUqr",
      "include_colab_link": true
    },
    "kernelspec": {
      "name": "python3",
      "display_name": "Python 3"
    }
  },
  "cells": [
    {
      "cell_type": "markdown",
      "metadata": {
        "id": "view-in-github",
        "colab_type": "text"
      },
      "source": [
        "<a href=\"https://colab.research.google.com/github/SaurabhPPatel/AIML-Saurabh/blob/master/Udemy_Classification.ipynb\" target=\"_parent\"><img src=\"https://colab.research.google.com/assets/colab-badge.svg\" alt=\"Open In Colab\"/></a>"
      ]
    },
    {
      "cell_type": "code",
      "metadata": {
        "id": "SZd5xz7fjVJu",
        "colab_type": "code",
        "colab": {
          "base_uri": "https://localhost:8080/",
          "height": 34
        },
        "outputId": "f03ff315-502e-4024-9d49-3f2eebb3282f"
      },
      "source": [
        "import tensorflow as tf\n",
        "print(tf.__version__)"
      ],
      "execution_count": 2,
      "outputs": [
        {
          "output_type": "stream",
          "text": [
            "2.3.0\n"
          ],
          "name": "stdout"
        }
      ]
    },
    {
      "cell_type": "code",
      "metadata": {
        "id": "ZEi5nWyZje5p",
        "colab_type": "code",
        "colab": {}
      },
      "source": [
        "from sklearn.datasets import load_breast_cancer"
      ],
      "execution_count": 3,
      "outputs": []
    },
    {
      "cell_type": "code",
      "metadata": {
        "id": "IYDCLxqjkxTc",
        "colab_type": "code",
        "colab": {}
      },
      "source": [
        "data = load_breast_cancer()"
      ],
      "execution_count": 4,
      "outputs": []
    },
    {
      "cell_type": "code",
      "metadata": {
        "id": "WUGmGCsZk0RA",
        "colab_type": "code",
        "colab": {
          "base_uri": "https://localhost:8080/",
          "height": 34
        },
        "outputId": "d6faae1d-4e6a-40d8-8071-b80faa326133"
      },
      "source": [
        "type(data)"
      ],
      "execution_count": 8,
      "outputs": [
        {
          "output_type": "execute_result",
          "data": {
            "text/plain": [
              "sklearn.utils.Bunch"
            ]
          },
          "metadata": {
            "tags": []
          },
          "execution_count": 8
        }
      ]
    },
    {
      "cell_type": "code",
      "metadata": {
        "id": "PK9alIdSk2U8",
        "colab_type": "code",
        "colab": {
          "base_uri": "https://localhost:8080/",
          "height": 34
        },
        "outputId": "78538022-f5e2-4938-bdf1-5e8fe75d502e"
      },
      "source": [
        "data.keys()"
      ],
      "execution_count": 9,
      "outputs": [
        {
          "output_type": "execute_result",
          "data": {
            "text/plain": [
              "dict_keys(['data', 'target', 'target_names', 'DESCR', 'feature_names', 'filename'])"
            ]
          },
          "metadata": {
            "tags": []
          },
          "execution_count": 9
        }
      ]
    },
    {
      "cell_type": "code",
      "metadata": {
        "id": "h1tl1djXlZ7b",
        "colab_type": "code",
        "colab": {
          "base_uri": "https://localhost:8080/",
          "height": 185
        },
        "outputId": "d2213822-72af-40d3-9583-9a41e49e036f"
      },
      "source": [
        "data.feature_names"
      ],
      "execution_count": 10,
      "outputs": [
        {
          "output_type": "execute_result",
          "data": {
            "text/plain": [
              "array(['mean radius', 'mean texture', 'mean perimeter', 'mean area',\n",
              "       'mean smoothness', 'mean compactness', 'mean concavity',\n",
              "       'mean concave points', 'mean symmetry', 'mean fractal dimension',\n",
              "       'radius error', 'texture error', 'perimeter error', 'area error',\n",
              "       'smoothness error', 'compactness error', 'concavity error',\n",
              "       'concave points error', 'symmetry error',\n",
              "       'fractal dimension error', 'worst radius', 'worst texture',\n",
              "       'worst perimeter', 'worst area', 'worst smoothness',\n",
              "       'worst compactness', 'worst concavity', 'worst concave points',\n",
              "       'worst symmetry', 'worst fractal dimension'], dtype='<U23')"
            ]
          },
          "metadata": {
            "tags": []
          },
          "execution_count": 10
        }
      ]
    },
    {
      "cell_type": "code",
      "metadata": {
        "id": "k_tUVpBgldw8",
        "colab_type": "code",
        "colab": {
          "base_uri": "https://localhost:8080/",
          "height": 454
        },
        "outputId": "61110946-fde3-4b20-cd97-4efb53f70646"
      },
      "source": [
        "data.target"
      ],
      "execution_count": 11,
      "outputs": [
        {
          "output_type": "execute_result",
          "data": {
            "text/plain": [
              "array([0, 0, 0, 0, 0, 0, 0, 0, 0, 0, 0, 0, 0, 0, 0, 0, 0, 0, 0, 1, 1, 1,\n",
              "       0, 0, 0, 0, 0, 0, 0, 0, 0, 0, 0, 0, 0, 0, 0, 1, 0, 0, 0, 0, 0, 0,\n",
              "       0, 0, 1, 0, 1, 1, 1, 1, 1, 0, 0, 1, 0, 0, 1, 1, 1, 1, 0, 1, 0, 0,\n",
              "       1, 1, 1, 1, 0, 1, 0, 0, 1, 0, 1, 0, 0, 1, 1, 1, 0, 0, 1, 0, 0, 0,\n",
              "       1, 1, 1, 0, 1, 1, 0, 0, 1, 1, 1, 0, 0, 1, 1, 1, 1, 0, 1, 1, 0, 1,\n",
              "       1, 1, 1, 1, 1, 1, 1, 0, 0, 0, 1, 0, 0, 1, 1, 1, 0, 0, 1, 0, 1, 0,\n",
              "       0, 1, 0, 0, 1, 1, 0, 1, 1, 0, 1, 1, 1, 1, 0, 1, 1, 1, 1, 1, 1, 1,\n",
              "       1, 1, 0, 1, 1, 1, 1, 0, 0, 1, 0, 1, 1, 0, 0, 1, 1, 0, 0, 1, 1, 1,\n",
              "       1, 0, 1, 1, 0, 0, 0, 1, 0, 1, 0, 1, 1, 1, 0, 1, 1, 0, 0, 1, 0, 0,\n",
              "       0, 0, 1, 0, 0, 0, 1, 0, 1, 0, 1, 1, 0, 1, 0, 0, 0, 0, 1, 1, 0, 0,\n",
              "       1, 1, 1, 0, 1, 1, 1, 1, 1, 0, 0, 1, 1, 0, 1, 1, 0, 0, 1, 0, 1, 1,\n",
              "       1, 1, 0, 1, 1, 1, 1, 1, 0, 1, 0, 0, 0, 0, 0, 0, 0, 0, 0, 0, 0, 0,\n",
              "       0, 0, 1, 1, 1, 1, 1, 1, 0, 1, 0, 1, 1, 0, 1, 1, 0, 1, 0, 0, 1, 1,\n",
              "       1, 1, 1, 1, 1, 1, 1, 1, 1, 1, 1, 0, 1, 1, 0, 1, 0, 1, 1, 1, 1, 1,\n",
              "       1, 1, 1, 1, 1, 1, 1, 1, 1, 0, 1, 1, 1, 0, 1, 0, 1, 1, 1, 1, 0, 0,\n",
              "       0, 1, 1, 1, 1, 0, 1, 0, 1, 0, 1, 1, 1, 0, 1, 1, 1, 1, 1, 1, 1, 0,\n",
              "       0, 0, 1, 1, 1, 1, 1, 1, 1, 1, 1, 1, 1, 0, 0, 1, 0, 0, 0, 1, 0, 0,\n",
              "       1, 1, 1, 1, 1, 0, 1, 1, 1, 1, 1, 0, 1, 1, 1, 0, 1, 1, 0, 0, 1, 1,\n",
              "       1, 1, 1, 1, 0, 1, 1, 1, 1, 1, 1, 1, 0, 1, 1, 1, 1, 1, 0, 1, 1, 0,\n",
              "       1, 1, 1, 1, 1, 1, 1, 1, 1, 1, 1, 1, 0, 1, 0, 0, 1, 0, 1, 1, 1, 1,\n",
              "       1, 0, 1, 1, 0, 1, 0, 1, 1, 0, 1, 0, 1, 1, 1, 1, 1, 1, 1, 1, 0, 0,\n",
              "       1, 1, 1, 1, 1, 1, 0, 1, 1, 1, 1, 1, 1, 1, 1, 1, 1, 0, 1, 1, 1, 1,\n",
              "       1, 1, 1, 0, 1, 0, 1, 1, 0, 1, 1, 1, 1, 1, 0, 0, 1, 0, 1, 0, 1, 1,\n",
              "       1, 1, 1, 0, 1, 1, 0, 1, 0, 1, 0, 0, 1, 1, 1, 0, 1, 1, 1, 1, 1, 1,\n",
              "       1, 1, 1, 1, 1, 0, 1, 0, 0, 1, 1, 1, 1, 1, 1, 1, 1, 1, 1, 1, 1, 1,\n",
              "       1, 1, 1, 1, 1, 1, 1, 1, 1, 1, 1, 1, 0, 0, 0, 0, 0, 0, 1])"
            ]
          },
          "metadata": {
            "tags": []
          },
          "execution_count": 11
        }
      ]
    },
    {
      "cell_type": "code",
      "metadata": {
        "id": "OYN-LIkPliuH",
        "colab_type": "code",
        "colab": {
          "base_uri": "https://localhost:8080/",
          "height": 34
        },
        "outputId": "6ae72c17-5fdc-4d28-c969-456e8cf41c9c"
      },
      "source": [
        "data.target_names"
      ],
      "execution_count": 12,
      "outputs": [
        {
          "output_type": "execute_result",
          "data": {
            "text/plain": [
              "array(['malignant', 'benign'], dtype='<U9')"
            ]
          },
          "metadata": {
            "tags": []
          },
          "execution_count": 12
        }
      ]
    },
    {
      "cell_type": "code",
      "metadata": {
        "id": "r3laGfZ9llBq",
        "colab_type": "code",
        "colab": {
          "base_uri": "https://localhost:8080/",
          "height": 34
        },
        "outputId": "7f0429d2-7bbc-4b06-fa31-39ca4eb4f979"
      },
      "source": [
        "data.feature_names.shape"
      ],
      "execution_count": 13,
      "outputs": [
        {
          "output_type": "execute_result",
          "data": {
            "text/plain": [
              "(30,)"
            ]
          },
          "metadata": {
            "tags": []
          },
          "execution_count": 13
        }
      ]
    },
    {
      "cell_type": "code",
      "metadata": {
        "id": "fyMIR5XSlvCH",
        "colab_type": "code",
        "colab": {
          "base_uri": "https://localhost:8080/",
          "height": 34
        },
        "outputId": "8862d773-6171-4731-c6e7-8c42fe8f95f2"
      },
      "source": [
        "data.target.shape"
      ],
      "execution_count": 14,
      "outputs": [
        {
          "output_type": "execute_result",
          "data": {
            "text/plain": [
              "(569,)"
            ]
          },
          "metadata": {
            "tags": []
          },
          "execution_count": 14
        }
      ]
    },
    {
      "cell_type": "code",
      "metadata": {
        "id": "3Drz_cZFlzbb",
        "colab_type": "code",
        "colab": {
          "base_uri": "https://localhost:8080/",
          "height": 34
        },
        "outputId": "53ff0597-ee19-49cb-f9e2-410a627fb8b5"
      },
      "source": [
        "data.data.shape"
      ],
      "execution_count": 15,
      "outputs": [
        {
          "output_type": "execute_result",
          "data": {
            "text/plain": [
              "(569, 30)"
            ]
          },
          "metadata": {
            "tags": []
          },
          "execution_count": 15
        }
      ]
    },
    {
      "cell_type": "code",
      "metadata": {
        "id": "dwXzlFqfl6XR",
        "colab_type": "code",
        "colab": {}
      },
      "source": [
        "from sklearn.model_selection import train_test_split"
      ],
      "execution_count": 16,
      "outputs": []
    },
    {
      "cell_type": "code",
      "metadata": {
        "id": "fDPliFojnLgr",
        "colab_type": "code",
        "colab": {}
      },
      "source": [
        "x_train,x_test,y_train,y_test = train_test_split(data.data,data.target,test_size=0.33)"
      ],
      "execution_count": 17,
      "outputs": []
    },
    {
      "cell_type": "code",
      "metadata": {
        "id": "JMtsGzwqqy5W",
        "colab_type": "code",
        "colab": {}
      },
      "source": [
        "from sklearn.preprocessing import StandardScaler"
      ],
      "execution_count": 23,
      "outputs": []
    },
    {
      "cell_type": "code",
      "metadata": {
        "id": "32iyhpbfrCic",
        "colab_type": "code",
        "colab": {}
      },
      "source": [
        "scalar = StandardScaler()"
      ],
      "execution_count": 24,
      "outputs": []
    },
    {
      "cell_type": "code",
      "metadata": {
        "id": "RPTF7MnysB4W",
        "colab_type": "code",
        "colab": {}
      },
      "source": [
        "x_train = scalar.fit_transform(x_train)\n",
        "x_test = scalar.transform(x_test)"
      ],
      "execution_count": 26,
      "outputs": []
    },
    {
      "cell_type": "code",
      "metadata": {
        "id": "1ac5zE0NyfTC",
        "colab_type": "code",
        "colab": {}
      },
      "source": [
        "N,D=x_train.shape"
      ],
      "execution_count": 28,
      "outputs": []
    },
    {
      "cell_type": "code",
      "metadata": {
        "id": "2QK4yNE_t-xB",
        "colab_type": "code",
        "colab": {}
      },
      "source": [
        "model = tf.keras.models.Sequential()\n",
        "model.add(tf.keras.layers.Dense(1,input_shape=(D,),activation='sigmoid'))"
      ],
      "execution_count": 29,
      "outputs": []
    },
    {
      "cell_type": "code",
      "metadata": {
        "id": "9UDEemIxyXuF",
        "colab_type": "code",
        "colab": {}
      },
      "source": [
        "model.compile(optimizer='adam',loss='binary_crossentropy',metrics=['accuracy'])"
      ],
      "execution_count": 30,
      "outputs": []
    },
    {
      "cell_type": "code",
      "metadata": {
        "id": "UeA5kdgvzC5E",
        "colab_type": "code",
        "colab": {
          "base_uri": "https://localhost:8080/",
          "height": 1000
        },
        "outputId": "431530f6-85f0-438e-b67c-2b43fda2031a"
      },
      "source": [
        "r = model.fit(x_train,y_train,epochs=100,validation_data=(x_test,y_test))"
      ],
      "execution_count": 32,
      "outputs": [
        {
          "output_type": "stream",
          "text": [
            "Epoch 1/100\n",
            "12/12 [==============================] - 0s 15ms/step - loss: 0.3334 - accuracy: 0.8635 - val_loss: 56.0108 - val_accuracy: 0.2713\n",
            "Epoch 2/100\n",
            "12/12 [==============================] - 0s 3ms/step - loss: 0.3109 - accuracy: 0.8793 - val_loss: 49.6511 - val_accuracy: 0.1436\n",
            "Epoch 3/100\n",
            "12/12 [==============================] - 0s 4ms/step - loss: 0.2918 - accuracy: 0.8950 - val_loss: 46.0535 - val_accuracy: 0.1064\n",
            "Epoch 4/100\n",
            "12/12 [==============================] - 0s 3ms/step - loss: 0.2750 - accuracy: 0.9003 - val_loss: 44.9443 - val_accuracy: 0.1862\n",
            "Epoch 5/100\n",
            "12/12 [==============================] - 0s 3ms/step - loss: 0.2605 - accuracy: 0.9108 - val_loss: 46.3346 - val_accuracy: 0.2606\n",
            "Epoch 6/100\n",
            "12/12 [==============================] - 0s 3ms/step - loss: 0.2477 - accuracy: 0.9239 - val_loss: 49.3648 - val_accuracy: 0.3032\n",
            "Epoch 7/100\n",
            "12/12 [==============================] - 0s 3ms/step - loss: 0.2363 - accuracy: 0.9265 - val_loss: 53.4805 - val_accuracy: 0.3404\n",
            "Epoch 8/100\n",
            "12/12 [==============================] - 0s 3ms/step - loss: 0.2257 - accuracy: 0.9265 - val_loss: 58.2045 - val_accuracy: 0.3617\n",
            "Epoch 9/100\n",
            "12/12 [==============================] - 0s 3ms/step - loss: 0.2169 - accuracy: 0.9291 - val_loss: 63.3016 - val_accuracy: 0.3830\n",
            "Epoch 10/100\n",
            "12/12 [==============================] - 0s 3ms/step - loss: 0.2087 - accuracy: 0.9344 - val_loss: 68.8581 - val_accuracy: 0.3883\n",
            "Epoch 11/100\n",
            "12/12 [==============================] - 0s 4ms/step - loss: 0.2012 - accuracy: 0.9396 - val_loss: 74.0695 - val_accuracy: 0.3989\n",
            "Epoch 12/100\n",
            "12/12 [==============================] - 0s 3ms/step - loss: 0.1945 - accuracy: 0.9423 - val_loss: 79.5322 - val_accuracy: 0.3989\n",
            "Epoch 13/100\n",
            "12/12 [==============================] - 0s 3ms/step - loss: 0.1882 - accuracy: 0.9423 - val_loss: 84.7524 - val_accuracy: 0.3989\n",
            "Epoch 14/100\n",
            "12/12 [==============================] - 0s 3ms/step - loss: 0.1826 - accuracy: 0.9449 - val_loss: 89.8338 - val_accuracy: 0.3989\n",
            "Epoch 15/100\n",
            "12/12 [==============================] - 0s 3ms/step - loss: 0.1773 - accuracy: 0.9501 - val_loss: 94.6973 - val_accuracy: 0.3989\n",
            "Epoch 16/100\n",
            "12/12 [==============================] - 0s 3ms/step - loss: 0.1725 - accuracy: 0.9501 - val_loss: 99.5186 - val_accuracy: 0.4043\n",
            "Epoch 17/100\n",
            "12/12 [==============================] - 0s 3ms/step - loss: 0.1681 - accuracy: 0.9501 - val_loss: 104.6021 - val_accuracy: 0.4096\n",
            "Epoch 18/100\n",
            "12/12 [==============================] - 0s 3ms/step - loss: 0.1638 - accuracy: 0.9501 - val_loss: 109.4726 - val_accuracy: 0.4096\n",
            "Epoch 19/100\n",
            "12/12 [==============================] - 0s 3ms/step - loss: 0.1599 - accuracy: 0.9501 - val_loss: 114.2172 - val_accuracy: 0.4096\n",
            "Epoch 20/100\n",
            "12/12 [==============================] - 0s 3ms/step - loss: 0.1562 - accuracy: 0.9501 - val_loss: 118.7657 - val_accuracy: 0.4096\n",
            "Epoch 21/100\n",
            "12/12 [==============================] - 0s 3ms/step - loss: 0.1529 - accuracy: 0.9528 - val_loss: 123.2606 - val_accuracy: 0.4096\n",
            "Epoch 22/100\n",
            "12/12 [==============================] - 0s 3ms/step - loss: 0.1496 - accuracy: 0.9554 - val_loss: 127.6743 - val_accuracy: 0.4096\n",
            "Epoch 23/100\n",
            "12/12 [==============================] - 0s 3ms/step - loss: 0.1465 - accuracy: 0.9606 - val_loss: 131.8151 - val_accuracy: 0.4096\n",
            "Epoch 24/100\n",
            "12/12 [==============================] - 0s 4ms/step - loss: 0.1437 - accuracy: 0.9606 - val_loss: 136.0552 - val_accuracy: 0.4096\n",
            "Epoch 25/100\n",
            "12/12 [==============================] - 0s 3ms/step - loss: 0.1410 - accuracy: 0.9606 - val_loss: 140.1344 - val_accuracy: 0.4096\n",
            "Epoch 26/100\n",
            "12/12 [==============================] - 0s 3ms/step - loss: 0.1384 - accuracy: 0.9606 - val_loss: 144.1366 - val_accuracy: 0.4096\n",
            "Epoch 27/100\n",
            "12/12 [==============================] - 0s 3ms/step - loss: 0.1360 - accuracy: 0.9606 - val_loss: 148.0559 - val_accuracy: 0.4096\n",
            "Epoch 28/100\n",
            "12/12 [==============================] - 0s 3ms/step - loss: 0.1336 - accuracy: 0.9606 - val_loss: 151.8796 - val_accuracy: 0.4096\n",
            "Epoch 29/100\n",
            "12/12 [==============================] - 0s 3ms/step - loss: 0.1315 - accuracy: 0.9606 - val_loss: 155.7740 - val_accuracy: 0.4096\n",
            "Epoch 30/100\n",
            "12/12 [==============================] - 0s 3ms/step - loss: 0.1294 - accuracy: 0.9606 - val_loss: 159.5595 - val_accuracy: 0.4096\n",
            "Epoch 31/100\n",
            "12/12 [==============================] - 0s 3ms/step - loss: 0.1274 - accuracy: 0.9633 - val_loss: 163.1250 - val_accuracy: 0.4096\n",
            "Epoch 32/100\n",
            "12/12 [==============================] - 0s 3ms/step - loss: 0.1256 - accuracy: 0.9659 - val_loss: 166.7901 - val_accuracy: 0.4096\n",
            "Epoch 33/100\n",
            "12/12 [==============================] - 0s 3ms/step - loss: 0.1237 - accuracy: 0.9659 - val_loss: 170.0546 - val_accuracy: 0.4096\n",
            "Epoch 34/100\n",
            "12/12 [==============================] - 0s 3ms/step - loss: 0.1220 - accuracy: 0.9659 - val_loss: 173.5644 - val_accuracy: 0.4096\n",
            "Epoch 35/100\n",
            "12/12 [==============================] - 0s 3ms/step - loss: 0.1203 - accuracy: 0.9659 - val_loss: 176.9848 - val_accuracy: 0.4096\n",
            "Epoch 36/100\n",
            "12/12 [==============================] - 0s 3ms/step - loss: 0.1187 - accuracy: 0.9659 - val_loss: 180.3402 - val_accuracy: 0.4096\n",
            "Epoch 37/100\n",
            "12/12 [==============================] - 0s 3ms/step - loss: 0.1172 - accuracy: 0.9659 - val_loss: 183.4672 - val_accuracy: 0.4096\n",
            "Epoch 38/100\n",
            "12/12 [==============================] - 0s 3ms/step - loss: 0.1158 - accuracy: 0.9659 - val_loss: 186.8329 - val_accuracy: 0.4096\n",
            "Epoch 39/100\n",
            "12/12 [==============================] - 0s 3ms/step - loss: 0.1144 - accuracy: 0.9685 - val_loss: 189.9369 - val_accuracy: 0.4096\n",
            "Epoch 40/100\n",
            "12/12 [==============================] - 0s 3ms/step - loss: 0.1130 - accuracy: 0.9685 - val_loss: 193.1134 - val_accuracy: 0.4096\n",
            "Epoch 41/100\n",
            "12/12 [==============================] - 0s 3ms/step - loss: 0.1117 - accuracy: 0.9685 - val_loss: 195.9960 - val_accuracy: 0.4096\n",
            "Epoch 42/100\n",
            "12/12 [==============================] - 0s 3ms/step - loss: 0.1105 - accuracy: 0.9685 - val_loss: 199.3359 - val_accuracy: 0.4096\n",
            "Epoch 43/100\n",
            "12/12 [==============================] - 0s 3ms/step - loss: 0.1093 - accuracy: 0.9685 - val_loss: 202.4067 - val_accuracy: 0.4096\n",
            "Epoch 44/100\n",
            "12/12 [==============================] - 0s 3ms/step - loss: 0.1081 - accuracy: 0.9685 - val_loss: 205.2370 - val_accuracy: 0.4096\n",
            "Epoch 45/100\n",
            "12/12 [==============================] - 0s 3ms/step - loss: 0.1070 - accuracy: 0.9685 - val_loss: 208.0070 - val_accuracy: 0.4096\n",
            "Epoch 46/100\n",
            "12/12 [==============================] - 0s 4ms/step - loss: 0.1059 - accuracy: 0.9685 - val_loss: 210.8082 - val_accuracy: 0.4096\n",
            "Epoch 47/100\n",
            "12/12 [==============================] - 0s 3ms/step - loss: 0.1049 - accuracy: 0.9659 - val_loss: 213.5627 - val_accuracy: 0.4096\n",
            "Epoch 48/100\n",
            "12/12 [==============================] - 0s 3ms/step - loss: 0.1038 - accuracy: 0.9659 - val_loss: 216.4043 - val_accuracy: 0.4096\n",
            "Epoch 49/100\n",
            "12/12 [==============================] - 0s 4ms/step - loss: 0.1028 - accuracy: 0.9659 - val_loss: 219.1344 - val_accuracy: 0.4096\n",
            "Epoch 50/100\n",
            "12/12 [==============================] - 0s 3ms/step - loss: 0.1019 - accuracy: 0.9659 - val_loss: 221.8715 - val_accuracy: 0.4096\n",
            "Epoch 51/100\n",
            "12/12 [==============================] - 0s 4ms/step - loss: 0.1009 - accuracy: 0.9659 - val_loss: 224.5946 - val_accuracy: 0.4096\n",
            "Epoch 52/100\n",
            "12/12 [==============================] - 0s 3ms/step - loss: 0.1001 - accuracy: 0.9659 - val_loss: 227.2691 - val_accuracy: 0.4096\n",
            "Epoch 53/100\n",
            "12/12 [==============================] - 0s 3ms/step - loss: 0.0992 - accuracy: 0.9659 - val_loss: 229.7278 - val_accuracy: 0.4096\n",
            "Epoch 54/100\n",
            "12/12 [==============================] - 0s 3ms/step - loss: 0.0984 - accuracy: 0.9659 - val_loss: 232.3751 - val_accuracy: 0.4096\n",
            "Epoch 55/100\n",
            "12/12 [==============================] - 0s 4ms/step - loss: 0.0976 - accuracy: 0.9659 - val_loss: 234.9399 - val_accuracy: 0.4096\n",
            "Epoch 56/100\n",
            "12/12 [==============================] - 0s 4ms/step - loss: 0.0968 - accuracy: 0.9659 - val_loss: 237.4617 - val_accuracy: 0.4096\n",
            "Epoch 57/100\n",
            "12/12 [==============================] - 0s 4ms/step - loss: 0.0960 - accuracy: 0.9659 - val_loss: 240.0504 - val_accuracy: 0.4096\n",
            "Epoch 58/100\n",
            "12/12 [==============================] - 0s 3ms/step - loss: 0.0953 - accuracy: 0.9659 - val_loss: 242.6064 - val_accuracy: 0.4096\n",
            "Epoch 59/100\n",
            "12/12 [==============================] - 0s 3ms/step - loss: 0.0945 - accuracy: 0.9659 - val_loss: 244.8127 - val_accuracy: 0.4096\n",
            "Epoch 60/100\n",
            "12/12 [==============================] - 0s 3ms/step - loss: 0.0938 - accuracy: 0.9659 - val_loss: 247.2912 - val_accuracy: 0.4096\n",
            "Epoch 61/100\n",
            "12/12 [==============================] - 0s 3ms/step - loss: 0.0931 - accuracy: 0.9659 - val_loss: 249.6635 - val_accuracy: 0.4096\n",
            "Epoch 62/100\n",
            "12/12 [==============================] - 0s 3ms/step - loss: 0.0925 - accuracy: 0.9685 - val_loss: 252.0413 - val_accuracy: 0.4096\n",
            "Epoch 63/100\n",
            "12/12 [==============================] - 0s 3ms/step - loss: 0.0918 - accuracy: 0.9685 - val_loss: 254.5003 - val_accuracy: 0.4096\n",
            "Epoch 64/100\n",
            "12/12 [==============================] - 0s 3ms/step - loss: 0.0912 - accuracy: 0.9685 - val_loss: 256.5563 - val_accuracy: 0.4096\n",
            "Epoch 65/100\n",
            "12/12 [==============================] - 0s 3ms/step - loss: 0.0905 - accuracy: 0.9685 - val_loss: 258.8739 - val_accuracy: 0.4096\n",
            "Epoch 66/100\n",
            "12/12 [==============================] - 0s 3ms/step - loss: 0.0900 - accuracy: 0.9685 - val_loss: 261.2815 - val_accuracy: 0.4096\n",
            "Epoch 67/100\n",
            "12/12 [==============================] - 0s 3ms/step - loss: 0.0894 - accuracy: 0.9685 - val_loss: 263.2984 - val_accuracy: 0.4096\n",
            "Epoch 68/100\n",
            "12/12 [==============================] - 0s 3ms/step - loss: 0.0888 - accuracy: 0.9685 - val_loss: 265.5562 - val_accuracy: 0.4096\n",
            "Epoch 69/100\n",
            "12/12 [==============================] - 0s 3ms/step - loss: 0.0883 - accuracy: 0.9685 - val_loss: 267.7918 - val_accuracy: 0.4096\n",
            "Epoch 70/100\n",
            "12/12 [==============================] - 0s 3ms/step - loss: 0.0877 - accuracy: 0.9711 - val_loss: 269.7621 - val_accuracy: 0.4096\n",
            "Epoch 71/100\n",
            "12/12 [==============================] - 0s 5ms/step - loss: 0.0872 - accuracy: 0.9711 - val_loss: 271.8827 - val_accuracy: 0.4096\n",
            "Epoch 72/100\n",
            "12/12 [==============================] - 0s 3ms/step - loss: 0.0866 - accuracy: 0.9711 - val_loss: 274.2213 - val_accuracy: 0.4096\n",
            "Epoch 73/100\n",
            "12/12 [==============================] - 0s 3ms/step - loss: 0.0861 - accuracy: 0.9711 - val_loss: 276.2138 - val_accuracy: 0.4096\n",
            "Epoch 74/100\n",
            "12/12 [==============================] - 0s 3ms/step - loss: 0.0856 - accuracy: 0.9738 - val_loss: 278.3455 - val_accuracy: 0.4096\n",
            "Epoch 75/100\n",
            "12/12 [==============================] - 0s 3ms/step - loss: 0.0852 - accuracy: 0.9738 - val_loss: 280.5510 - val_accuracy: 0.4096\n",
            "Epoch 76/100\n",
            "12/12 [==============================] - 0s 3ms/step - loss: 0.0847 - accuracy: 0.9738 - val_loss: 282.5051 - val_accuracy: 0.4096\n",
            "Epoch 77/100\n",
            "12/12 [==============================] - 0s 4ms/step - loss: 0.0842 - accuracy: 0.9738 - val_loss: 284.2957 - val_accuracy: 0.4096\n",
            "Epoch 78/100\n",
            "12/12 [==============================] - 0s 3ms/step - loss: 0.0837 - accuracy: 0.9738 - val_loss: 286.3334 - val_accuracy: 0.4096\n",
            "Epoch 79/100\n",
            "12/12 [==============================] - 0s 3ms/step - loss: 0.0833 - accuracy: 0.9738 - val_loss: 288.3288 - val_accuracy: 0.4096\n",
            "Epoch 80/100\n",
            "12/12 [==============================] - 0s 3ms/step - loss: 0.0829 - accuracy: 0.9738 - val_loss: 290.3061 - val_accuracy: 0.4096\n",
            "Epoch 81/100\n",
            "12/12 [==============================] - 0s 3ms/step - loss: 0.0824 - accuracy: 0.9738 - val_loss: 292.4387 - val_accuracy: 0.4096\n",
            "Epoch 82/100\n",
            "12/12 [==============================] - 0s 3ms/step - loss: 0.0820 - accuracy: 0.9738 - val_loss: 294.3324 - val_accuracy: 0.4096\n",
            "Epoch 83/100\n",
            "12/12 [==============================] - 0s 3ms/step - loss: 0.0816 - accuracy: 0.9764 - val_loss: 296.2379 - val_accuracy: 0.4096\n",
            "Epoch 84/100\n",
            "12/12 [==============================] - 0s 3ms/step - loss: 0.0812 - accuracy: 0.9764 - val_loss: 298.1346 - val_accuracy: 0.4096\n",
            "Epoch 85/100\n",
            "12/12 [==============================] - 0s 3ms/step - loss: 0.0808 - accuracy: 0.9764 - val_loss: 299.9764 - val_accuracy: 0.4096\n",
            "Epoch 86/100\n",
            "12/12 [==============================] - 0s 3ms/step - loss: 0.0804 - accuracy: 0.9764 - val_loss: 301.8893 - val_accuracy: 0.4096\n",
            "Epoch 87/100\n",
            "12/12 [==============================] - 0s 3ms/step - loss: 0.0800 - accuracy: 0.9764 - val_loss: 303.5804 - val_accuracy: 0.4096\n",
            "Epoch 88/100\n",
            "12/12 [==============================] - 0s 3ms/step - loss: 0.0796 - accuracy: 0.9764 - val_loss: 305.5493 - val_accuracy: 0.4096\n",
            "Epoch 89/100\n",
            "12/12 [==============================] - 0s 4ms/step - loss: 0.0793 - accuracy: 0.9764 - val_loss: 307.2238 - val_accuracy: 0.4096\n",
            "Epoch 90/100\n",
            "12/12 [==============================] - 0s 3ms/step - loss: 0.0789 - accuracy: 0.9764 - val_loss: 308.9806 - val_accuracy: 0.4096\n",
            "Epoch 91/100\n",
            "12/12 [==============================] - 0s 3ms/step - loss: 0.0786 - accuracy: 0.9764 - val_loss: 310.9532 - val_accuracy: 0.4096\n",
            "Epoch 92/100\n",
            "12/12 [==============================] - 0s 3ms/step - loss: 0.0782 - accuracy: 0.9764 - val_loss: 312.6573 - val_accuracy: 0.4096\n",
            "Epoch 93/100\n",
            "12/12 [==============================] - 0s 4ms/step - loss: 0.0779 - accuracy: 0.9764 - val_loss: 314.3461 - val_accuracy: 0.4096\n",
            "Epoch 94/100\n",
            "12/12 [==============================] - 0s 4ms/step - loss: 0.0775 - accuracy: 0.9764 - val_loss: 316.1099 - val_accuracy: 0.4096\n",
            "Epoch 95/100\n",
            "12/12 [==============================] - 0s 4ms/step - loss: 0.0772 - accuracy: 0.9764 - val_loss: 317.7838 - val_accuracy: 0.4096\n",
            "Epoch 96/100\n",
            "12/12 [==============================] - 0s 3ms/step - loss: 0.0769 - accuracy: 0.9764 - val_loss: 319.6159 - val_accuracy: 0.4096\n",
            "Epoch 97/100\n",
            "12/12 [==============================] - 0s 3ms/step - loss: 0.0766 - accuracy: 0.9764 - val_loss: 321.3151 - val_accuracy: 0.4096\n",
            "Epoch 98/100\n",
            "12/12 [==============================] - 0s 3ms/step - loss: 0.0762 - accuracy: 0.9764 - val_loss: 322.7911 - val_accuracy: 0.4096\n",
            "Epoch 99/100\n",
            "12/12 [==============================] - 0s 4ms/step - loss: 0.0760 - accuracy: 0.9764 - val_loss: 324.6788 - val_accuracy: 0.4096\n",
            "Epoch 100/100\n",
            "12/12 [==============================] - 0s 3ms/step - loss: 0.0756 - accuracy: 0.9764 - val_loss: 326.4004 - val_accuracy: 0.4096\n"
          ],
          "name": "stdout"
        }
      ]
    },
    {
      "cell_type": "code",
      "metadata": {
        "id": "WzLE3bu50MvQ",
        "colab_type": "code",
        "colab": {
          "base_uri": "https://localhost:8080/",
          "height": 50
        },
        "outputId": "eb415967-6fca-4c9f-fbb6-c4d7e3561dc1"
      },
      "source": [
        "print(model.evaluate(x_train,y_train))"
      ],
      "execution_count": 34,
      "outputs": [
        {
          "output_type": "stream",
          "text": [
            "12/12 [==============================] - 0s 1ms/step - loss: 0.0754 - accuracy: 0.9764\n",
            "[0.07542495429515839, 0.9763779640197754]\n"
          ],
          "name": "stdout"
        }
      ]
    },
    {
      "cell_type": "code",
      "metadata": {
        "id": "cvfYasmJ1EKF",
        "colab_type": "code",
        "colab": {
          "base_uri": "https://localhost:8080/",
          "height": 50
        },
        "outputId": "bf5876e0-1e99-472d-85b9-128e49906255"
      },
      "source": [
        "print(model.evaluate(x_test,y_test))"
      ],
      "execution_count": 36,
      "outputs": [
        {
          "output_type": "stream",
          "text": [
            "6/6 [==============================] - 0s 2ms/step - loss: 326.4004 - accuracy: 0.4096\n",
            "[326.4003601074219, 0.4095744788646698]\n"
          ],
          "name": "stdout"
        }
      ]
    },
    {
      "cell_type": "code",
      "metadata": {
        "id": "FUjV_4-b1Nzf",
        "colab_type": "code",
        "colab": {}
      },
      "source": [
        ""
      ],
      "execution_count": null,
      "outputs": []
    }
  ]
}